{
 "cells": [
  {
   "cell_type": "markdown",
   "id": "f10b6a54",
   "metadata": {},
   "source": [
    "# Decision Trees und Random Forests"
   ]
  },
  {
   "cell_type": "markdown",
   "id": "73fe7005",
   "metadata": {},
   "source": [
    "## Quelle der Daten\n",
    "\n",
    "https://www.kaggle.com/datasets/captainozlem/framingham-chd-preprocessed-data (zuletzt aufgerufen: 01/2024)\n",
    "\n",
    "https://www.framinghamheartstudy.org/ (zuletzt aufgerufen: 01/2024)"
   ]
  },
  {
   "cell_type": "markdown",
   "id": "c049fa83",
   "metadata": {},
   "source": [
    "## Installation der Bibliotheken"
   ]
  },
  {
   "cell_type": "code",
   "execution_count": null,
   "id": "aa79e439",
   "metadata": {},
   "outputs": [],
   "source": [
    "# Importieren der benötigten Bibliotheken\n",
    "import pandas as pd # Für die Arbeit mit Tabellen/DataFrames\n",
    "\n",
    "import matplotlib.pyplot as plt # Für die Erstellung von Diagrammen und Visualisierungen\n",
    "\n",
    "from imblearn.over_sampling import SMOTE # Für das Resampling unausgeglichener Datensätze\n",
    "\n",
    "from sklearn.model_selection import train_test_split # Für die Aufteilung von Daten in Trainings- und Testsets\n",
    "\n",
    "# Importiert die DecisionTreeClassifier-Klasse aus dem Modul 'tree' der Bibliothek 'sklearn'.\n",
    "# Diese Klasse wird verwendet, um ein Entscheidungsbaummodell zu erstellen.\n",
    "from sklearn.tree import DecisionTreeClassifier\n",
    "\n",
    "# Importiert die RandomForestClassifier-Klasse aus dem Modul 'ensemble' der Bibliothek 'sklearn'.\n",
    "# Diese Klasse wird verwendet, um ein Random-Forest-Modell zu erstellen, das aus mehreren Entscheidungsbäumen besteht.\n",
    "from sklearn.ensemble import RandomForestClassifier\n",
    "\n",
    "# Importiert das Modul 'tree' aus der Bibliothek 'sklearn'.\n",
    "# Dieses Modul enthält Funktionen zur Visualisierung von Entscheidungsbäumen.\n",
    "from sklearn import tree\n"
   ]
  },
  {
   "cell_type": "markdown",
   "id": "3ac54066",
   "metadata": {},
   "source": [
    "## Einlesen der Daten"
   ]
  },
  {
   "cell_type": "code",
   "execution_count": null,
   "id": "d77e6c5a",
   "metadata": {},
   "outputs": [],
   "source": [
    "# Definieren der URL der Datenquelle und Laden der Daten in einen pandas DataFrame\n",
    "data_url = \"https://github.com/timwgnd/Lehrbuch-Kuenstliche-Intelligenz-in-der-Medizin/raw/refs/heads/main/FraminghamHeartStudy.xlsx\"\n",
    "data = pd.read_excel(io=data_url, sheet_name = \"Tabelle1\")\n",
    "\n",
    "# Entfernen von Zeilen mit fehlenden Werten\n",
    "data = data.dropna()\n",
    "\n",
    "# Anzeigen der ersten Zeilen des DataFrames, um einen Überblick über die Daten zu erhalten\n",
    "print(data.head().to_markdown(index=False, tablefmt='psql'))"
   ]
  },
  {
   "cell_type": "code",
   "execution_count": null,
   "id": "1929f1ba",
   "metadata": {},
   "outputs": [],
   "source": [
    "# Erstellen von Dummy-Variablen für die kategoriale Spalte \"Geschlecht\"\n",
    "# Dies wandelt die kategoriale Variable in numerische Variablen um, die für das Modell verwendet werden können\n",
    "data_new = pd.get_dummies(data, columns = [\"Geschlecht\"])\n",
    "\n",
    "# Anzeigen der ersten Zeilen des neuen DataFrames mit den Dummy-Variablen\n",
    "print(data_new.head().to_markdown(index=False, tablefmt='psql'))"
   ]
  },
  {
   "cell_type": "code",
   "execution_count": null,
   "id": "963a7df0",
   "metadata": {},
   "outputs": [],
   "source": [
    "# Zählen der Häufigkeit der einzelnen Werte in der Spalte \"Diabetes\"\n",
    "count_diabetes = data_new[\"Diabetes\"].value_counts()\n",
    "\n",
    "# Anzeigen der Häufigkeitsauzszählung in Tabellenform\n",
    "print(count_diabetes.to_markdown(tablefmt='psql'))\n",
    "\n",
    "# Erstellen eines Balkendiagramms, das die Verteilung der Werte in der Spalte \"Diabetes\" zeigt\n",
    "count_diabetes.plot(kind = \"bar\", rot = 0)"
   ]
  },
  {
   "cell_type": "markdown",
   "id": "6ac302c0",
   "metadata": {},
   "source": [
    "## Aufteilung der Daten und Resampling"
   ]
  },
  {
   "cell_type": "code",
   "execution_count": null,
   "id": "b79d3731",
   "metadata": {},
   "outputs": [],
   "source": [
    "# Wählt die Spalten mit den Indizes 1, 2, 3, 4, 5, 6, 8, 9, 10, 11, 12, 13 und 14 aus dem DataFrame 'data_new' aus.\n",
    "# Diese Spalten werden als unabhängige Variablen (Features) für das Entscheidungsbaummodell verwendet.\n",
    "x = data_new.iloc[:, [1, 2, 3, 4, 5, 6, 8, 9, 10, 11, 12, 13, 14]]\n",
    "\n",
    "# Wählt die Spalte mit dem Index 7 ('Diabetes') aus dem DataFrame 'data_new' aus.\n",
    "# Diese Spalte wird als abhängige Variable (Zielvariable) für das Entscheidungsbaummodell verwendet.\n",
    "y = data_new.iloc[:, 7]"
   ]
  },
  {
   "cell_type": "code",
   "execution_count": null,
   "id": "b0bc8d22",
   "metadata": {},
   "outputs": [],
   "source": [
    "# Anzeigen der Feature-Variablen x\n",
    "print(x.head().to_markdown(index=False, tablefmt='psql'))"
   ]
  },
  {
   "cell_type": "code",
   "execution_count": null,
   "id": "08e66348",
   "metadata": {},
   "outputs": [],
   "source": [
    "# Anzeigen der Zielvariable y\n",
    "print(y)"
   ]
  },
  {
   "cell_type": "code",
   "execution_count": null,
   "id": "7d65d7ef",
   "metadata": {},
   "outputs": [],
   "source": [
    "# Aufteilen der Daten in Trainings- und Testsets\n",
    "# test_size = 0.15 bedeutet, dass 15% der Daten für das Testset verwendet werden\n",
    "x_train, x_test, y_train, y_test = train_test_split(x, y, test_size = 0.15)"
   ]
  },
  {
   "cell_type": "code",
   "execution_count": null,
   "id": "6875a161",
   "metadata": {},
   "outputs": [],
   "source": [
    "# Initialisieren des SMOTE-Objekts für Over-Sampling\n",
    "sm = SMOTE()\n",
    "\n",
    "# Anwenden von SMOTE auf die Trainingsdaten, um die Anzahl der Instanzen der Minderheitenklasse zu erhöhen\n",
    "x_train_res, y_train_res = sm.fit_resample(x_train, y_train)\n",
    "\n",
    "# Anzeigen der Verteilung der Zielvariablen im resampelten Trainingsset, um den Effekt von SMOTE zu sehen\n",
    "print(y_train_res.value_counts().to_markdown(tablefmt='psql'))"
   ]
  },
  {
   "cell_type": "markdown",
   "id": "14d42a5f",
   "metadata": {},
   "source": [
    "## Decision-Tree-Modell"
   ]
  },
  {
   "cell_type": "code",
   "execution_count": null,
   "id": "4a8ff9f0",
   "metadata": {},
   "outputs": [],
   "source": [
    "# Erstellt ein DecisionTreeClassifier-Objekt (Entscheidungsbaum-Klassifikator) mit dem \n",
    "# Kriterium \"Entropie\", einer maximalen Tiefe von 2 und keiner Begrenzung der Blattknoten.\n",
    "dt = DecisionTreeClassifier(criterion = \"entropy\", max_depth = 2, max_leaf_nodes = None)\n",
    "\n",
    "# Trainiert das Entscheidungsbaummodell mit den resampleten Trainingsdaten (x_train_res, y_train_res).\n",
    "dt.fit(x_train_res, y_train_res)\n",
    "\n",
    "# Berechnet die Genauigkeit (accuracy) des trainierten Entscheidungsbaummodells auf den Testdaten (x_test, y_test).\n",
    "dt.score(x_test, y_test)\n"
   ]
  },
  {
   "cell_type": "code",
   "execution_count": null,
   "id": "4b9d1532",
   "metadata": {},
   "outputs": [],
   "source": [
    "# Definiert eine Liste von Merkmalen (Features), die für die Vorhersage verwendet werden.\n",
    "# Diese Liste enthält Informationen wie Alter, Raucherstatus, Anzahl der Zigaretten pro Tag usw.\n",
    "characteristics = [\"Alter\", \"Raucher\", \"ZigProTag\", \"BDMedikamente\", \"Schlaganfall\", \n",
    "                   \"ArtHypertonie\", \"GesCholesterin\", \"Systolisch\", \"Diastolisch\", \n",
    "                   \"BMI\", \"Herzfrequenz\", \"Blutzucker\", \"Geschlecht_M\"]\n",
    "\n",
    "# Definiert eine Liste möglicher Diagnosen.\n",
    "# \"0\" steht für \"kein Diabetes\" und \"1\" für \"Diabetes vorhanden\".\n",
    "diagnosis = [\"0\" , \"1\"]\n",
    "\n",
    "# Erstellt ein Diagramm des Entscheidungsbaums (dt).\n",
    "# 'feature_names' legt die Namen der Merkmale fest, die in den Knoten des Baums angezeigt werden.\n",
    "# 'class_names' legt die Namen der Klassen fest, die in den Blättern des Baums angezeigt werden.\n",
    "tree.plot_tree(dt, feature_names = characteristics, class_names = diagnosis)\n"
   ]
  },
  {
   "cell_type": "code",
   "execution_count": null,
   "id": "3c079d8c",
   "metadata": {},
   "outputs": [],
   "source": [
    "# Erstellt ein DecisionTreeClassifier-Objekt (Entscheidungsbaum-Klassifikator) mit dem \n",
    "# Kriterium \"Entropie\", einer maximalen Tiefe von 5 und keiner Begrenzung der Blattknoten.\n",
    "dt = DecisionTreeClassifier(criterion = \"entropy\", max_depth = 5, max_leaf_nodes = None)\n",
    "\n",
    "# Trainiert das Entscheidungsbaummodell (dt) mit den resampleten Trainingsdaten (x_train_res, y_train_res).\n",
    "dt.fit(x_train_res, y_train_res)\n",
    "\n",
    "# Berechnet die Genauigkeit (accuracy) des trainierten Entscheidungsbaummodells auf den Testdaten (x_test, y_test).\n",
    "dt.score(x_test, y_test)"
   ]
  },
  {
   "cell_type": "markdown",
   "id": "174d2c01",
   "metadata": {},
   "source": [
    "## Random-Forest-Modell"
   ]
  },
  {
   "cell_type": "code",
   "execution_count": null,
   "id": "3fe9203d",
   "metadata": {},
   "outputs": [],
   "source": [
    "# Erstellt ein RandomForestClassifier-Objekt (Random Forest Klassifikator) mit dem\n",
    "# Gini-Kriterium, einer maximalen Tiefe von 5 und keiner Begrenzung der Blattknoten.\n",
    "rf = RandomForestClassifier(criterion = \"gini\", max_depth = 5, max_leaf_nodes = None)\n",
    "\n",
    "# Trainiert das Random-Forest-Modell (rf) mit den resampleten Trainingsdaten (x_train_res, y_train_res).\n",
    "rf.fit(x_train_res, y_train_res)\n",
    "\n",
    "# Berechnet die Genauigkeit (accuracy) des trainierten Random-Forest-Modells auf den Testdaten (x_test, y_test).\n",
    "rf.score(x_test, y_test)\n"
   ]
  }
 ],
 "metadata": {
  "kernelspec": {
   "display_name": "Python 3 (ipykernel)",
   "language": "python",
   "name": "python3"
  },
  "language_info": {
   "codemirror_mode": {
    "name": "ipython",
    "version": 3
   },
   "file_extension": ".py",
   "mimetype": "text/x-python",
   "name": "python",
   "nbconvert_exporter": "python",
   "pygments_lexer": "ipython3",
   "version": "3.9.7"
  }
 },
 "nbformat": 4,
 "nbformat_minor": 5
}
