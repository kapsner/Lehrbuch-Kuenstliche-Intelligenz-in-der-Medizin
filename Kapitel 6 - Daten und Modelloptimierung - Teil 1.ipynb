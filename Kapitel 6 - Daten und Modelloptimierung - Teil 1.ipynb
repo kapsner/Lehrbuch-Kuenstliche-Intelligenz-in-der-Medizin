{
 "cells": [
  {
   "cell_type": "markdown",
   "id": "f10b6a54",
   "metadata": {},
   "source": [
    "# Daten und Modelloptimierung - Teil 1"
   ]
  },
  {
   "cell_type": "markdown",
   "id": "5aa6ba2f",
   "metadata": {},
   "source": [
    "## Quelle der Daten\n",
    "\n",
    "https://www.kaggle.com/datasets/uciml/breast-cancer-wisconsin-data (zuletzt aufgerufen: 01/2024)\n",
    "\n",
    "https://archive.ics.uci.edu/ml/datasets/Breast+Cancer+Wisconsin+%28Diagnostic%29 (zuletzt aufgerufen: 01/2024)"
   ]
  },
  {
   "cell_type": "markdown",
   "id": "d8fb145b",
   "metadata": {},
   "source": [
    "## Installation der Bibliotheken"
   ]
  },
  {
   "cell_type": "code",
   "execution_count": null,
   "id": "aa79e439",
   "metadata": {},
   "outputs": [],
   "source": [
    "import pandas as pd\n",
    "\n",
    "import matplotlib.pyplot as plt\n",
    "\n",
    "from imblearn.over_sampling import SMOTE\n",
    "\n",
    "from sklearn.model_selection import train_test_split\n",
    "\n",
    "from sklearn import svm\n",
    "\n",
    "from sklearn.model_selection import cross_validate\n",
    "\n",
    "from sklearn.ensemble import BaggingClassifier\n",
    "\n",
    "from sklearn.metrics import confusion_matrix\n",
    "\n",
    "from sklearn.metrics import plot_confusion_matrix\n",
    "\n",
    "from sklearn.metrics import plot_roc_curve, auc"
   ]
  },
  {
   "cell_type": "markdown",
   "id": "4191f9b8",
   "metadata": {},
   "source": [
    "## Einlesen der Daten "
   ]
  },
  {
   "cell_type": "code",
   "execution_count": null,
   "id": "d77e6c5a",
   "metadata": {},
   "outputs": [],
   "source": [
    "data_url = \"https://github.com/timwgnd/Lehrbuch-Kuenstliche-Intelligenz-in-der-Medizin/raw/refs/heads/main/Brustkrebs.xlsx\"\n",
    "data = pd.read_excel(io=data_url, sheet_name = \"Tabelle1\")\n",
    "\n",
    "data = data.dropna()\n",
    "\n",
    "data.head()"
   ]
  },
  {
   "cell_type": "code",
   "execution_count": null,
   "id": "31b8e8db",
   "metadata": {},
   "outputs": [],
   "source": [
    "diagnosis_new = {\"benign\": 0, \"malignant\": 1}\n",
    "\n",
    "data[\"diagnosis\"] = data[\"diagnosis\"].replace(diagnosis_new)\n",
    "\n",
    "data.head()"
   ]
  },
  {
   "cell_type": "code",
   "execution_count": null,
   "id": "342e7250",
   "metadata": {},
   "outputs": [],
   "source": [
    "count_diabetes = data[\"diagnosis\"].value_counts()\n",
    "\n",
    "count_diabetes.plot(kind = \"bar\", rot = 0)"
   ]
  },
  {
   "cell_type": "markdown",
   "id": "cd458ecb",
   "metadata": {},
   "source": [
    "## Aufteilung der Daten und Resampling"
   ]
  },
  {
   "cell_type": "code",
   "execution_count": null,
   "id": "429964c9",
   "metadata": {},
   "outputs": [],
   "source": [
    "x = data.iloc[:, 1:]\n",
    "\n",
    "y = data.iloc[:, 0]"
   ]
  },
  {
   "cell_type": "code",
   "execution_count": null,
   "id": "6cb87e4e",
   "metadata": {},
   "outputs": [],
   "source": [
    "x.head()"
   ]
  },
  {
   "cell_type": "code",
   "execution_count": null,
   "id": "d088e07d",
   "metadata": {},
   "outputs": [],
   "source": [
    "y.head()"
   ]
  },
  {
   "cell_type": "code",
   "execution_count": null,
   "id": "6f301ef3",
   "metadata": {},
   "outputs": [],
   "source": [
    "x_train, x_test, y_train, y_test = train_test_split(x, y, test_size = 0.15)"
   ]
  },
  {
   "cell_type": "code",
   "execution_count": null,
   "id": "072a2529",
   "metadata": {},
   "outputs": [],
   "source": [
    "# Nicht verwendet, da die Daten ausreichend balanciert sind\n",
    "\n",
    "sm = SMOTE()\n",
    "\n",
    "x_train_res, y_train_res = sm.fit_resample(x_train, y_train)\n",
    "\n",
    "print(y_train_res.value_counts())"
   ]
  },
  {
   "cell_type": "markdown",
   "id": "28fd1eae",
   "metadata": {},
   "source": [
    "## Erstellen und Trainieren des KI-Modells"
   ]
  },
  {
   "cell_type": "code",
   "execution_count": null,
   "id": "e7586175",
   "metadata": {},
   "outputs": [],
   "source": [
    "model = svm.SVC(kernel = \"linear\")\n",
    "\n",
    "model.fit(x_train, y_train)"
   ]
  },
  {
   "cell_type": "markdown",
   "id": "b60de833",
   "metadata": {},
   "source": [
    "## Cross Validation"
   ]
  },
  {
   "cell_type": "code",
   "execution_count": null,
   "id": "89cd532b",
   "metadata": {},
   "outputs": [],
   "source": [
    "scores = cross_validate(model, x, y, scoring = \"accuracy\", cv = 10)\n",
    "\n",
    "print(scores[\"test_score\"])\n",
    "\n",
    "print(\"Gesamt-Accuracy:\", sum(scores[\"test_score\"])/float(len(scores[\"test_score\"])))"
   ]
  },
  {
   "cell_type": "markdown",
   "id": "b3c87c75",
   "metadata": {},
   "source": [
    "## Bagging"
   ]
  },
  {
   "cell_type": "code",
   "execution_count": null,
   "id": "d0cf4187",
   "metadata": {},
   "outputs": [],
   "source": [
    "bagging = BaggingClassifier(model, n_estimators = 10, max_samples = 8, bootstrap = True)\n",
    "\n",
    "bagging.fit(x_train, y_train)\n",
    "\n",
    "print(\"Accuracy:\", bagging.score(x_test, y_test))"
   ]
  },
  {
   "cell_type": "markdown",
   "id": "a3b28a79",
   "metadata": {},
   "source": [
    "## Modellevaluation"
   ]
  },
  {
   "cell_type": "code",
   "execution_count": null,
   "id": "dc9392ac",
   "metadata": {},
   "outputs": [],
   "source": [
    "print(\"Accuracy:\", model.score(x_test, y_test))"
   ]
  },
  {
   "cell_type": "code",
   "execution_count": null,
   "id": "3a3b8462",
   "metadata": {},
   "outputs": [],
   "source": [
    "y_pred = model.predict(x_test)\n",
    "\n",
    "confusion_matrix(y_test, y_pred)"
   ]
  },
  {
   "cell_type": "code",
   "execution_count": null,
   "id": "8af5403c",
   "metadata": {},
   "outputs": [],
   "source": [
    "confusion_matrix = plot_confusion_matrix(model, x_test, y_test)\n",
    "\n",
    "confusion_matrix.ax_.set_title(\"Confusion Matrix\")\n",
    "plt.xlabel(\"Predicted Label\")\n",
    "plt.ylabel(\"True Label\")\n",
    "\n",
    "plt.show()"
   ]
  },
  {
   "cell_type": "code",
   "execution_count": null,
   "id": "b25da7a0",
   "metadata": {},
   "outputs": [],
   "source": [
    "#Sensitivität = RP/(RP+FN)\n",
    "print(\"Sensitivity:\", 50/(50+4))\n",
    "\n",
    "#Spezifität = RN/(RN+FP)\n",
    "print(\"Specificity:\", 31/(31+1))\n",
    "\n",
    "#Positiver Prädiktiver Wert = RP/(RP+FP)\n",
    "print(\"Precision/PPW:\", 50/(50+1))\n",
    "\n",
    "#Negativer Prädiktiver Wert = RN/(RN+FN)\n",
    "print(\"Recall/NPW:\", 31/(31+4))\n",
    "\n",
    "#F1-Score = 2 * ((PPW * NPW) / (PPW + NPW))\n",
    "print(\"F1:\", 2*((50/(50+1))*(31/(31+4)))/((50/(50+1))+(31/(31+4))))"
   ]
  },
  {
   "cell_type": "code",
   "execution_count": null,
   "id": "efd064a6",
   "metadata": {},
   "outputs": [],
   "source": [
    "plot_roc_curve(model, x_test, y_test)"
   ]
  }
 ],
 "metadata": {
  "kernelspec": {
   "display_name": "Python 3 (ipykernel)",
   "language": "python",
   "name": "python3"
  },
  "language_info": {
   "codemirror_mode": {
    "name": "ipython",
    "version": 3
   },
   "file_extension": ".py",
   "mimetype": "text/x-python",
   "name": "python",
   "nbconvert_exporter": "python",
   "pygments_lexer": "ipython3",
   "version": "3.9.7"
  }
 },
 "nbformat": 4,
 "nbformat_minor": 5
}
