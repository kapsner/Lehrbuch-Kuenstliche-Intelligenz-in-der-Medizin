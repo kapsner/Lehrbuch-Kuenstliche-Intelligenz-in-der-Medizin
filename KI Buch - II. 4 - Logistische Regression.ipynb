{
 "cells": [
  {
   "cell_type": "markdown",
   "id": "db65e5bd",
   "metadata": {},
   "source": [
    "# Logistische Regression"
   ]
  },
  {
   "cell_type": "markdown",
   "id": "f3b990f1",
   "metadata": {},
   "source": [
    "## Quelle der Daten\n",
    "\n",
    "https://www.kaggle.com/datasets/captainozlem/framingham-chd-preprocessed-data (zuletzt aufgerufen: 01/2024)\n",
    "\n",
    "https://www.framinghamheartstudy.org/ (zuletzt aufgerufen: 01/2024)"
   ]
  },
  {
   "cell_type": "markdown",
   "id": "739633dd",
   "metadata": {},
   "source": [
    "## Installation der Bibliotheken"
   ]
  },
  {
   "cell_type": "code",
   "execution_count": 27,
   "id": "660e0dd9",
   "metadata": {},
   "outputs": [],
   "source": [
    "import pandas as pd\n",
    "\n",
    "import matplotlib.pyplot as plt\n",
    "\n",
    "from imblearn.over_sampling import SMOTE\n",
    "\n",
    "from sklearn.model_selection import train_test_split\n",
    "\n",
    "from sklearn.linear_model import LogisticRegression\n",
    "\n",
    "import numpy as np"
   ]
  },
  {
   "cell_type": "markdown",
   "id": "5d67d100",
   "metadata": {},
   "source": [
    "## Einlesen der Daten"
   ]
  },
  {
   "cell_type": "code",
   "execution_count": 28,
   "id": "2997e3c7",
   "metadata": {},
   "outputs": [
    {
     "data": {
      "text/html": [
       "<div>\n",
       "<style scoped>\n",
       "    .dataframe tbody tr th:only-of-type {\n",
       "        vertical-align: middle;\n",
       "    }\n",
       "\n",
       "    .dataframe tbody tr th {\n",
       "        vertical-align: top;\n",
       "    }\n",
       "\n",
       "    .dataframe thead th {\n",
       "        text-align: right;\n",
       "    }\n",
       "</style>\n",
       "<table border=\"1\" class=\"dataframe\">\n",
       "  <thead>\n",
       "    <tr style=\"text-align: right;\">\n",
       "      <th></th>\n",
       "      <th>ZehnJahreKHK</th>\n",
       "      <th>Geschlecht</th>\n",
       "      <th>Alter</th>\n",
       "      <th>Raucher</th>\n",
       "      <th>ZigProTag</th>\n",
       "      <th>BDMedikamente</th>\n",
       "      <th>Schlaganfall</th>\n",
       "      <th>ArtHypertonie</th>\n",
       "      <th>Diabetes</th>\n",
       "      <th>GesCholesterin</th>\n",
       "      <th>Systolisch</th>\n",
       "      <th>Diastolisch</th>\n",
       "      <th>BMI</th>\n",
       "      <th>Herzfrequenz</th>\n",
       "      <th>Blutzucker</th>\n",
       "    </tr>\n",
       "  </thead>\n",
       "  <tbody>\n",
       "    <tr>\n",
       "      <th>1</th>\n",
       "      <td>0</td>\n",
       "      <td>M</td>\n",
       "      <td>38</td>\n",
       "      <td>1</td>\n",
       "      <td>20.0</td>\n",
       "      <td>0.0</td>\n",
       "      <td>0</td>\n",
       "      <td>0</td>\n",
       "      <td>0</td>\n",
       "      <td>113.0</td>\n",
       "      <td>120</td>\n",
       "      <td>84</td>\n",
       "      <td>30.0</td>\n",
       "      <td>78.0</td>\n",
       "      <td>85.0</td>\n",
       "    </tr>\n",
       "    <tr>\n",
       "      <th>2</th>\n",
       "      <td>0</td>\n",
       "      <td>M</td>\n",
       "      <td>47</td>\n",
       "      <td>1</td>\n",
       "      <td>20.0</td>\n",
       "      <td>0.0</td>\n",
       "      <td>0</td>\n",
       "      <td>0</td>\n",
       "      <td>0</td>\n",
       "      <td>119.0</td>\n",
       "      <td>117</td>\n",
       "      <td>79</td>\n",
       "      <td>26.0</td>\n",
       "      <td>75.0</td>\n",
       "      <td>78.0</td>\n",
       "    </tr>\n",
       "    <tr>\n",
       "      <th>3</th>\n",
       "      <td>1</td>\n",
       "      <td>M</td>\n",
       "      <td>66</td>\n",
       "      <td>0</td>\n",
       "      <td>0.0</td>\n",
       "      <td>0.0</td>\n",
       "      <td>0</td>\n",
       "      <td>1</td>\n",
       "      <td>0</td>\n",
       "      <td>124.0</td>\n",
       "      <td>138</td>\n",
       "      <td>91</td>\n",
       "      <td>32.0</td>\n",
       "      <td>75.0</td>\n",
       "      <td>96.0</td>\n",
       "    </tr>\n",
       "    <tr>\n",
       "      <th>6</th>\n",
       "      <td>1</td>\n",
       "      <td>M</td>\n",
       "      <td>51</td>\n",
       "      <td>1</td>\n",
       "      <td>7.0</td>\n",
       "      <td>0.0</td>\n",
       "      <td>0</td>\n",
       "      <td>1</td>\n",
       "      <td>0</td>\n",
       "      <td>133.0</td>\n",
       "      <td>138</td>\n",
       "      <td>78</td>\n",
       "      <td>17.0</td>\n",
       "      <td>80.0</td>\n",
       "      <td>65.0</td>\n",
       "    </tr>\n",
       "    <tr>\n",
       "      <th>7</th>\n",
       "      <td>0</td>\n",
       "      <td>W</td>\n",
       "      <td>36</td>\n",
       "      <td>1</td>\n",
       "      <td>3.0</td>\n",
       "      <td>0.0</td>\n",
       "      <td>0</td>\n",
       "      <td>0</td>\n",
       "      <td>0</td>\n",
       "      <td>135.0</td>\n",
       "      <td>108</td>\n",
       "      <td>74</td>\n",
       "      <td>23.0</td>\n",
       "      <td>73.0</td>\n",
       "      <td>75.0</td>\n",
       "    </tr>\n",
       "  </tbody>\n",
       "</table>\n",
       "</div>"
      ],
      "text/plain": [
       "   ZehnJahreKHK Geschlecht  Alter  Raucher  ZigProTag  BDMedikamente  \\\n",
       "1             0          M     38        1       20.0            0.0   \n",
       "2             0          M     47        1       20.0            0.0   \n",
       "3             1          M     66        0        0.0            0.0   \n",
       "6             1          M     51        1        7.0            0.0   \n",
       "7             0          W     36        1        3.0            0.0   \n",
       "\n",
       "   Schlaganfall  ArtHypertonie  Diabetes  GesCholesterin  Systolisch  \\\n",
       "1             0              0         0           113.0         120   \n",
       "2             0              0         0           119.0         117   \n",
       "3             0              1         0           124.0         138   \n",
       "6             0              1         0           133.0         138   \n",
       "7             0              0         0           135.0         108   \n",
       "\n",
       "   Diastolisch   BMI  Herzfrequenz  Blutzucker  \n",
       "1           84  30.0          78.0        85.0  \n",
       "2           79  26.0          75.0        78.0  \n",
       "3           91  32.0          75.0        96.0  \n",
       "6           78  17.0          80.0        65.0  \n",
       "7           74  23.0          73.0        75.0  "
      ]
     },
     "execution_count": 28,
     "metadata": {},
     "output_type": "execute_result"
    }
   ],
   "source": [
    "data = pd.read_excel(\"C:\\\\Users\\\\Tim\\\\Desktop\\\\Buchprojekt KI Medizin\\\\Programmierung\\\\FraminghamHeartStudy.xlsx\", sheet_name = \"Tabelle1\")\n",
    "\n",
    "data = data.dropna()\n",
    "\n",
    "data.head()"
   ]
  },
  {
   "cell_type": "code",
   "execution_count": 29,
   "id": "867bd038",
   "metadata": {},
   "outputs": [
    {
     "data": {
      "text/html": [
       "<div>\n",
       "<style scoped>\n",
       "    .dataframe tbody tr th:only-of-type {\n",
       "        vertical-align: middle;\n",
       "    }\n",
       "\n",
       "    .dataframe tbody tr th {\n",
       "        vertical-align: top;\n",
       "    }\n",
       "\n",
       "    .dataframe thead th {\n",
       "        text-align: right;\n",
       "    }\n",
       "</style>\n",
       "<table border=\"1\" class=\"dataframe\">\n",
       "  <thead>\n",
       "    <tr style=\"text-align: right;\">\n",
       "      <th></th>\n",
       "      <th>ZehnJahreKHK</th>\n",
       "      <th>Alter</th>\n",
       "      <th>Raucher</th>\n",
       "      <th>ZigProTag</th>\n",
       "      <th>BDMedikamente</th>\n",
       "      <th>Schlaganfall</th>\n",
       "      <th>ArtHypertonie</th>\n",
       "      <th>Diabetes</th>\n",
       "      <th>GesCholesterin</th>\n",
       "      <th>Systolisch</th>\n",
       "      <th>Diastolisch</th>\n",
       "      <th>BMI</th>\n",
       "      <th>Herzfrequenz</th>\n",
       "      <th>Blutzucker</th>\n",
       "      <th>Geschlecht_M</th>\n",
       "      <th>Geschlecht_W</th>\n",
       "    </tr>\n",
       "  </thead>\n",
       "  <tbody>\n",
       "    <tr>\n",
       "      <th>1</th>\n",
       "      <td>0</td>\n",
       "      <td>38</td>\n",
       "      <td>1</td>\n",
       "      <td>20.0</td>\n",
       "      <td>0.0</td>\n",
       "      <td>0</td>\n",
       "      <td>0</td>\n",
       "      <td>0</td>\n",
       "      <td>113.0</td>\n",
       "      <td>120</td>\n",
       "      <td>84</td>\n",
       "      <td>30.0</td>\n",
       "      <td>78.0</td>\n",
       "      <td>85.0</td>\n",
       "      <td>1</td>\n",
       "      <td>0</td>\n",
       "    </tr>\n",
       "    <tr>\n",
       "      <th>2</th>\n",
       "      <td>0</td>\n",
       "      <td>47</td>\n",
       "      <td>1</td>\n",
       "      <td>20.0</td>\n",
       "      <td>0.0</td>\n",
       "      <td>0</td>\n",
       "      <td>0</td>\n",
       "      <td>0</td>\n",
       "      <td>119.0</td>\n",
       "      <td>117</td>\n",
       "      <td>79</td>\n",
       "      <td>26.0</td>\n",
       "      <td>75.0</td>\n",
       "      <td>78.0</td>\n",
       "      <td>1</td>\n",
       "      <td>0</td>\n",
       "    </tr>\n",
       "    <tr>\n",
       "      <th>3</th>\n",
       "      <td>1</td>\n",
       "      <td>66</td>\n",
       "      <td>0</td>\n",
       "      <td>0.0</td>\n",
       "      <td>0.0</td>\n",
       "      <td>0</td>\n",
       "      <td>1</td>\n",
       "      <td>0</td>\n",
       "      <td>124.0</td>\n",
       "      <td>138</td>\n",
       "      <td>91</td>\n",
       "      <td>32.0</td>\n",
       "      <td>75.0</td>\n",
       "      <td>96.0</td>\n",
       "      <td>1</td>\n",
       "      <td>0</td>\n",
       "    </tr>\n",
       "    <tr>\n",
       "      <th>6</th>\n",
       "      <td>1</td>\n",
       "      <td>51</td>\n",
       "      <td>1</td>\n",
       "      <td>7.0</td>\n",
       "      <td>0.0</td>\n",
       "      <td>0</td>\n",
       "      <td>1</td>\n",
       "      <td>0</td>\n",
       "      <td>133.0</td>\n",
       "      <td>138</td>\n",
       "      <td>78</td>\n",
       "      <td>17.0</td>\n",
       "      <td>80.0</td>\n",
       "      <td>65.0</td>\n",
       "      <td>1</td>\n",
       "      <td>0</td>\n",
       "    </tr>\n",
       "    <tr>\n",
       "      <th>7</th>\n",
       "      <td>0</td>\n",
       "      <td>36</td>\n",
       "      <td>1</td>\n",
       "      <td>3.0</td>\n",
       "      <td>0.0</td>\n",
       "      <td>0</td>\n",
       "      <td>0</td>\n",
       "      <td>0</td>\n",
       "      <td>135.0</td>\n",
       "      <td>108</td>\n",
       "      <td>74</td>\n",
       "      <td>23.0</td>\n",
       "      <td>73.0</td>\n",
       "      <td>75.0</td>\n",
       "      <td>0</td>\n",
       "      <td>1</td>\n",
       "    </tr>\n",
       "  </tbody>\n",
       "</table>\n",
       "</div>"
      ],
      "text/plain": [
       "   ZehnJahreKHK  Alter  Raucher  ZigProTag  BDMedikamente  Schlaganfall  \\\n",
       "1             0     38        1       20.0            0.0             0   \n",
       "2             0     47        1       20.0            0.0             0   \n",
       "3             1     66        0        0.0            0.0             0   \n",
       "6             1     51        1        7.0            0.0             0   \n",
       "7             0     36        1        3.0            0.0             0   \n",
       "\n",
       "   ArtHypertonie  Diabetes  GesCholesterin  Systolisch  Diastolisch   BMI  \\\n",
       "1              0         0           113.0         120           84  30.0   \n",
       "2              0         0           119.0         117           79  26.0   \n",
       "3              1         0           124.0         138           91  32.0   \n",
       "6              1         0           133.0         138           78  17.0   \n",
       "7              0         0           135.0         108           74  23.0   \n",
       "\n",
       "   Herzfrequenz  Blutzucker  Geschlecht_M  Geschlecht_W  \n",
       "1          78.0        85.0             1             0  \n",
       "2          75.0        78.0             1             0  \n",
       "3          75.0        96.0             1             0  \n",
       "6          80.0        65.0             1             0  \n",
       "7          73.0        75.0             0             1  "
      ]
     },
     "execution_count": 29,
     "metadata": {},
     "output_type": "execute_result"
    }
   ],
   "source": [
    "data_new = pd.get_dummies(data, columns = [\"Geschlecht\"])\n",
    "\n",
    "data_new.head()"
   ]
  },
  {
   "cell_type": "code",
   "execution_count": 4,
   "id": "a8a4b765",
   "metadata": {},
   "outputs": [
    {
     "data": {
      "text/plain": [
       "<Axes: >"
      ]
     },
     "execution_count": 4,
     "metadata": {},
     "output_type": "execute_result"
    },
    {
     "data": {
      "image/png": "[encoded data removed]",
      "text/plain": [
       "<Figure size 432x288 with 1 Axes>"
      ]
     },
     "metadata": {
      "needs_background": "light"
     },
     "output_type": "display_data"
    }
   ],
   "source": [
    "count_diabetes = data_new[\"Diabetes\"].value_counts()\n",
    "\n",
    "count_diabetes.plot(kind = \"bar\", rot = 0)"
   ]
  },
  {
   "cell_type": "markdown",
   "id": "1d40e78f",
   "metadata": {},
   "source": [
    "## Aufteilung der Daten und Resampling"
   ]
  },
  {
   "cell_type": "code",
   "execution_count": 30,
   "id": "2c5b798f",
   "metadata": {},
   "outputs": [],
   "source": [
    "x = data_new.iloc[:, 13].values.reshape(-1, 1)\n",
    "\n",
    "y = data_new.iloc[:, 7]"
   ]
  },
  {
   "cell_type": "code",
   "execution_count": 31,
   "id": "c23125ec",
   "metadata": {},
   "outputs": [
    {
     "name": "stdout",
     "output_type": "stream",
     "text": [
      "[[ 85.]\n",
      " [ 78.]\n",
      " [ 96.]\n",
      " ...\n",
      " [ 90.]\n",
      " [110.]\n",
      " [ 72.]]\n"
     ]
    }
   ],
   "source": [
    "print(x)"
   ]
  },
  {
   "cell_type": "code",
   "execution_count": 32,
   "id": "02dc7ab3",
   "metadata": {},
   "outputs": [
    {
     "name": "stdout",
     "output_type": "stream",
     "text": [
      "1       0\n",
      "2       0\n",
      "3       0\n",
      "6       0\n",
      "7       0\n",
      "       ..\n",
      "4181    0\n",
      "4182    0\n",
      "4183    0\n",
      "4184    0\n",
      "4185    0\n",
      "Name: Diabetes, Length: 3747, dtype: int64\n"
     ]
    }
   ],
   "source": [
    "print(y)"
   ]
  },
  {
   "cell_type": "code",
   "execution_count": 17,
   "id": "7ebe41d0",
   "metadata": {},
   "outputs": [],
   "source": [
    "x_train, x_test, y_train, y_test = train_test_split(x, y, test_size = 0.15)"
   ]
  },
  {
   "cell_type": "code",
   "execution_count": 18,
   "id": "74e33375",
   "metadata": {},
   "outputs": [
    {
     "name": "stdout",
     "output_type": "stream",
     "text": [
      "0    3097\n",
      "1    3097\n",
      "Name: Diabetes, dtype: int64\n"
     ]
    }
   ],
   "source": [
    "sm = SMOTE()\n",
    "\n",
    "x_train_res, y_train_res = sm.fit_resample(x_train, y_train)\n",
    "\n",
    "print(y_train_res.value_counts())"
   ]
  },
  {
   "cell_type": "markdown",
   "id": "918600bf",
   "metadata": {},
   "source": [
    "## Definition, Training und Evaluation des Modells"
   ]
  },
  {
   "cell_type": "code",
   "execution_count": 19,
   "id": "56abc5e2",
   "metadata": {},
   "outputs": [
    {
     "data": {
      "text/plain": [
       "0.9413854351687388"
      ]
     },
     "execution_count": 19,
     "metadata": {},
     "output_type": "execute_result"
    }
   ],
   "source": [
    "model = LogisticRegression()\n",
    "\n",
    "model.fit(x_train_res, y_train_res)\n",
    "\n",
    "model.score(x_test, y_test)"
   ]
  },
  {
   "cell_type": "code",
   "execution_count": 20,
   "id": "58fb136c",
   "metadata": {},
   "outputs": [
    {
     "data": {
      "text/plain": [
       "Text(0, 0.5, 'Diabetes')"
      ]
     },
     "execution_count": 20,
     "metadata": {},
     "output_type": "execute_result"
    },
    {
     "data": {
      "image/png": "[encoded data removed]",
      "text/plain": [
       "<Figure size 432x288 with 1 Axes>"
      ]
     },
     "metadata": {
      "needs_background": "light"
     },
     "output_type": "display_data"
    }
   ],
   "source": [
    "plt.scatter(x_test, y_test, color = \"gray\")\n",
    "\n",
    "x_values = np.linspace(min(x_test), max(x_test), 100).reshape(-1, 1)\n",
    "y_pred = model.predict_proba(x_values)[:, 1]\n",
    "\n",
    "plt.plot(x_values, y_pred, color = \"blue\")\n",
    "\n",
    "plt.xlabel(\"Blutzucker\")\n",
    "plt.ylabel(\"Diabetes\")"
   ]
  },
  {
   "cell_type": "code",
   "execution_count": 21,
   "id": "687a849c",
   "metadata": {},
   "outputs": [],
   "source": [
    "x = data_new.iloc[:, [1, 8, 13]]\n",
    "\n",
    "y = data_new.iloc[:, 7]\n",
    "\n",
    "x_train, x_test, y_train, y_test = train_test_split(x, y, test_size = 0.15)"
   ]
  },
  {
   "cell_type": "code",
   "execution_count": 22,
   "id": "b10e9223",
   "metadata": {},
   "outputs": [
    {
     "name": "stdout",
     "output_type": "stream",
     "text": [
      "0    3091\n",
      "1    3091\n",
      "Name: Diabetes, dtype: int64\n"
     ]
    }
   ],
   "source": [
    "sm = SMOTE()\n",
    "\n",
    "x_train_res, y_train_res = sm.fit_resample(x_train, y_train)\n",
    "\n",
    "print(y_train_res.value_counts())"
   ]
  },
  {
   "cell_type": "code",
   "execution_count": 23,
   "id": "3f5f37f6",
   "metadata": {},
   "outputs": [
    {
     "data": {
      "text/plain": [
       "0.9094138543516874"
      ]
     },
     "execution_count": 23,
     "metadata": {},
     "output_type": "execute_result"
    }
   ],
   "source": [
    "model_2 = LogisticRegression()\n",
    "\n",
    "model_2.fit(x_train_res, y_train_res)\n",
    "\n",
    "model_2.score(x_test, y_test)"
   ]
  }
 ],
 "metadata": {
  "kernelspec": {
   "display_name": "Python 3 (ipykernel)",
   "language": "python",
   "name": "python3"
  },
  "language_info": {
   "codemirror_mode": {
    "name": "ipython",
    "version": 3
   },
   "file_extension": ".py",
   "mimetype": "text/x-python",
   "name": "python",
   "nbconvert_exporter": "python",
   "pygments_lexer": "ipython3",
   "version": "3.9.7"
  }
 },
 "nbformat": 4,
 "nbformat_minor": 5
}
