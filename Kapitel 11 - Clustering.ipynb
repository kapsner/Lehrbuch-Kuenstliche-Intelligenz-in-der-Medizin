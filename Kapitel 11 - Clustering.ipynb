{
 "cells": [
  {
   "cell_type": "markdown",
   "id": "f75eddb1",
   "metadata": {},
   "source": [
    "# Clustering"
   ]
  },
  {
   "cell_type": "markdown",
   "id": "1fa214c2",
   "metadata": {},
   "source": [
    "## Installation der Bibliotheken"
   ]
  },
  {
   "cell_type": "code",
   "execution_count": null,
   "id": "0df43f95",
   "metadata": {},
   "outputs": [],
   "source": [
    "import pandas as pd\n",
    "\n",
    "import matplotlib.pyplot as plt\n",
    "\n",
    "from sklearn.cluster import KMeans\n",
    "\n",
    "from sklearn.preprocessing import MinMaxScaler\n",
    "\n",
    "from scipy.cluster import hierarchy\n",
    "\n",
    "from sklearn.cluster import AgglomerativeClustering\n",
    "\n",
    "from sklearn.metrics import silhouette_samples, silhouette_score"
   ]
  },
  {
   "cell_type": "markdown",
   "id": "70b06ba7",
   "metadata": {},
   "source": [
    "## Einlesen und Visualisierung der Daten"
   ]
  },
  {
   "cell_type": "code",
   "execution_count": null,
   "id": "2054d638",
   "metadata": {},
   "outputs": [],
   "source": [
    "data_url = \"https://github.com/timwgnd/Lehrbuch-Kuenstliche-Intelligenz-in-der-Medizin/raw/refs/heads/main/Pneumonie_Clustering.xlsx\"\n",
    "data = pd.read_excel(io=data_url, sheet_name = \"Tabelle1\")\n",
    "\n",
    "data = data.dropna()\n",
    "\n",
    "data.head()"
   ]
  },
  {
   "cell_type": "code",
   "execution_count": null,
   "id": "8990ea10",
   "metadata": {},
   "outputs": [],
   "source": [
    "Diagnose_neu = {\"gesund\": 0, \"COVID-19\": 1, \"BaktPneumonie\": 2}\n",
    "\n",
    "data[\"Diagnose\"] = data[\"Diagnose\"].replace(Diagnose_neu)\n",
    "\n",
    "data.head()"
   ]
  },
  {
   "cell_type": "code",
   "execution_count": null,
   "id": "782ab2da",
   "metadata": {},
   "outputs": [],
   "source": [
    "plt.scatter(data[\"CRP (mg/dl)\"], data[\"Temperatur (°C)\"])\n",
    "\n",
    "plt.xlabel(\"CRP (mg/dl)\")\n",
    "plt.ylabel(\"Temperatur (°C)\")"
   ]
  },
  {
   "cell_type": "code",
   "execution_count": null,
   "id": "1fdd54b3",
   "metadata": {
    "scrolled": true
   },
   "outputs": [],
   "source": [
    "group1 = data[data[\"Diagnose\"] == 0]\n",
    "group2 = data[data[\"Diagnose\"] == 1]\n",
    "group3 = data[data[\"Diagnose\"] == 2]\n",
    "\n",
    "plt.scatter(group1[\"CRP (mg/dl)\"], group1[\"Temperatur (°C)\"], label = \"gesund\")\n",
    "plt.scatter(group2[\"CRP (mg/dl)\"], group2[\"Temperatur (°C)\"], label = \"COVID-19\")\n",
    "plt.scatter(group3[\"CRP (mg/dl)\"], group3[\"Temperatur (°C)\"], label = \"BaktPneumonie\")\n",
    "\n",
    "plt.xlabel(\"CRP (mg/dl)\")\n",
    "plt.ylabel(\"Temperatur (°C)\")\n",
    "\n",
    "plt.legend()"
   ]
  },
  {
   "cell_type": "markdown",
   "id": "3ce732f4",
   "metadata": {},
   "source": [
    "## k-Means-Clustering"
   ]
  },
  {
   "cell_type": "code",
   "execution_count": null,
   "id": "a959eecd",
   "metadata": {},
   "outputs": [],
   "source": [
    "kmeans = KMeans(n_clusters = 3)\n",
    "\n",
    "model_kmeans = kmeans.fit_predict(data[[\"CRP (mg/dl)\",\"Temperatur (°C)\"]])"
   ]
  },
  {
   "cell_type": "code",
   "execution_count": null,
   "id": "7309cc8b",
   "metadata": {},
   "outputs": [],
   "source": [
    "data[\"cluster\"] = model_kmeans\n",
    "\n",
    "print(data)"
   ]
  },
  {
   "cell_type": "code",
   "execution_count": null,
   "id": "fd08b194",
   "metadata": {},
   "outputs": [],
   "source": [
    "group1 = data[data.cluster == 0]\n",
    "group2 = data[data.cluster == 1]\n",
    "group3 = data[data.cluster == 2]\n",
    "\n",
    "plt.scatter(group1[\"CRP (mg/dl)\"], group1[\"Temperatur (°C)\"], label = \"gesund\")\n",
    "plt.scatter(group2[\"CRP (mg/dl)\"], group2[\"Temperatur (°C)\"], label = \"COVID-19\")\n",
    "plt.scatter(group3[\"CRP (mg/dl)\"], group3[\"Temperatur (°C)\"], label = \"BaktPneumonie\")\n",
    "\n",
    "plt.xlabel(\"CRP (mg/dl)\")\n",
    "plt.ylabel(\"Temperatur (°C)\")\n",
    "\n",
    "plt.legend()"
   ]
  },
  {
   "cell_type": "code",
   "execution_count": null,
   "id": "990c73db",
   "metadata": {},
   "outputs": [],
   "source": [
    "scaler = MinMaxScaler()\n",
    "\n",
    "scaler.fit(data[[\"Temperatur (°C)\"]])\n",
    "data[\"Temperatur (°C)_skaliert\"] = scaler.transform(data[[\"Temperatur (°C)\"]])\n",
    "\n",
    "scaler.fit(data[[\"CRP (mg/dl)\"]])\n",
    "data[\"CRP (mg/dl)_skaliert\"] = scaler.transform(data[[\"CRP (mg/dl)\"]])"
   ]
  },
  {
   "cell_type": "code",
   "execution_count": null,
   "id": "6f93cd6b",
   "metadata": {},
   "outputs": [],
   "source": [
    "group1 = data[data[\"Diagnose\"] == 0]\n",
    "group2 = data[data[\"Diagnose\"] == 1]\n",
    "group3 = data[data[\"Diagnose\"] == 2]\n",
    "\n",
    "plt.scatter(group1[\"CRP (mg/dl)_skaliert\"], group1[\"Temperatur (°C)_skaliert\"], label = \"gesund\")\n",
    "plt.scatter(group2[\"CRP (mg/dl)_skaliert\"], group2[\"Temperatur (°C)_skaliert\"], label = \"COVID-19\")\n",
    "plt.scatter(group3[\"CRP (mg/dl)_skaliert\"], group3[\"Temperatur (°C)_skaliert\"], label = \"BaktPneumonie\")\n",
    "\n",
    "plt.xlabel(\"CRP (mg/dl)_skaliert\")\n",
    "plt.ylabel(\"Temperatur (°C)_skaliert\")\n",
    "\n",
    "plt.legend()"
   ]
  },
  {
   "cell_type": "code",
   "execution_count": null,
   "id": "ce60be45",
   "metadata": {},
   "outputs": [],
   "source": [
    "kmeans = KMeans(n_clusters = 3)\n",
    "\n",
    "model_kmeans_skaliert = kmeans.fit_predict(data[[\"CRP (mg/dl)_skaliert\",\n",
    "                                                 \"Temperatur (°C)_skaliert\"]])"
   ]
  },
  {
   "cell_type": "code",
   "execution_count": null,
   "id": "9f01c76c",
   "metadata": {},
   "outputs": [],
   "source": [
    "data[\"cluster\"] = model_kmeans_skaliert\n",
    "\n",
    "print(data)"
   ]
  },
  {
   "cell_type": "code",
   "execution_count": null,
   "id": "b1e0868c",
   "metadata": {},
   "outputs": [],
   "source": [
    "group1 = data[data.cluster == 0]\n",
    "group2 = data[data.cluster == 1]\n",
    "group3 = data[data.cluster == 2]\n",
    "\n",
    "plt.scatter(group1[\"CRP (mg/dl)_skaliert\"], group1[\"Temperatur (°C)_skaliert\"], label = \"gesund\")\n",
    "plt.scatter(group2[\"CRP (mg/dl)_skaliert\"], group2[\"Temperatur (°C)_skaliert\"], label = \"COVID-19\")\n",
    "plt.scatter(group3[\"CRP (mg/dl)_skaliert\"], group3[\"Temperatur (°C)_skaliert\"], label = \"BaktPneumonie\")\n",
    "\n",
    "plt.xlabel(\"CRP (mg/dl)_skaliert\")\n",
    "plt.ylabel(\"Temperatur (°C)_skaliert\")\n",
    "\n",
    "plt.legend()"
   ]
  },
  {
   "cell_type": "markdown",
   "id": "64cf5cb9",
   "metadata": {},
   "source": [
    "## Hierarchical Clustering"
   ]
  },
  {
   "cell_type": "code",
   "execution_count": null,
   "id": "fbc8e113",
   "metadata": {},
   "outputs": [],
   "source": [
    "hierarchical = hierarchy.linkage(data[[\"CRP (mg/dl)_skaliert\",\n",
    "                                       \"Temperatur (°C)_skaliert\"]], \n",
    "                                       method = \"ward\")\n",
    "\n",
    "hierarchy.dendrogram(hierarchical)\n",
    "\n",
    "plt.show()"
   ]
  },
  {
   "cell_type": "code",
   "execution_count": null,
   "id": "562ced1a",
   "metadata": {},
   "outputs": [],
   "source": [
    "hierarchical = AgglomerativeClustering(n_clusters = 3, linkage = \"ward\")\n",
    "\n",
    "model_hierarchical = hierarchical.fit(data[[\"CRP (mg/dl)_skaliert\", \"Temperatur (°C)_skaliert\"]])\n",
    "\n",
    "labels = model_hierarchical.labels_"
   ]
  },
  {
   "cell_type": "code",
   "execution_count": null,
   "id": "1fff1000",
   "metadata": {},
   "outputs": [],
   "source": [
    "data[\"cluster\"] = labels\n",
    "\n",
    "print(data)"
   ]
  },
  {
   "cell_type": "code",
   "execution_count": null,
   "id": "fceeff1b",
   "metadata": {},
   "outputs": [],
   "source": [
    "group1 = data[data.cluster == 0]\n",
    "group2 = data[data.cluster == 1]\n",
    "group3 = data[data.cluster == 2]\n",
    "\n",
    "plt.scatter(group1[\"CRP (mg/dl)_skaliert\"], group1[\"Temperatur (°C)_skaliert\"], label = \"gesund\")\n",
    "plt.scatter(group2[\"CRP (mg/dl)_skaliert\"], group2[\"Temperatur (°C)_skaliert\"], label = \"COVID-19\")\n",
    "plt.scatter(group3[\"CRP (mg/dl)_skaliert\"], group3[\"Temperatur (°C)_skaliert\"], label = \"BaktPneumonie\")\n",
    "\n",
    "plt.xlabel(\"CRP (mg/dl)\")\n",
    "plt.ylabel(\"Temperatur (°C)\")\n",
    "\n",
    "plt.legend()"
   ]
  },
  {
   "cell_type": "markdown",
   "id": "3c484382",
   "metadata": {},
   "source": [
    "## Ellbogen- und Silhouetten-Methode"
   ]
  },
  {
   "cell_type": "code",
   "execution_count": null,
   "id": "501d0638",
   "metadata": {},
   "outputs": [],
   "source": [
    "Sum_of_squared_distances = []\n",
    "k = range(1, 10) \n",
    "\n",
    "for num_clusters in k:\n",
    "    kmeans = KMeans(n_clusters = num_clusters)\n",
    "    kmeans.fit(data[[\"CRP (mg/dl)_skaliert\", \"Temperatur (°C)_skaliert\"]])\n",
    "    Sum_of_squared_distances.append(kmeans.inertia_)\n",
    "\n",
    "plt.plot(k, Sum_of_squared_distances, \"o-\")\n",
    "plt.xlabel(\"k\") \n",
    "plt.ylabel(\"Inertia\") "
   ]
  },
  {
   "cell_type": "code",
   "execution_count": null,
   "id": "b71792a4",
   "metadata": {},
   "outputs": [],
   "source": [
    "silhouette_avg = []\n",
    "range_n_clusters = range(2, 10)\n",
    "\n",
    "for num_clusters in range_n_clusters:\n",
    "    kmeans = KMeans(n_clusters = num_clusters)\n",
    "    kmeans.fit(data[[\"CRP (mg/dl)_skaliert\",\"Temperatur (°C)_skaliert\"]])\n",
    "    cluster_labels = kmeans.labels_\n",
    "\n",
    "    silhouette_avg.append(silhouette_score(data[[\"CRP (mg/dl)_skaliert\",\n",
    "                                                 \"Temperatur (°C)_skaliert\"]],\n",
    "                                                 cluster_labels))\n",
    "\n",
    "plt.plot(range_n_clusters, silhouette_avg, \"o-\")\n",
    "plt.xlabel(\"k\")\n",
    "plt.ylabel(\"Silhouettenkoeffizient\")"
   ]
  }
 ],
 "metadata": {
  "kernelspec": {
   "display_name": "Python 3 (ipykernel)",
   "language": "python",
   "name": "python3"
  },
  "language_info": {
   "codemirror_mode": {
    "name": "ipython",
    "version": 3
   },
   "file_extension": ".py",
   "mimetype": "text/x-python",
   "name": "python",
   "nbconvert_exporter": "python",
   "pygments_lexer": "ipython3",
   "version": "3.9.7"
  }
 },
 "nbformat": 4,
 "nbformat_minor": 5
}
