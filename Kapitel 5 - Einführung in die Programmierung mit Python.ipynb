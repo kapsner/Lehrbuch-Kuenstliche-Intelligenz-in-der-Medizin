{
 "cells": [
  {
   "cell_type": "markdown",
   "metadata": {},
   "source": [
    "# Variablen und Eingaben"
   ]
  },
  {
   "cell_type": "code",
   "execution_count": null,
   "metadata": {},
   "outputs": [],
   "source": [
    "3 + 4"
   ]
  },
  {
   "cell_type": "code",
   "execution_count": null,
   "metadata": {},
   "outputs": [],
   "source": [
    "import tensorflow as tf"
   ]
  },
  {
   "cell_type": "code",
   "execution_count": null,
   "metadata": {},
   "outputs": [],
   "source": [
    "2 * 2"
   ]
  },
  {
   "cell_type": "code",
   "execution_count": null,
   "metadata": {},
   "outputs": [],
   "source": [
    "11.4 - 7.9"
   ]
  },
  {
   "cell_type": "code",
   "execution_count": null,
   "metadata": {},
   "outputs": [],
   "source": [
    "888/271"
   ]
  },
  {
   "cell_type": "code",
   "execution_count": null,
   "metadata": {},
   "outputs": [],
   "source": [
    "print(\"Ich lerne Python!\")"
   ]
  },
  {
   "cell_type": "code",
   "execution_count": null,
   "metadata": {},
   "outputs": [],
   "source": [
    "print(\"Pi ist definiert als 3,14159...\")"
   ]
  },
  {
   "cell_type": "code",
   "execution_count": null,
   "metadata": {},
   "outputs": [],
   "source": [
    "x = 5\n",
    "x + 15 - 3"
   ]
  },
  {
   "cell_type": "code",
   "execution_count": null,
   "metadata": {},
   "outputs": [],
   "source": [
    "y = 7.2\n",
    "z = x + y\n",
    "\n",
    "print(z)"
   ]
  },
  {
   "cell_type": "code",
   "execution_count": null,
   "metadata": {},
   "outputs": [],
   "source": [
    "# Das ist ein Kommentar\n",
    "# Er wird nicht mit ausgeführt\n",
    "\n",
    "\"\"\"\n",
    "Das\n",
    "hier\n",
    "auch\n",
    "\"\"\"\n",
    "\n",
    "y = 7.2\n",
    "z = x + y\n",
    "\n",
    "print(z)"
   ]
  },
  {
   "cell_type": "code",
   "execution_count": null,
   "metadata": {},
   "outputs": [],
   "source": [
    "name = input(\"Wie heißt du? \")\n",
    "\n",
    "print(name)"
   ]
  },
  {
   "cell_type": "code",
   "execution_count": null,
   "metadata": {},
   "outputs": [],
   "source": [
    "name = input(\"Wie heißt du? \")\n",
    "age = input(\"Wie alt bist du? \")\n",
    "\n",
    "print(\"Du heißt\", name, \"und bist\", age, \"Jahre alt\")"
   ]
  },
  {
   "cell_type": "code",
   "execution_count": null,
   "metadata": {},
   "outputs": [],
   "source": [
    "name = input(\"Wie heißt du? \")\n",
    "\n",
    "len(name)"
   ]
  },
  {
   "cell_type": "code",
   "execution_count": null,
   "metadata": {},
   "outputs": [],
   "source": [
    "age = input(\"Wie alt bist du? \")\n",
    "age = age + 1\n",
    "\n",
    "print (\"Nächsten Geburtstag wirst du\", age)"
   ]
  },
  {
   "cell_type": "code",
   "execution_count": null,
   "metadata": {},
   "outputs": [],
   "source": [
    "age = int(input(\"Wie alt bist du? \"))\n",
    "age = age + 1\n",
    "\n",
    "print (\"Nächsten Geburtstag wirst du\", age)"
   ]
  },
  {
   "cell_type": "code",
   "execution_count": null,
   "metadata": {},
   "outputs": [],
   "source": [
    "centigrate = float(input(\"Nenne eine Temperatur in Grad Celsius \"))\n",
    "kelvin = centigrate - 273.15\n",
    "\n",
    "print (centigrate, \"Grad Celsius entspricht\", kelvin, \"Kelvin\")"
   ]
  },
  {
   "cell_type": "markdown",
   "metadata": {},
   "source": [
    "# Mathematik"
   ]
  },
  {
   "cell_type": "code",
   "execution_count": null,
   "metadata": {},
   "outputs": [],
   "source": [
    "a = 10**2\n",
    "b = 7**3\n",
    "c = 10**-4\n",
    "\n",
    "print(a, b, c)"
   ]
  },
  {
   "cell_type": "code",
   "execution_count": null,
   "metadata": {},
   "outputs": [],
   "source": [
    "100**0.5"
   ]
  },
  {
   "cell_type": "code",
   "execution_count": null,
   "metadata": {},
   "outputs": [],
   "source": [
    "import math\n",
    "\n",
    "math.sqrt(100)"
   ]
  },
  {
   "cell_type": "code",
   "execution_count": null,
   "metadata": {},
   "outputs": [],
   "source": [
    "print(\"Pi:\", math.pi)\n",
    "\n",
    "print(\"e:\", math.e)"
   ]
  },
  {
   "cell_type": "code",
   "execution_count": null,
   "metadata": {},
   "outputs": [],
   "source": [
    "print(round(math.pi, 2))\n",
    "\n",
    "print(round(math.e, 5))\n",
    "\n",
    "print(round(12.345, 0))"
   ]
  },
  {
   "cell_type": "code",
   "execution_count": null,
   "metadata": {},
   "outputs": [],
   "source": [
    "num1 = int(input(\"Nenne eine erste Zahl: \"))\n",
    "num2 = int(input(\"Nenne eine zweite Zahl: \"))\n",
    "\n",
    "result = num1//num2\n",
    "remainder = num1%num2\n",
    "\n",
    "print(num1, \"geteilt durch\", num2, \"ist\", result, \"Rest\", remainder)"
   ]
  },
  {
   "cell_type": "markdown",
   "metadata": {},
   "source": [
    "# If-Anweisungen"
   ]
  },
  {
   "cell_type": "code",
   "execution_count": null,
   "metadata": {},
   "outputs": [],
   "source": [
    "x = 5\n",
    "\n",
    "if x < 0:\n",
    "    print (x, \"ist eine negative Zahl\")\n",
    "elif x == 0:\n",
    "    print (x, \"ist 0\")\n",
    "else:\n",
    "    print (x, \"ist eine positive Zahl\")"
   ]
  },
  {
   "cell_type": "code",
   "execution_count": null,
   "metadata": {},
   "outputs": [],
   "source": [
    "name1 = input(\"Wie heißt du? \")\n",
    "\n",
    "length = len(name1)\n",
    "\n",
    "if length < 5:\n",
    "    print (name1, \"ist ein eher kurzer Name\")\n",
    "else:\n",
    "    print (name1, \"ist ein eher langer Name\")\n",
    "    \n",
    "name2 = input(\"Wie heißt du? \")\n",
    "\n",
    "length = len(name2)\n",
    "\n",
    "if length < 5:\n",
    "    print (name2, \"ist ein eher kurzer Name\")\n",
    "else:\n",
    "    print (name2, \"ist ein eher langer Name\")"
   ]
  },
  {
   "cell_type": "code",
   "execution_count": null,
   "metadata": {},
   "outputs": [],
   "source": [
    "subject = input(\"Was ist deine präferierte medizinische Fachrichtung? \")\n",
    "\n",
    "if subject == \"Innere Medizin\" or subject == \"innere Medizin\" or subject == \"Innere\":\n",
    "    print (\"Ich mag auch innere Medizin!\")\n",
    "else:\n",
    "    print (subject, \"ist nicht so meins - ich präferiere innere Medizin\")"
   ]
  },
  {
   "cell_type": "markdown",
   "metadata": {},
   "source": [
    "# For-Schleifen"
   ]
  },
  {
   "cell_type": "code",
   "execution_count": null,
   "metadata": {},
   "outputs": [],
   "source": [
    "for i in range (1,5):\n",
    "    print(i)"
   ]
  },
  {
   "cell_type": "code",
   "execution_count": null,
   "metadata": {},
   "outputs": [],
   "source": [
    "for i in range (1,10,2):\n",
    "    print(i)"
   ]
  },
  {
   "cell_type": "code",
   "execution_count": null,
   "metadata": {},
   "outputs": [],
   "source": [
    "for i in range (0,5):\n",
    "    print(\"Python\")"
   ]
  },
  {
   "cell_type": "code",
   "execution_count": null,
   "metadata": {},
   "outputs": [],
   "source": [
    "num = int(input(\"Nenne eine Zahl: \"))\n",
    "\n",
    "if num <=5:\n",
    "    for i in range (1,num+1):\n",
    "        print(i)\n",
    "else:\n",
    "    print(\"Nicht genug Platz\")"
   ]
  },
  {
   "cell_type": "markdown",
   "metadata": {},
   "source": [
    "# While-Schleifen"
   ]
  },
  {
   "cell_type": "code",
   "execution_count": null,
   "metadata": {},
   "outputs": [],
   "source": [
    "num = 0\n",
    "\n",
    "while num <= 5:\n",
    "    num = num + 1\n",
    "    print(num)"
   ]
  },
  {
   "cell_type": "code",
   "execution_count": null,
   "metadata": {},
   "outputs": [],
   "source": [
    "again = \"Ja\"\n",
    "\n",
    "while again == \"Ja\" or again == \"ja\":\n",
    "    print(\"Weiter geht's!\")\n",
    "    again = input(\"Möchtest du noch einmal? \")\n",
    "\n",
    "print(\"Das war's\")"
   ]
  },
  {
   "cell_type": "code",
   "execution_count": null,
   "metadata": {},
   "outputs": [],
   "source": [
    "again = \"Ja\"\n",
    "\n",
    "while True:\n",
    "    if again == \"Ja\" or again == \"ja\":\n",
    "        print(\"Weiter geht's!\")\n",
    "        again = input(\"Möchtest du noch einmal? \")\n",
    "    else:\n",
    "        break\n",
    "\n",
    "print(\"Das war's\")"
   ]
  },
  {
   "cell_type": "markdown",
   "metadata": {},
   "source": [
    "# Tuple, Listen, Dictionaries"
   ]
  },
  {
   "cell_type": "markdown",
   "metadata": {},
   "source": [
    "## Tuple"
   ]
  },
  {
   "cell_type": "code",
   "execution_count": null,
   "metadata": {},
   "outputs": [],
   "source": [
    "organ_tuple = (\"Gehirn\", \"Lunge\", \"Herz\", \"Leber\")\n",
    "\n",
    "print(organ_tuple)"
   ]
  },
  {
   "cell_type": "code",
   "execution_count": null,
   "metadata": {},
   "outputs": [],
   "source": [
    "print(organ_tuple[3])"
   ]
  },
  {
   "cell_type": "code",
   "execution_count": null,
   "metadata": {},
   "outputs": [],
   "source": [
    "len(organ_tuple)"
   ]
  },
  {
   "cell_type": "markdown",
   "metadata": {},
   "source": [
    "## Listen"
   ]
  },
  {
   "cell_type": "code",
   "execution_count": null,
   "metadata": {},
   "outputs": [],
   "source": [
    "organ_list = [\"Gehirn\", \"Lunge\", \"Herz\", \"Leber\"]\n",
    "\n",
    "print(organ_list)"
   ]
  },
  {
   "cell_type": "code",
   "execution_count": null,
   "metadata": {},
   "outputs": [],
   "source": [
    "print(organ_list[3])"
   ]
  },
  {
   "cell_type": "code",
   "execution_count": null,
   "metadata": {},
   "outputs": [],
   "source": [
    "len(organ_list)"
   ]
  },
  {
   "cell_type": "code",
   "execution_count": null,
   "metadata": {},
   "outputs": [],
   "source": [
    "organ_list.append(\"Niere\")\n",
    "\n",
    "print(organ_list)"
   ]
  },
  {
   "cell_type": "code",
   "execution_count": null,
   "metadata": {},
   "outputs": [],
   "source": [
    "organ_list.insert(0, \"Darm\")\n",
    "\n",
    "print(organ_list)"
   ]
  },
  {
   "cell_type": "code",
   "execution_count": null,
   "metadata": {},
   "outputs": [],
   "source": [
    "del organ_list[1]\n",
    "\n",
    "print(organ_list)"
   ]
  },
  {
   "cell_type": "code",
   "execution_count": null,
   "metadata": {},
   "outputs": [],
   "source": [
    "organ_list.sort()\n",
    "\n",
    "print(organ_list)"
   ]
  },
  {
   "cell_type": "code",
   "execution_count": null,
   "metadata": {},
   "outputs": [],
   "source": [
    "numbers = []\n",
    "\n",
    "for i in range(3):\n",
    "    num = int(input(\"Gib eine Zahl ein: \"))\n",
    "    numbers.append(num)\n",
    "\n",
    "while True:\n",
    "    again = input(\"Möchtest du eine weitere Zahl hinzufügen? \")\n",
    "    if again == \"Ja\" or again == \"ja\":\n",
    "        num = int(input(\"Gib eine weitere Zahl ein: \"))\n",
    "        numbers.append(num)\n",
    "    else:\n",
    "        break\n",
    "    \n",
    "numbers.sort()\n",
    "\n",
    "print(numbers)"
   ]
  },
  {
   "cell_type": "code",
   "execution_count": null,
   "metadata": {},
   "outputs": [],
   "source": [
    "two_dim_list = [[1, 2, 3], \n",
    "                [4, 5, 6]]\n",
    "\n",
    "print(two_dim_list)"
   ]
  },
  {
   "cell_type": "code",
   "execution_count": null,
   "metadata": {},
   "outputs": [],
   "source": [
    "three_dim_list = [[[1, 2, 3], \n",
    "                   [4, 5, 6]], \n",
    "             \n",
    "                  [[7, 8, 9], \n",
    "                   [10, 11, 12]]]\n",
    "\n",
    "print(three_dim_list)"
   ]
  },
  {
   "cell_type": "markdown",
   "metadata": {},
   "source": [
    "## Dictionaries"
   ]
  },
  {
   "cell_type": "code",
   "execution_count": null,
   "metadata": {},
   "outputs": [],
   "source": [
    "organ_dictionary = {1: \"Gehirn\", 2: \"Lunge\", 6: \"Herz\", 4: \"Leber\"}\n",
    "\n",
    "print(organ_dictionary)"
   ]
  },
  {
   "cell_type": "code",
   "execution_count": null,
   "metadata": {},
   "outputs": [],
   "source": [
    "print(organ_dictionary[6])"
   ]
  },
  {
   "cell_type": "code",
   "execution_count": null,
   "metadata": {},
   "outputs": [],
   "source": [
    "len(organ_dictionary)"
   ]
  },
  {
   "cell_type": "code",
   "execution_count": null,
   "metadata": {},
   "outputs": [],
   "source": [
    "organ_dictionary[3] = \"Milz\"\n",
    "\n",
    "print(organ_dictionary)"
   ]
  },
  {
   "cell_type": "code",
   "execution_count": null,
   "metadata": {},
   "outputs": [],
   "source": [
    "organ_dictionary[2] = \"Magen\"\n",
    "\n",
    "print(organ_dictionary)"
   ]
  },
  {
   "cell_type": "code",
   "execution_count": null,
   "metadata": {
    "scrolled": true
   },
   "outputs": [],
   "source": [
    "sorted_dictionary = dict(sorted(organ_dictionary.items()))\n",
    "\n",
    "print(sorted_dictionary)"
   ]
  },
  {
   "cell_type": "code",
   "execution_count": null,
   "metadata": {},
   "outputs": [],
   "source": [
    "two_dim_dict = {1: {\"A\": 1, \"B\": 2, \"C\": 3}, \n",
    "                2: {\"A\": 4, \"B\": 5, \"C\": 6}}\n",
    "\n",
    "print(two_dim_dict)"
   ]
  },
  {
   "cell_type": "code",
   "execution_count": null,
   "metadata": {},
   "outputs": [],
   "source": [
    "three_dim_dict = {1: {1: {\"A\": 1, \"B\": 2, \"C\": 3}, \n",
    "                      2: {\"A\": 4, \"B\": 5, \"C\": 6}}, \n",
    "                  \n",
    "                  2: {3: {\"A\": 1, \"B\": 2, \"C\": 3}, \n",
    "                      4: {\"A\": 4, \"B\": 5, \"C\": 6}}}\n",
    "\n",
    "print(three_dim_dict)"
   ]
  },
  {
   "cell_type": "markdown",
   "metadata": {},
   "source": [
    "# Arrays"
   ]
  },
  {
   "cell_type": "code",
   "execution_count": null,
   "metadata": {},
   "outputs": [],
   "source": [
    "import numpy as np"
   ]
  },
  {
   "cell_type": "code",
   "execution_count": null,
   "metadata": {},
   "outputs": [],
   "source": [
    "one_dim_array = np.array([1, 2, 3])\n",
    "\n",
    "print(one_dim_array)\n",
    "\n",
    "print(\"Dimension:\", one_dim_array.ndim)\n",
    "\n",
    "print(\"Shape:\", one_dim_array.shape)"
   ]
  },
  {
   "cell_type": "code",
   "execution_count": null,
   "metadata": {},
   "outputs": [],
   "source": [
    "two_dim_array = np.array([[1, 2, 3],\n",
    "                          [4, 5, 6],\n",
    "                          [7, 8 , 9]])\n",
    "\n",
    "print(two_dim_array)\n",
    "\n",
    "print(\"Dimension:\", two_dim_array.ndim)\n",
    "\n",
    "print(\"Shape:\", two_dim_array.shape)"
   ]
  },
  {
   "cell_type": "code",
   "execution_count": null,
   "metadata": {},
   "outputs": [],
   "source": [
    "three_dim_array = np.array([[[1, 2, 3],\n",
    "                            [4, 5, 6],\n",
    "                            [7, 8 , 9]], \n",
    "                          \n",
    "                           [[1, 2, 3],\n",
    "                            [4, 5, 6],\n",
    "                            [7, 8 , 9]]])\n",
    "\n",
    "print(three_dim_array)\n",
    "\n",
    "print(\"Dimension:\", three_dim_array.ndim)\n",
    "\n",
    "print(\"Shape:\", three_dim_array.shape)"
   ]
  },
  {
   "cell_type": "code",
   "execution_count": null,
   "metadata": {},
   "outputs": [],
   "source": [
    "two_dim_array = np.array([[1, 2, 3],\n",
    "                          [4, 5, 6]])\n",
    "\n",
    "print(\"Shape:\", two_dim_array.shape)\n",
    "\n",
    "print(\"Zweite Spalte:\", two_dim_array[:, 1])"
   ]
  },
  {
   "cell_type": "code",
   "execution_count": null,
   "metadata": {},
   "outputs": [],
   "source": [
    "two_dim_array = np.array([[1, 2, 3],\n",
    "                          [4, 5, 6],\n",
    "                          [7, 8 , 9]])\n",
    "\n",
    "print(two_dim_array * 2)\n",
    "print()\n",
    "print(two_dim_array + 5)"
   ]
  },
  {
   "cell_type": "markdown",
   "metadata": {},
   "source": [
    "# Lösungen zu den Aufgaben"
   ]
  },
  {
   "cell_type": "code",
   "execution_count": null,
   "metadata": {},
   "outputs": [],
   "source": [
    "# Aufgabe 1\n",
    "\n",
    "name = input(\"Vorname: \")\n",
    "surname = input(\"Nachname: \")\n",
    "\n",
    "print(\"Hallo,\", name, surname)"
   ]
  },
  {
   "cell_type": "code",
   "execution_count": null,
   "metadata": {},
   "outputs": [],
   "source": [
    "# Aufgabe 2\n",
    "\n",
    "bill = float(input(\"Wie viel Euro hat das Abendessen gekostet? \"))\n",
    "guests = int(input(\"Wie viele haben zu Abend gegessen? \"))\n",
    "\n",
    "priceperperson = bill/guests\n",
    "\n",
    "print (\"Jede Person muss\", priceperperson, \"Euro zahlen\")"
   ]
  },
  {
   "cell_type": "code",
   "execution_count": null,
   "metadata": {},
   "outputs": [],
   "source": [
    "# Aufgabe 3\n",
    "\n",
    "x = int(input(\"Nenne einen x-Wert:\"))\n",
    "y = 3 * (x**2) + 3\n",
    "\n",
    "print(\"y =\", y)"
   ]
  },
  {
   "cell_type": "code",
   "execution_count": null,
   "metadata": {},
   "outputs": [],
   "source": [
    "# Aufgabe 4\n",
    "\n",
    "import math\n",
    "\n",
    "radius = int(input(\"Definiere einen Radius: \"))\n",
    "height = int(input(\"Definiere eine Höhe: \"))\n",
    "\n",
    "zylinder = (math.pi * (radius**2)) * height\n",
    "\n",
    "print(int(zylinder))"
   ]
  },
  {
   "cell_type": "code",
   "execution_count": null,
   "metadata": {},
   "outputs": [],
   "source": [
    "# Aufgabe 5\n",
    "\n",
    "number = int(input(\"Bitte nenne eine Zahl zwischen 5 und 10: \"))\n",
    "\n",
    "if number <= 5:\n",
    "    print(\"Zu klein\")\n",
    "elif number >= 10:\n",
    "    print(\"Zu groß\")\n",
    "else: \n",
    "    print(\"Vielen Dank\")"
   ]
  },
  {
   "cell_type": "code",
   "execution_count": null,
   "metadata": {},
   "outputs": [],
   "source": [
    "# Aufgabe 6\n",
    "\n",
    "age = int(input(\"Wie alt bist du? \"))\n",
    "\n",
    "if age < 16:\n",
    "    print(\"Du bist leider noch nicht wahlberechtigt.\")\n",
    "elif age >= 16 and age < 18:\n",
    "    print(\"Du darfst bereits an der Europawahl teilnehmen.\")\n",
    "else:\n",
    "    print(\"Du darfst an der Europawahl und der Bundestagswahl teilnehmen.\")"
   ]
  },
  {
   "cell_type": "code",
   "execution_count": null,
   "metadata": {},
   "outputs": [],
   "source": [
    "# Aufgabe 7\n",
    "\n",
    "name = input(\"Wie heißt du: \")\n",
    "\n",
    "num = int(input(\"Nenne eine Zahl: \"))\n",
    "\n",
    "for i in range (1, num+1):\n",
    "    print(name)"
   ]
  },
  {
   "cell_type": "code",
   "execution_count": null,
   "metadata": {},
   "outputs": [],
   "source": [
    "# Aufgabe 8\n",
    "\n",
    "num = int(input(\"Wie viele Patient*innen sollen operiert werden? \"))\n",
    "\n",
    "if num <= 10:\n",
    "    for i in range (1,num+1):\n",
    "        name = input(\"Wie lautet der nächste Name? \")\n",
    "        print(name, \"wurde zum OP-Plan hinzugefügt\")\n",
    "        print()\n",
    "else:\n",
    "    print(\"Zu viele Patient*innen\")"
   ]
  },
  {
   "cell_type": "code",
   "execution_count": null,
   "metadata": {},
   "outputs": [],
   "source": [
    "# Aufgabe 9\n",
    "\n",
    "num = int(input(\"Nenne eine Zahl: \"))\n",
    "\n",
    "again = \"Ja\"\n",
    "\n",
    "while again == \"Ja\" or again == \"ja\":\n",
    "    num2 = int(input(\"Nenne eine weitere Zahl: \"))\n",
    "    num = num + num2\n",
    "    again = input(\"Möchtest du eine Zahl hinzuaddieren? \")\n",
    "\n",
    "print(\"Die Summe beträgt\", num)"
   ]
  },
  {
   "cell_type": "code",
   "execution_count": null,
   "metadata": {},
   "outputs": [],
   "source": [
    "# Aufgabe 10\n",
    "\n",
    "medical_field = [\"Radiologie\", \"Kardiologie\", \"Dermatologie\"]\n",
    "\n",
    "new = input(\"Nenne eine medizinische Fachrichtung: \")\n",
    "\n",
    "if new not in medical_field:\n",
    "    medical_field.append(new)\n",
    "\n",
    "print(medical_field)"
   ]
  },
  {
   "cell_type": "code",
   "execution_count": null,
   "metadata": {},
   "outputs": [],
   "source": [
    "# Aufgabe 11\n",
    "\n",
    "OP_Plan = []\n",
    "\n",
    "for i in range(3):\n",
    "    name = input(\"Gib einen Namen ein: \")\n",
    "    OP_Plan.append(name)\n",
    "\n",
    "while True:\n",
    "    again = input(\"Möchtest du einen weiteren Namen hinzufügen? \")\n",
    "    if again == \"Ja\" or again == \"ja\":\n",
    "        name = input(\"Gib eine weiteren Namen ein: \")\n",
    "        OP_Plan.append(name)\n",
    "    else:\n",
    "        break\n",
    "    \n",
    "OP_Plan.sort()\n",
    "\n",
    "print(OP_Plan)"
   ]
  },
  {
   "cell_type": "code",
   "execution_count": null,
   "metadata": {},
   "outputs": [],
   "source": [
    "# Aufgabe 12\n",
    "\n",
    "medical_field = {1: \"Radiologie\", 2: \"Kardiologie\", 3: \"Dermatologie\"}\n",
    "\n",
    "new = input(\"Nenne eine medizinische Fachrichtung: \")\n",
    "\n",
    "if new not in medical_field.values():\n",
    "    medical_field[4] = new\n",
    "\n",
    "print(medical_field)"
   ]
  },
  {
   "cell_type": "code",
   "execution_count": null,
   "metadata": {},
   "outputs": [],
   "source": [
    "# Aufgabe 13\n",
    "\n",
    "import numpy as np\n",
    "\n",
    "two_dim_array = np.array([[1, 2, 3],\n",
    "                          [4, 5, 6],\n",
    "                          [7, 8, 9],\n",
    "                          [10, 11, 12]])\n",
    "\n",
    "print(two_dim_array)\n",
    "\n",
    "print(\"Shape:\", two_dim_array.shape)\n",
    "\n",
    "print(\"Erste zwei Zeilen\", two_dim_array[0:2])"
   ]
  },
  {
   "cell_type": "code",
   "execution_count": null,
   "metadata": {},
   "outputs": [],
   "source": [
    "# Aufgabe 14\n",
    "\n",
    "import numpy as np\n",
    "\n",
    "A = np.array([[1, 2, 3],\n",
    "              [4, 5, 6]])\n",
    "\n",
    "y = 2 * A - 4\n",
    "\n",
    "print(y)"
   ]
  },
  {
   "cell_type": "code",
   "execution_count": null,
   "metadata": {},
   "outputs": [],
   "source": [
    "# Aufgabe 15\n",
    "\n",
    "import math\n",
    "\n",
    "A = np.array([[1, 2, 3],\n",
    "              [4, 5, 6]])\n",
    "\n",
    "y = 1/(1 + (math.e**(-A)))\n",
    "\n",
    "print(y)"
   ]
  }
 ],
 "metadata": {
  "kernelspec": {
   "display_name": "Python 3 (ipykernel)",
   "language": "python",
   "name": "python3"
  },
  "language_info": {
   "codemirror_mode": {
    "name": "ipython",
    "version": 3
   },
   "file_extension": ".py",
   "mimetype": "text/x-python",
   "name": "python",
   "nbconvert_exporter": "python",
   "pygments_lexer": "ipython3",
   "version": "3.9.7"
  }
 },
 "nbformat": 4,
 "nbformat_minor": 2
}
