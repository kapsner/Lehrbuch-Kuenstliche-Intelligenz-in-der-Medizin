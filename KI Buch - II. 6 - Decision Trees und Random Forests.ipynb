{
 "cells": [
  {
   "cell_type": "markdown",
   "id": "f10b6a54",
   "metadata": {},
   "source": [
    "# Decision Trees und Random Forests"
   ]
  },
  {
   "cell_type": "markdown",
   "id": "73fe7005",
   "metadata": {},
   "source": [
    "## Quelle der Daten\n",
    "\n",
    "https://www.kaggle.com/datasets/captainozlem/framingham-chd-preprocessed-data (zuletzt aufgerufen: 01/2024)\n",
    "\n",
    "https://www.framinghamheartstudy.org/ (zuletzt aufgerufen: 01/2024)"
   ]
  },
  {
   "cell_type": "markdown",
   "id": "c049fa83",
   "metadata": {},
   "source": [
    "## Installation der Bibliotheken"
   ]
  },
  {
   "cell_type": "code",
   "execution_count": 1,
   "id": "aa79e439",
   "metadata": {},
   "outputs": [],
   "source": [
    "import pandas as pd\n",
    "\n",
    "import matplotlib.pyplot as plt\n",
    "\n",
    "from imblearn.over_sampling import SMOTE\n",
    "\n",
    "from sklearn.model_selection import train_test_split\n",
    "\n",
    "from sklearn.tree import DecisionTreeClassifier\n",
    "\n",
    "from sklearn.ensemble import RandomForestClassifier\n",
    "\n",
    "from sklearn import tree"
   ]
  },
  {
   "cell_type": "markdown",
   "id": "3ac54066",
   "metadata": {},
   "source": [
    "## Einlesen der Daten"
   ]
  },
  {
   "cell_type": "code",
   "execution_count": 2,
   "id": "d77e6c5a",
   "metadata": {},
   "outputs": [
    {
     "data": {
      "text/html": [
       "<div>\n",
       "<style scoped>\n",
       "    .dataframe tbody tr th:only-of-type {\n",
       "        vertical-align: middle;\n",
       "    }\n",
       "\n",
       "    .dataframe tbody tr th {\n",
       "        vertical-align: top;\n",
       "    }\n",
       "\n",
       "    .dataframe thead th {\n",
       "        text-align: right;\n",
       "    }\n",
       "</style>\n",
       "<table border=\"1\" class=\"dataframe\">\n",
       "  <thead>\n",
       "    <tr style=\"text-align: right;\">\n",
       "      <th></th>\n",
       "      <th>ZehnJahreKHK</th>\n",
       "      <th>Geschlecht</th>\n",
       "      <th>Alter</th>\n",
       "      <th>Raucher</th>\n",
       "      <th>ZigProTag</th>\n",
       "      <th>BDMedikamente</th>\n",
       "      <th>Schlaganfall</th>\n",
       "      <th>ArtHypertonie</th>\n",
       "      <th>Diabetes</th>\n",
       "      <th>GesCholesterin</th>\n",
       "      <th>Systolisch</th>\n",
       "      <th>Diastolisch</th>\n",
       "      <th>BMI</th>\n",
       "      <th>Herzfrequenz</th>\n",
       "      <th>Blutzucker</th>\n",
       "    </tr>\n",
       "  </thead>\n",
       "  <tbody>\n",
       "    <tr>\n",
       "      <th>1</th>\n",
       "      <td>0</td>\n",
       "      <td>M</td>\n",
       "      <td>38</td>\n",
       "      <td>1</td>\n",
       "      <td>20.0</td>\n",
       "      <td>0.0</td>\n",
       "      <td>0</td>\n",
       "      <td>0</td>\n",
       "      <td>0</td>\n",
       "      <td>113.0</td>\n",
       "      <td>120</td>\n",
       "      <td>84</td>\n",
       "      <td>30.0</td>\n",
       "      <td>78.0</td>\n",
       "      <td>85.0</td>\n",
       "    </tr>\n",
       "    <tr>\n",
       "      <th>2</th>\n",
       "      <td>0</td>\n",
       "      <td>M</td>\n",
       "      <td>47</td>\n",
       "      <td>1</td>\n",
       "      <td>20.0</td>\n",
       "      <td>0.0</td>\n",
       "      <td>0</td>\n",
       "      <td>0</td>\n",
       "      <td>0</td>\n",
       "      <td>119.0</td>\n",
       "      <td>117</td>\n",
       "      <td>79</td>\n",
       "      <td>26.0</td>\n",
       "      <td>75.0</td>\n",
       "      <td>78.0</td>\n",
       "    </tr>\n",
       "    <tr>\n",
       "      <th>3</th>\n",
       "      <td>1</td>\n",
       "      <td>M</td>\n",
       "      <td>66</td>\n",
       "      <td>0</td>\n",
       "      <td>0.0</td>\n",
       "      <td>0.0</td>\n",
       "      <td>0</td>\n",
       "      <td>1</td>\n",
       "      <td>0</td>\n",
       "      <td>124.0</td>\n",
       "      <td>138</td>\n",
       "      <td>91</td>\n",
       "      <td>32.0</td>\n",
       "      <td>75.0</td>\n",
       "      <td>96.0</td>\n",
       "    </tr>\n",
       "    <tr>\n",
       "      <th>6</th>\n",
       "      <td>1</td>\n",
       "      <td>M</td>\n",
       "      <td>51</td>\n",
       "      <td>1</td>\n",
       "      <td>7.0</td>\n",
       "      <td>0.0</td>\n",
       "      <td>0</td>\n",
       "      <td>1</td>\n",
       "      <td>0</td>\n",
       "      <td>133.0</td>\n",
       "      <td>138</td>\n",
       "      <td>78</td>\n",
       "      <td>17.0</td>\n",
       "      <td>80.0</td>\n",
       "      <td>65.0</td>\n",
       "    </tr>\n",
       "    <tr>\n",
       "      <th>7</th>\n",
       "      <td>0</td>\n",
       "      <td>W</td>\n",
       "      <td>36</td>\n",
       "      <td>1</td>\n",
       "      <td>3.0</td>\n",
       "      <td>0.0</td>\n",
       "      <td>0</td>\n",
       "      <td>0</td>\n",
       "      <td>0</td>\n",
       "      <td>135.0</td>\n",
       "      <td>108</td>\n",
       "      <td>74</td>\n",
       "      <td>23.0</td>\n",
       "      <td>73.0</td>\n",
       "      <td>75.0</td>\n",
       "    </tr>\n",
       "  </tbody>\n",
       "</table>\n",
       "</div>"
      ],
      "text/plain": [
       "   ZehnJahreKHK Geschlecht  Alter  Raucher  ZigProTag  BDMedikamente  \\\n",
       "1             0          M     38        1       20.0            0.0   \n",
       "2             0          M     47        1       20.0            0.0   \n",
       "3             1          M     66        0        0.0            0.0   \n",
       "6             1          M     51        1        7.0            0.0   \n",
       "7             0          W     36        1        3.0            0.0   \n",
       "\n",
       "   Schlaganfall  ArtHypertonie  Diabetes  GesCholesterin  Systolisch  \\\n",
       "1             0              0         0           113.0         120   \n",
       "2             0              0         0           119.0         117   \n",
       "3             0              1         0           124.0         138   \n",
       "6             0              1         0           133.0         138   \n",
       "7             0              0         0           135.0         108   \n",
       "\n",
       "   Diastolisch   BMI  Herzfrequenz  Blutzucker  \n",
       "1           84  30.0          78.0        85.0  \n",
       "2           79  26.0          75.0        78.0  \n",
       "3           91  32.0          75.0        96.0  \n",
       "6           78  17.0          80.0        65.0  \n",
       "7           74  23.0          73.0        75.0  "
      ]
     },
     "execution_count": 2,
     "metadata": {},
     "output_type": "execute_result"
    }
   ],
   "source": [
    "data = pd.read_excel(\"C:\\\\Users\\\\Tim\\\\Desktop\\\\Buchprojekt KI Medizin\\\\Programmierung\\\\FraminghamHeartStudy.xlsx\", sheet_name = \"Tabelle1\")\n",
    "\n",
    "data = data.dropna()\n",
    "\n",
    "data.head()"
   ]
  },
  {
   "cell_type": "code",
   "execution_count": 3,
   "id": "1929f1ba",
   "metadata": {},
   "outputs": [
    {
     "data": {
      "text/html": [
       "<div>\n",
       "<style scoped>\n",
       "    .dataframe tbody tr th:only-of-type {\n",
       "        vertical-align: middle;\n",
       "    }\n",
       "\n",
       "    .dataframe tbody tr th {\n",
       "        vertical-align: top;\n",
       "    }\n",
       "\n",
       "    .dataframe thead th {\n",
       "        text-align: right;\n",
       "    }\n",
       "</style>\n",
       "<table border=\"1\" class=\"dataframe\">\n",
       "  <thead>\n",
       "    <tr style=\"text-align: right;\">\n",
       "      <th></th>\n",
       "      <th>ZehnJahreKHK</th>\n",
       "      <th>Alter</th>\n",
       "      <th>Raucher</th>\n",
       "      <th>ZigProTag</th>\n",
       "      <th>BDMedikamente</th>\n",
       "      <th>Schlaganfall</th>\n",
       "      <th>ArtHypertonie</th>\n",
       "      <th>Diabetes</th>\n",
       "      <th>GesCholesterin</th>\n",
       "      <th>Systolisch</th>\n",
       "      <th>Diastolisch</th>\n",
       "      <th>BMI</th>\n",
       "      <th>Herzfrequenz</th>\n",
       "      <th>Blutzucker</th>\n",
       "      <th>Geschlecht_M</th>\n",
       "      <th>Geschlecht_W</th>\n",
       "    </tr>\n",
       "  </thead>\n",
       "  <tbody>\n",
       "    <tr>\n",
       "      <th>1</th>\n",
       "      <td>0</td>\n",
       "      <td>38</td>\n",
       "      <td>1</td>\n",
       "      <td>20.0</td>\n",
       "      <td>0.0</td>\n",
       "      <td>0</td>\n",
       "      <td>0</td>\n",
       "      <td>0</td>\n",
       "      <td>113.0</td>\n",
       "      <td>120</td>\n",
       "      <td>84</td>\n",
       "      <td>30.0</td>\n",
       "      <td>78.0</td>\n",
       "      <td>85.0</td>\n",
       "      <td>1</td>\n",
       "      <td>0</td>\n",
       "    </tr>\n",
       "    <tr>\n",
       "      <th>2</th>\n",
       "      <td>0</td>\n",
       "      <td>47</td>\n",
       "      <td>1</td>\n",
       "      <td>20.0</td>\n",
       "      <td>0.0</td>\n",
       "      <td>0</td>\n",
       "      <td>0</td>\n",
       "      <td>0</td>\n",
       "      <td>119.0</td>\n",
       "      <td>117</td>\n",
       "      <td>79</td>\n",
       "      <td>26.0</td>\n",
       "      <td>75.0</td>\n",
       "      <td>78.0</td>\n",
       "      <td>1</td>\n",
       "      <td>0</td>\n",
       "    </tr>\n",
       "    <tr>\n",
       "      <th>3</th>\n",
       "      <td>1</td>\n",
       "      <td>66</td>\n",
       "      <td>0</td>\n",
       "      <td>0.0</td>\n",
       "      <td>0.0</td>\n",
       "      <td>0</td>\n",
       "      <td>1</td>\n",
       "      <td>0</td>\n",
       "      <td>124.0</td>\n",
       "      <td>138</td>\n",
       "      <td>91</td>\n",
       "      <td>32.0</td>\n",
       "      <td>75.0</td>\n",
       "      <td>96.0</td>\n",
       "      <td>1</td>\n",
       "      <td>0</td>\n",
       "    </tr>\n",
       "    <tr>\n",
       "      <th>6</th>\n",
       "      <td>1</td>\n",
       "      <td>51</td>\n",
       "      <td>1</td>\n",
       "      <td>7.0</td>\n",
       "      <td>0.0</td>\n",
       "      <td>0</td>\n",
       "      <td>1</td>\n",
       "      <td>0</td>\n",
       "      <td>133.0</td>\n",
       "      <td>138</td>\n",
       "      <td>78</td>\n",
       "      <td>17.0</td>\n",
       "      <td>80.0</td>\n",
       "      <td>65.0</td>\n",
       "      <td>1</td>\n",
       "      <td>0</td>\n",
       "    </tr>\n",
       "    <tr>\n",
       "      <th>7</th>\n",
       "      <td>0</td>\n",
       "      <td>36</td>\n",
       "      <td>1</td>\n",
       "      <td>3.0</td>\n",
       "      <td>0.0</td>\n",
       "      <td>0</td>\n",
       "      <td>0</td>\n",
       "      <td>0</td>\n",
       "      <td>135.0</td>\n",
       "      <td>108</td>\n",
       "      <td>74</td>\n",
       "      <td>23.0</td>\n",
       "      <td>73.0</td>\n",
       "      <td>75.0</td>\n",
       "      <td>0</td>\n",
       "      <td>1</td>\n",
       "    </tr>\n",
       "  </tbody>\n",
       "</table>\n",
       "</div>"
      ],
      "text/plain": [
       "   ZehnJahreKHK  Alter  Raucher  ZigProTag  BDMedikamente  Schlaganfall  \\\n",
       "1             0     38        1       20.0            0.0             0   \n",
       "2             0     47        1       20.0            0.0             0   \n",
       "3             1     66        0        0.0            0.0             0   \n",
       "6             1     51        1        7.0            0.0             0   \n",
       "7             0     36        1        3.0            0.0             0   \n",
       "\n",
       "   ArtHypertonie  Diabetes  GesCholesterin  Systolisch  Diastolisch   BMI  \\\n",
       "1              0         0           113.0         120           84  30.0   \n",
       "2              0         0           119.0         117           79  26.0   \n",
       "3              1         0           124.0         138           91  32.0   \n",
       "6              1         0           133.0         138           78  17.0   \n",
       "7              0         0           135.0         108           74  23.0   \n",
       "\n",
       "   Herzfrequenz  Blutzucker  Geschlecht_M  Geschlecht_W  \n",
       "1          78.0        85.0             1             0  \n",
       "2          75.0        78.0             1             0  \n",
       "3          75.0        96.0             1             0  \n",
       "6          80.0        65.0             1             0  \n",
       "7          73.0        75.0             0             1  "
      ]
     },
     "execution_count": 3,
     "metadata": {},
     "output_type": "execute_result"
    }
   ],
   "source": [
    "data_new = pd.get_dummies(data, columns = [\"Geschlecht\"])\n",
    "\n",
    "data_new.head()"
   ]
  },
  {
   "cell_type": "code",
   "execution_count": 4,
   "id": "963a7df0",
   "metadata": {},
   "outputs": [
    {
     "data": {
      "text/plain": [
       "<Axes: >"
      ]
     },
     "execution_count": 4,
     "metadata": {},
     "output_type": "execute_result"
    },
    {
     "data": {
      "image/png": "[encoded data removed]",
      "text/plain": [
       "<Figure size 432x288 with 1 Axes>"
      ]
     },
     "metadata": {
      "needs_background": "light"
     },
     "output_type": "display_data"
    }
   ],
   "source": [
    "count_diabetes = data_new[\"Diabetes\"].value_counts()\n",
    "\n",
    "count_diabetes.plot(kind = \"bar\", rot = 0)"
   ]
  },
  {
   "cell_type": "markdown",
   "id": "6ac302c0",
   "metadata": {},
   "source": [
    "## Aufteilung der Daten und Resampling"
   ]
  },
  {
   "cell_type": "code",
   "execution_count": 5,
   "id": "b79d3731",
   "metadata": {},
   "outputs": [],
   "source": [
    "x = data_new.iloc[:, [1, 2, 3, 4, 5, 6, 8, 9, 10, 11, 12, 13, 14]]\n",
    "\n",
    "y = data_new.iloc[:, 7]"
   ]
  },
  {
   "cell_type": "code",
   "execution_count": 6,
   "id": "b0bc8d22",
   "metadata": {},
   "outputs": [
    {
     "data": {
      "text/html": [
       "<div>\n",
       "<style scoped>\n",
       "    .dataframe tbody tr th:only-of-type {\n",
       "        vertical-align: middle;\n",
       "    }\n",
       "\n",
       "    .dataframe tbody tr th {\n",
       "        vertical-align: top;\n",
       "    }\n",
       "\n",
       "    .dataframe thead th {\n",
       "        text-align: right;\n",
       "    }\n",
       "</style>\n",
       "<table border=\"1\" class=\"dataframe\">\n",
       "  <thead>\n",
       "    <tr style=\"text-align: right;\">\n",
       "      <th></th>\n",
       "      <th>Alter</th>\n",
       "      <th>Raucher</th>\n",
       "      <th>ZigProTag</th>\n",
       "      <th>BDMedikamente</th>\n",
       "      <th>Schlaganfall</th>\n",
       "      <th>ArtHypertonie</th>\n",
       "      <th>GesCholesterin</th>\n",
       "      <th>Systolisch</th>\n",
       "      <th>Diastolisch</th>\n",
       "      <th>BMI</th>\n",
       "      <th>Herzfrequenz</th>\n",
       "      <th>Blutzucker</th>\n",
       "      <th>Geschlecht_M</th>\n",
       "    </tr>\n",
       "  </thead>\n",
       "  <tbody>\n",
       "    <tr>\n",
       "      <th>1</th>\n",
       "      <td>38</td>\n",
       "      <td>1</td>\n",
       "      <td>20.0</td>\n",
       "      <td>0.0</td>\n",
       "      <td>0</td>\n",
       "      <td>0</td>\n",
       "      <td>113.0</td>\n",
       "      <td>120</td>\n",
       "      <td>84</td>\n",
       "      <td>30.0</td>\n",
       "      <td>78.0</td>\n",
       "      <td>85.0</td>\n",
       "      <td>1</td>\n",
       "    </tr>\n",
       "    <tr>\n",
       "      <th>2</th>\n",
       "      <td>47</td>\n",
       "      <td>1</td>\n",
       "      <td>20.0</td>\n",
       "      <td>0.0</td>\n",
       "      <td>0</td>\n",
       "      <td>0</td>\n",
       "      <td>119.0</td>\n",
       "      <td>117</td>\n",
       "      <td>79</td>\n",
       "      <td>26.0</td>\n",
       "      <td>75.0</td>\n",
       "      <td>78.0</td>\n",
       "      <td>1</td>\n",
       "    </tr>\n",
       "    <tr>\n",
       "      <th>3</th>\n",
       "      <td>66</td>\n",
       "      <td>0</td>\n",
       "      <td>0.0</td>\n",
       "      <td>0.0</td>\n",
       "      <td>0</td>\n",
       "      <td>1</td>\n",
       "      <td>124.0</td>\n",
       "      <td>138</td>\n",
       "      <td>91</td>\n",
       "      <td>32.0</td>\n",
       "      <td>75.0</td>\n",
       "      <td>96.0</td>\n",
       "      <td>1</td>\n",
       "    </tr>\n",
       "    <tr>\n",
       "      <th>6</th>\n",
       "      <td>51</td>\n",
       "      <td>1</td>\n",
       "      <td>7.0</td>\n",
       "      <td>0.0</td>\n",
       "      <td>0</td>\n",
       "      <td>1</td>\n",
       "      <td>133.0</td>\n",
       "      <td>138</td>\n",
       "      <td>78</td>\n",
       "      <td>17.0</td>\n",
       "      <td>80.0</td>\n",
       "      <td>65.0</td>\n",
       "      <td>1</td>\n",
       "    </tr>\n",
       "    <tr>\n",
       "      <th>7</th>\n",
       "      <td>36</td>\n",
       "      <td>1</td>\n",
       "      <td>3.0</td>\n",
       "      <td>0.0</td>\n",
       "      <td>0</td>\n",
       "      <td>0</td>\n",
       "      <td>135.0</td>\n",
       "      <td>108</td>\n",
       "      <td>74</td>\n",
       "      <td>23.0</td>\n",
       "      <td>73.0</td>\n",
       "      <td>75.0</td>\n",
       "      <td>0</td>\n",
       "    </tr>\n",
       "  </tbody>\n",
       "</table>\n",
       "</div>"
      ],
      "text/plain": [
       "   Alter  Raucher  ZigProTag  BDMedikamente  Schlaganfall  ArtHypertonie  \\\n",
       "1     38        1       20.0            0.0             0              0   \n",
       "2     47        1       20.0            0.0             0              0   \n",
       "3     66        0        0.0            0.0             0              1   \n",
       "6     51        1        7.0            0.0             0              1   \n",
       "7     36        1        3.0            0.0             0              0   \n",
       "\n",
       "   GesCholesterin  Systolisch  Diastolisch   BMI  Herzfrequenz  Blutzucker  \\\n",
       "1           113.0         120           84  30.0          78.0        85.0   \n",
       "2           119.0         117           79  26.0          75.0        78.0   \n",
       "3           124.0         138           91  32.0          75.0        96.0   \n",
       "6           133.0         138           78  17.0          80.0        65.0   \n",
       "7           135.0         108           74  23.0          73.0        75.0   \n",
       "\n",
       "   Geschlecht_M  \n",
       "1             1  \n",
       "2             1  \n",
       "3             1  \n",
       "6             1  \n",
       "7             0  "
      ]
     },
     "execution_count": 6,
     "metadata": {},
     "output_type": "execute_result"
    }
   ],
   "source": [
    "x.head()"
   ]
  },
  {
   "cell_type": "code",
   "execution_count": 7,
   "id": "08e66348",
   "metadata": {},
   "outputs": [
    {
     "data": {
      "text/plain": [
       "1    0\n",
       "2    0\n",
       "3    0\n",
       "6    0\n",
       "7    0\n",
       "Name: Diabetes, dtype: int64"
      ]
     },
     "execution_count": 7,
     "metadata": {},
     "output_type": "execute_result"
    }
   ],
   "source": [
    "y.head()"
   ]
  },
  {
   "cell_type": "code",
   "execution_count": 9,
   "id": "7d65d7ef",
   "metadata": {},
   "outputs": [],
   "source": [
    "x_train, x_test, y_train, y_test = train_test_split(x, y, test_size = 0.15)"
   ]
  },
  {
   "cell_type": "code",
   "execution_count": 10,
   "id": "6875a161",
   "metadata": {},
   "outputs": [
    {
     "name": "stdout",
     "output_type": "stream",
     "text": [
      "0    3096\n",
      "1    3096\n",
      "Name: Diabetes, dtype: int64\n"
     ]
    }
   ],
   "source": [
    "sm = SMOTE()\n",
    "\n",
    "x_train_res, y_train_res = sm.fit_resample(x_train, y_train)\n",
    "\n",
    "print(y_train_res.value_counts())"
   ]
  },
  {
   "cell_type": "markdown",
   "id": "14d42a5f",
   "metadata": {},
   "source": [
    "## Decision-Tree-Modell"
   ]
  },
  {
   "cell_type": "code",
   "execution_count": 11,
   "id": "4a8ff9f0",
   "metadata": {},
   "outputs": [
    {
     "data": {
      "text/plain": [
       "0.9413854351687388"
      ]
     },
     "execution_count": 11,
     "metadata": {},
     "output_type": "execute_result"
    }
   ],
   "source": [
    "dt = DecisionTreeClassifier(criterion = \"entropy\", max_depth = 2, max_leaf_nodes = None)\n",
    "\n",
    "dt.fit(x_train_res, y_train_res)\n",
    "\n",
    "dt.score(x_test, y_test)"
   ]
  },
  {
   "cell_type": "code",
   "execution_count": 12,
   "id": "4b9d1532",
   "metadata": {},
   "outputs": [
    {
     "data": {
      "text/plain": [
       "[Text(0.5, 0.8333333333333334, 'Blutzucker <= 105.026\\nentropy = 1.0\\nsamples = 6192\\nvalue = [3096, 3096]\\nclass = 0'),\n",
       " Text(0.25, 0.5, 'Alter <= 46.5\\nentropy = 0.668\\nsamples = 3615\\nvalue = [2984, 631]\\nclass = 0'),\n",
       " Text(0.125, 0.16666666666666666, 'entropy = 0.14\\nsamples = 1314\\nvalue = [1288, 26]\\nclass = 0'),\n",
       " Text(0.375, 0.16666666666666666, 'entropy = 0.831\\nsamples = 2301\\nvalue = [1696, 605]\\nclass = 0'),\n",
       " Text(0.75, 0.5, 'Blutzucker <= 140.003\\nentropy = 0.258\\nsamples = 2577\\nvalue = [112, 2465]\\nclass = 1'),\n",
       " Text(0.625, 0.16666666666666666, 'entropy = 0.537\\nsamples = 906\\nvalue = [111, 795]\\nclass = 1'),\n",
       " Text(0.875, 0.16666666666666666, 'entropy = 0.007\\nsamples = 1671\\nvalue = [1, 1670]\\nclass = 1')]"
      ]
     },
     "execution_count": 12,
     "metadata": {},
     "output_type": "execute_result"
    },
    {
     "data": {
      "image/png": "[encoded data removed]",
      "text/plain": [
       "<Figure size 432x288 with 1 Axes>"
      ]
     },
     "metadata": {
      "needs_background": "light"
     },
     "output_type": "display_data"
    }
   ],
   "source": [
    "characteristics = [\"Alter\", \"Raucher\", \"ZigProTag\", \"BDMedikamente\", \"Schlaganfall\", \n",
    "                   \"ArtHypertonie\", \"GesCholesterin\", \"Systolisch\", \"Diastolisch\", \n",
    "                   \"BMI\", \"Herzfrequenz\", \"Blutzucker\", \"Geschlecht_M\"]\n",
    "\n",
    "diagnosis = [\"0\" , \"1\"]\n",
    "\n",
    "tree.plot_tree(dt, feature_names = characteristics, class_names = diagnosis)"
   ]
  },
  {
   "cell_type": "code",
   "execution_count": 13,
   "id": "3c079d8c",
   "metadata": {},
   "outputs": [
    {
     "data": {
      "text/plain": [
       "0.9342806394316163"
      ]
     },
     "execution_count": 13,
     "metadata": {},
     "output_type": "execute_result"
    }
   ],
   "source": [
    "dt = DecisionTreeClassifier(criterion = \"entropy\", max_depth = 5, max_leaf_nodes = None)\n",
    "\n",
    "dt.fit(x_train_res, y_train_res)\n",
    "\n",
    "dt.score(x_test, y_test)"
   ]
  },
  {
   "cell_type": "markdown",
   "id": "174d2c01",
   "metadata": {},
   "source": [
    "## Random-Forest-Modell"
   ]
  },
  {
   "cell_type": "code",
   "execution_count": 17,
   "id": "3fe9203d",
   "metadata": {},
   "outputs": [
    {
     "data": {
      "text/plain": [
       "0.9378330373001776"
      ]
     },
     "execution_count": 17,
     "metadata": {},
     "output_type": "execute_result"
    }
   ],
   "source": [
    "rf = RandomForestClassifier(criterion = \"gini\", max_depth = 5, max_leaf_nodes = None)\n",
    "\n",
    "rf.fit(x_train_res, y_train_res)\n",
    "\n",
    "rf.score(x_test, y_test)"
   ]
  }
 ],
 "metadata": {
  "kernelspec": {
   "display_name": "Python 3 (ipykernel)",
   "language": "python",
   "name": "python3"
  },
  "language_info": {
   "codemirror_mode": {
    "name": "ipython",
    "version": 3
   },
   "file_extension": ".py",
   "mimetype": "text/x-python",
   "name": "python",
   "nbconvert_exporter": "python",
   "pygments_lexer": "ipython3",
   "version": "3.9.7"
  }
 },
 "nbformat": 4,
 "nbformat_minor": 5
}
