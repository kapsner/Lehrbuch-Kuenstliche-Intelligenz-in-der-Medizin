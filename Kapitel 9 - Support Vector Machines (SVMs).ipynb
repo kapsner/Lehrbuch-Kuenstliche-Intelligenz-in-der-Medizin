{
 "cells": [
  {
   "cell_type": "markdown",
   "id": "f10b6a54",
   "metadata": {},
   "source": [
    "# Support Vector Machines"
   ]
  },
  {
   "cell_type": "markdown",
   "id": "791ee5e9",
   "metadata": {},
   "source": [
    "## Quelle der Daten\n",
    "\n",
    "https://www.kaggle.com/datasets/captainozlem/framingham-chd-preprocessed-data (zuletzt aufgerufen: 01/2024)\n",
    "\n",
    "https://www.framinghamheartstudy.org/ (zuletzt aufgerufen: 01/2024)"
   ]
  },
  {
   "cell_type": "markdown",
   "id": "04130203",
   "metadata": {},
   "source": [
    "## Installation der Bibliotheken"
   ]
  },
  {
   "cell_type": "code",
   "execution_count": null,
   "id": "aa79e439",
   "metadata": {},
   "outputs": [],
   "source": [
    "import pandas as pd\n",
    "\n",
    "import matplotlib.pyplot as plt\n",
    "\n",
    "from imblearn.over_sampling import SMOTE\n",
    "\n",
    "from sklearn.model_selection import train_test_split\n",
    "\n",
    "from sklearn import svm"
   ]
  },
  {
   "cell_type": "markdown",
   "id": "5f6830a0",
   "metadata": {},
   "source": [
    "## Einlesen der Daten"
   ]
  },
  {
   "cell_type": "code",
   "execution_count": null,
   "id": "d77e6c5a",
   "metadata": {},
   "outputs": [],
   "source": [
    "data = pd.read_excel(\"C:\\\\Users\\\\Tim\\\\Desktop\\\\Buchprojekt KI Medizin\\\\Programmierung\\\\FraminghamHeartStudy.xlsx\", sheet_name = \"Tabelle1\")\n",
    "\n",
    "data = data.dropna()\n",
    "\n",
    "data.head()"
   ]
  },
  {
   "cell_type": "code",
   "execution_count": null,
   "id": "b5b68d0b",
   "metadata": {},
   "outputs": [],
   "source": [
    "data_new = pd.get_dummies(data, columns = [\"Geschlecht\"])\n",
    "\n",
    "data_new.head()"
   ]
  },
  {
   "cell_type": "code",
   "execution_count": null,
   "id": "5057b0f1",
   "metadata": {},
   "outputs": [],
   "source": [
    "count_diabetes = data_new[\"Diabetes\"].value_counts()\n",
    "\n",
    "count_diabetes.plot(kind = \"bar\", rot = 0)\n",
    "\n",
    "print(data_new[\"Diabetes\"].value_counts())"
   ]
  },
  {
   "cell_type": "markdown",
   "id": "70a80475",
   "metadata": {},
   "source": [
    "## Aufteilung der Daten und Resampling"
   ]
  },
  {
   "cell_type": "code",
   "execution_count": null,
   "id": "c67eb69d",
   "metadata": {},
   "outputs": [],
   "source": [
    "x = data_new.iloc[:, 13].values.reshape(-1, 1)\n",
    "\n",
    "y = data_new.iloc[:, 7]"
   ]
  },
  {
   "cell_type": "code",
   "execution_count": null,
   "id": "8e1d7b67",
   "metadata": {},
   "outputs": [],
   "source": [
    "print(x)"
   ]
  },
  {
   "cell_type": "code",
   "execution_count": null,
   "id": "3a3a6966",
   "metadata": {},
   "outputs": [],
   "source": [
    "print(y)"
   ]
  },
  {
   "cell_type": "code",
   "execution_count": null,
   "id": "23f5e154",
   "metadata": {},
   "outputs": [],
   "source": [
    "x_train, x_test, y_train, y_test = train_test_split(x, y, test_size = 0.15)"
   ]
  },
  {
   "cell_type": "code",
   "execution_count": null,
   "id": "655fd033",
   "metadata": {},
   "outputs": [],
   "source": [
    "sm = SMOTE()\n",
    "\n",
    "x_train_res, y_train_res = sm.fit_resample(x_train, y_train)\n",
    "\n",
    "print(y_train_res.value_counts())"
   ]
  },
  {
   "cell_type": "markdown",
   "id": "7eb69443",
   "metadata": {},
   "source": [
    "## SVC-Modell"
   ]
  },
  {
   "cell_type": "code",
   "execution_count": null,
   "id": "ab137d11",
   "metadata": {},
   "outputs": [],
   "source": [
    "svc = svm.SVC(kernel = \"linear\")\n",
    "\n",
    "svc.fit(x_train_res, y_train_res)\n",
    "\n",
    "svc.score(x_test, y_test)"
   ]
  },
  {
   "cell_type": "code",
   "execution_count": null,
   "id": "d503b828",
   "metadata": {},
   "outputs": [],
   "source": [
    "predictions = svc.predict(x_test)\n",
    "\n",
    "results_df = pd.DataFrame({\"Label\": y_test, \"Modell-Ausgabe\": predictions})\n",
    "\n",
    "print(results_df)"
   ]
  },
  {
   "cell_type": "code",
   "execution_count": null,
   "id": "7ff1c390",
   "metadata": {},
   "outputs": [],
   "source": [
    "svc_2 = svm.SVC(kernel = \"poly\", degree = 3)\n",
    "\n",
    "svc_2.fit(x_train_res, y_train_res)\n",
    "\n",
    "svc_2.score(x_test, y_test)"
   ]
  },
  {
   "cell_type": "code",
   "execution_count": null,
   "id": "c16dadcb",
   "metadata": {},
   "outputs": [],
   "source": [
    "svc_3 = svm.SVC(kernel = \"rbf\")\n",
    "\n",
    "svc_3.fit(x_train_res, y_train_res)\n",
    "\n",
    "svc_3.score(x_test, y_test)"
   ]
  },
  {
   "cell_type": "markdown",
   "id": "65b7a0c9",
   "metadata": {},
   "source": [
    "## SVR-Modell"
   ]
  },
  {
   "cell_type": "code",
   "execution_count": null,
   "id": "8c10b7c3",
   "metadata": {},
   "outputs": [],
   "source": [
    "data = pd.read_excel(\"C:\\\\Users\\\\Tim\\\\Desktop\\\\Buchprojekt KI Medizin\\\\Programmierung\\\\FraminghamHeartStudy.xlsx\", sheet_name = \"Tabelle1\")\n",
    "data = data.dropna()\n",
    "data_new = pd.get_dummies(data, columns = [\"Geschlecht\"])\n",
    "\n",
    "x = data_new.iloc[:, [1, 2, 3, 4, 5, 6, 7, 8, 11, 12, 13, 14]]\n",
    "\n",
    "y = data_new.iloc[:, 7]\n",
    "\n",
    "x_train, x_test, y_train, y_test = train_test_split(x, y, test_size = 0.15)"
   ]
  },
  {
   "cell_type": "code",
   "execution_count": null,
   "id": "175a2e22",
   "metadata": {},
   "outputs": [],
   "source": [
    "svr = svm.SVR(kernel = \"linear\")\n",
    "\n",
    "svr.fit(x_train, y_train)\n",
    "\n",
    "svr.score(x_test, y_test)"
   ]
  }
 ],
 "metadata": {
  "kernelspec": {
   "display_name": "Python 3 (ipykernel)",
   "language": "python",
   "name": "python3"
  },
  "language_info": {
   "codemirror_mode": {
    "name": "ipython",
    "version": 3
   },
   "file_extension": ".py",
   "mimetype": "text/x-python",
   "name": "python",
   "nbconvert_exporter": "python",
   "pygments_lexer": "ipython3",
   "version": "3.9.7"
  }
 },
 "nbformat": 4,
 "nbformat_minor": 5
}
