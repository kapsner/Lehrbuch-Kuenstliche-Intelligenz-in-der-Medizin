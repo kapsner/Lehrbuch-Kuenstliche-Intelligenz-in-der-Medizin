{
 "cells": [
  {
   "cell_type": "markdown",
   "id": "db65e5bd",
   "metadata": {},
   "source": [
    "# Logistische Regression"
   ]
  },
  {
   "cell_type": "markdown",
   "id": "f3b990f1",
   "metadata": {},
   "source": [
    "## Quelle der Daten\n",
    "\n",
    "https://www.kaggle.com/datasets/captainozlem/framingham-chd-preprocessed-data (zuletzt aufgerufen: 01/2024)\n",
    "\n",
    "https://www.framinghamheartstudy.org/ (zuletzt aufgerufen: 01/2024)"
   ]
  },
  {
   "cell_type": "markdown",
   "id": "739633dd",
   "metadata": {},
   "source": [
    "## Installation der Bibliotheken"
   ]
  },
  {
   "cell_type": "code",
   "execution_count": null,
   "id": "660e0dd9",
   "metadata": {},
   "outputs": [],
   "source": [
    "# Importieren der benötigten Bibliotheken\n",
    "import pandas as pd # Für die Arbeit mit Tabellen/DataFrames\n",
    "\n",
    "import matplotlib.pyplot as plt # Für die Erstellung von Diagrammen und Visualisierungen\n",
    "\n",
    "from imblearn.over_sampling import SMOTE # Für das Resampling unausgeglichener Datensätze\n",
    "\n",
    "from sklearn.model_selection import train_test_split # Für die Aufteilung von Daten in Trainings- und Testsets\n",
    "\n",
    "from sklearn.linear_model import LogisticRegression # Für das Erstellen eines logistischen Regressionsmodells\n",
    "\n",
    "import numpy as np # Für numerische Operationen, insbesondere mit Arrays\n",
    "\n",
    "from sklearn.metrics import roc_curve, auc # Für Darstellung einer Receiver-Operating-Characteristic (ROC) curve"
   ]
  },
  {
   "cell_type": "markdown",
   "id": "5d67d100",
   "metadata": {},
   "source": [
    "## Einlesen der Daten"
   ]
  },
  {
   "cell_type": "code",
   "execution_count": null,
   "id": "2997e3c7",
   "metadata": {},
   "outputs": [],
   "source": [
    "# Definieren der URL der Datenquelle und Laden der Daten in einen pandas DataFrame\n",
    "data_url = \"https://github.com/timwgnd/Lehrbuch-Kuenstliche-Intelligenz-in-der-Medizin/raw/refs/heads/main/FraminghamHeartStudy.xlsx\"\n",
    "data = pd.read_excel(io=data_url, sheet_name = \"Tabelle1\")\n",
    "\n",
    "# Entfernen von Zeilen mit fehlenden Werten\n",
    "data = data.dropna()\n",
    "\n",
    "# Anzeigen der ersten Zeilen des DataFrames, um einen Überblick über die Daten zu erhalten\n",
    "print(data.head().to_markdown(index=False, tablefmt='psql'))"
   ]
  },
  {
   "cell_type": "code",
   "execution_count": null,
   "id": "867bd038",
   "metadata": {},
   "outputs": [],
   "source": [
    "# Erstellen von Dummy-Variablen für die kategoriale Spalte \"Geschlecht\"\n",
    "# Dies wandelt die kategoriale Variable in numerische Variablen um, die für das Modell verwendet werden können\n",
    "data_new = pd.get_dummies(data, columns = [\"Geschlecht\"])\n",
    "\n",
    "# Anzeigen der ersten Zeilen des neuen DataFrames mit den Dummy-Variablen\n",
    "print(data_new.head().to_markdown(index=False, tablefmt='psql'))"
   ]
  },
  {
   "cell_type": "code",
   "execution_count": null,
   "id": "a8a4b765",
   "metadata": {},
   "outputs": [],
   "source": [
    "# Zählen der Häufigkeit der einzelnen Werte in der Spalte \"Diabetes\"\n",
    "count_diabetes = data_new[\"Diabetes\"].value_counts()\n",
    "\n",
    "# Anzeigen der Häufigkeitsauzszählung in Tabellenform\n",
    "print(count_diabetes.to_markdown(tablefmt='psql'))\n",
    "\n",
    "# Erstellen eines Balkendiagramms, das die Verteilung der Werte in der Spalte \"Diabetes\" zeigt\n",
    "count_diabetes.plot(kind = \"bar\", rot = 0)"
   ]
  },
  {
   "cell_type": "markdown",
   "id": "1d40e78f",
   "metadata": {},
   "source": [
    "## Aufteilung der Daten und Resampling"
   ]
  },
  {
   "cell_type": "code",
   "execution_count": null,
   "id": "2c5b798f",
   "metadata": {},
   "outputs": [],
   "source": [
    "# Auswählen der Feature-Variable(n) (x) und der Zielvariable (y)\n",
    "# Hier wird die Spalte mit Index 13 (\"Blutzucker\") als Feature ausgewählt und in ein 2D-Array umgeformt\n",
    "x = data_new.iloc[:, 13].values.reshape(-1, 1)\n",
    "\n",
    "# Hier wird die Spalte mit Index 7 (\"Diabetes\") als Zielvariable ausgewählt\n",
    "y = data_new.iloc[:, 7]"
   ]
  },
  {
   "cell_type": "code",
   "execution_count": null,
   "id": "c23125ec",
   "metadata": {},
   "outputs": [],
   "source": [
    "# Anzeigen der Feature-Variable x\n",
    "print(x)"
   ]
  },
  {
   "cell_type": "code",
   "execution_count": null,
   "id": "02dc7ab3",
   "metadata": {},
   "outputs": [],
   "source": [
    "# Anzeigen der Zielvariable y\n",
    "print(y)"
   ]
  },
  {
   "cell_type": "code",
   "execution_count": null,
   "id": "7ebe41d0",
   "metadata": {},
   "outputs": [],
   "source": [
    "# Aufteilen der Daten in Trainings- und Testsets\n",
    "# test_size = 0.15 bedeutet, dass 15% der Daten für das Testset verwendet werden\n",
    "x_train, x_test, y_train, y_test = train_test_split(x, y, test_size = 0.15)"
   ]
  },
  {
   "cell_type": "code",
   "execution_count": null,
   "id": "74e33375",
   "metadata": {},
   "outputs": [],
   "source": [
    "# Initialisieren des SMOTE-Objekts für Over-Sampling\n",
    "sm = SMOTE()\n",
    "\n",
    "# Anwenden von SMOTE auf die Trainingsdaten, um die Anzahl der Instanzen der Minderheitenklasse zu erhöhen\n",
    "x_train_res, y_train_res = sm.fit_resample(x_train, y_train)\n",
    "\n",
    "# Anzeigen der Verteilung der Zielvariablen im resampelten Trainingsset, um den Effekt von SMOTE zu sehen\n",
    "print(y_train_res.value_counts().to_markdown(tablefmt='psql'))"
   ]
  },
  {
   "cell_type": "markdown",
   "id": "918600bf",
   "metadata": {},
   "source": [
    "## Definition, Training und Evaluation des Modells"
   ]
  },
  {
   "cell_type": "markdown",
   "id": "6af12e75",
   "metadata": {},
   "source": [
    "### Einfache logistische Regression"
   ]
  },
  {
   "cell_type": "code",
   "execution_count": null,
   "id": "56abc5e2",
   "metadata": {},
   "outputs": [],
   "source": [
    "# Initialisieren des logistischen Regressionsmodells\n",
    "model = LogisticRegression()\n",
    "\n",
    "# Trainieren des Modells mit den resampelten Trainingsdaten\n",
    "model.fit(x_train_res, y_train_res)\n",
    "\n",
    "# Bewerten der Leistung des Modells auf dem Testset\n",
    "model.score(x_test, y_test)"
   ]
  },
  {
   "cell_type": "code",
   "execution_count": null,
   "id": "58fb136c",
   "metadata": {},
   "outputs": [],
   "source": [
    "# Erstellen eines Scatter-Plots der Testdaten (Feature vs. Zielvariable)\n",
    "plt.scatter(x_test, y_test, color = \"gray\")\n",
    "\n",
    "# Erstellen von Werten für die x-Achse, um die Regressionskurve zu zeichnen\n",
    "x_values = np.linspace(min(x_test), max(x_test), 100).reshape(-1, 1)\n",
    "\n",
    "# Vorhersagen der Wahrscheinlichkeiten für die positiven Klasse (Diabetes = 1)\n",
    "y_pred = model.predict_proba(x_values)[:, 1]\n",
    "\n",
    "# Zeichnen der logistischen Regressionskurve\n",
    "plt.plot(x_values, y_pred, color = \"blue\")\n",
    "\n",
    "# Beschriften der Achsen\n",
    "plt.xlabel(\"Blutzucker\")\n",
    "plt.ylabel(\"Diabetes\")"
   ]
  },
  {
   "cell_type": "markdown",
   "id": "6eb1bbf2",
   "metadata": {},
   "source": [
    "### Multiple logistische Regression"
   ]
  },
  {
   "cell_type": "code",
   "execution_count": null,
   "id": "687a849c",
   "metadata": {},
   "outputs": [],
   "source": [
    "# Auswählen mehrerer Feature-Variablen (x) und der Zielvariablen (y)\n",
    "# Hier werden die Spalten mit den Indizes 1, 8 und 13 als Features ausgewählt\n",
    "x = data_new.iloc[:, [1, 8, 13]]\n",
    "\n",
    "# Hier wird die Spalte mit Index 7 (\"Diabetes\") als Zielvariable ausgewählt\n",
    "y = data_new.iloc[:, 7]\n",
    "\n",
    "# Aufteilen der Daten in Trainings- und Testsets\n",
    "# test_size = 0.15 bedeutet, dass 15% der Daten für das Testset verwendet werden\n",
    "x_train_2, x_test_2, y_train_2, y_test_2 = train_test_split(x, y, test_size = 0.15)"
   ]
  },
  {
   "cell_type": "code",
   "execution_count": null,
   "id": "b10e9223",
   "metadata": {},
   "outputs": [],
   "source": [
    "# Initialisieren des SMOTE-Objekts für Over-Sampling\n",
    "sm = SMOTE()\n",
    "\n",
    "# Anwenden von SMOTE auf die Trainingsdaten, um die Anzahl der Instanzen der Minderheitenklasse zu erhöhen\n",
    "x_train_res_2, y_train_res_2 = sm.fit_resample(x_train_2, y_train_2)\n",
    "\n",
    "# Anzeigen der Verteilung der Zielvariablen im resampelten Trainingsset, um den Effekt von SMOTE zu sehen\n",
    "print(y_train_res_2.value_counts().to_markdown(tablefmt='psql'))"
   ]
  },
  {
   "cell_type": "code",
   "execution_count": null,
   "id": "3f5f37f6",
   "metadata": {},
   "outputs": [],
   "source": [
    "# Initialisieren eines zweiten logistischen Regressionsmodells\n",
    "model_2 = LogisticRegression()\n",
    "\n",
    "# Trainieren des zweiten Modells mit den resampelten Trainingsdaten (mit mehreren Features)\n",
    "model_2.fit(x_train_res_2, y_train_res_2)\n",
    "\n",
    "# Bewerten der Leistung des zweiten Modells auf dem Testset\n",
    "model_2.score(x_test_2, y_test_2)"
   ]
  },
  {
   "cell_type": "markdown",
   "id": "dc3c95d9",
   "metadata": {},
   "source": [
    "## Vorhersage und Modellbewertung"
   ]
  },
  {
   "cell_type": "code",
   "execution_count": null,
   "id": "d252b4cc",
   "metadata": {},
   "outputs": [],
   "source": [
    "# Vorhersagen der Wahrscheinlichkeiten für die positive Klasse für model_1\n",
    "y_pred_proba_model_1 = model.predict_proba(x_test)[:, 1]\n",
    "\n",
    "# Berechnen der ROC-Kurve und des AUC-Wertes für model_1\n",
    "fpr_model_1, tpr_model_1, _ = roc_curve(y_test, y_pred_proba_model_1)\n",
    "roc_auc_model_1 = auc(fpr_model_1, tpr_model_1)\n",
    "\n",
    "# Vorhersagen der Wahrscheinlichkeiten für die positive Klasse für model_2\n",
    "y_pred_proba_model_2 = model_2.predict_proba(x_test_2)[:, 1]\n",
    "\n",
    "# Berechnen der ROC-Kurve und des AUC-Wertes für model_2\n",
    "fpr_model_2, tpr_model_2, _ = roc_curve(y_test_2, y_pred_proba_model_2)\n",
    "roc_auc_model_2 = auc(fpr_model_2, tpr_model_2)\n",
    "\n",
    "# Plotten der ROC-Kurven\n",
    "plt.figure()\n",
    "plt.plot(fpr_model_1, tpr_model_1, color='red', lw=2, label='ROC curve Model 1 (area = %0.2f)' % roc_auc_model_1)\n",
    "plt.plot(fpr_model_2, tpr_model_2, color='blue', lw=2, label='ROC curve Model 2 (area = %0.2f)' % roc_auc_model_2)\n",
    "plt.plot([0, 1], [0, 1], color='gray', lw=2, linestyle='--')\n",
    "plt.xlim([0.0, 1.0])\n",
    "plt.ylim([0.0, 1.05])\n",
    "plt.xlabel('False Positive Rate')\n",
    "plt.ylabel('True Positive Rate')\n",
    "plt.title('Receiver Operating Characteristic (ROC) Curve')\n",
    "plt.legend(loc=\"lower right\")\n",
    "plt.show()"
   ]
  }
 ],
 "metadata": {
  "kernelspec": {
   "display_name": "Python 3 (ipykernel)",
   "language": "python",
   "name": "python3"
  },
  "language_info": {
   "codemirror_mode": {
    "name": "ipython",
    "version": 3
   },
   "file_extension": ".py",
   "mimetype": "text/x-python",
   "name": "python",
   "nbconvert_exporter": "python",
   "pygments_lexer": "ipython3",
   "version": "3.9.7"
  }
 },
 "nbformat": 4,
 "nbformat_minor": 5
}
