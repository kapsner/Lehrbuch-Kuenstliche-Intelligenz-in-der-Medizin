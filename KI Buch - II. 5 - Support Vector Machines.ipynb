{
 "cells": [
  {
   "cell_type": "markdown",
   "id": "f10b6a54",
   "metadata": {},
   "source": [
    "# Support Vector Machines"
   ]
  },
  {
   "cell_type": "markdown",
   "id": "791ee5e9",
   "metadata": {},
   "source": [
    "## Quelle der Daten\n",
    "\n",
    "https://www.kaggle.com/datasets/captainozlem/framingham-chd-preprocessed-data (zuletzt aufgerufen: 01/2024)\n",
    "\n",
    "https://www.framinghamheartstudy.org/ (zuletzt aufgerufen: 01/2024)"
   ]
  },
  {
   "cell_type": "markdown",
   "id": "04130203",
   "metadata": {},
   "source": [
    "## Installation der Bibliotheken"
   ]
  },
  {
   "cell_type": "code",
   "execution_count": 1,
   "id": "aa79e439",
   "metadata": {},
   "outputs": [],
   "source": [
    "import pandas as pd\n",
    "\n",
    "import matplotlib.pyplot as plt\n",
    "\n",
    "from imblearn.over_sampling import SMOTE\n",
    "\n",
    "from sklearn.model_selection import train_test_split\n",
    "\n",
    "from sklearn import svm"
   ]
  },
  {
   "cell_type": "markdown",
   "id": "5f6830a0",
   "metadata": {},
   "source": [
    "## Einlesen der Daten"
   ]
  },
  {
   "cell_type": "code",
   "execution_count": 2,
   "id": "d77e6c5a",
   "metadata": {},
   "outputs": [
    {
     "data": {
      "text/html": [
       "<div>\n",
       "<style scoped>\n",
       "    .dataframe tbody tr th:only-of-type {\n",
       "        vertical-align: middle;\n",
       "    }\n",
       "\n",
       "    .dataframe tbody tr th {\n",
       "        vertical-align: top;\n",
       "    }\n",
       "\n",
       "    .dataframe thead th {\n",
       "        text-align: right;\n",
       "    }\n",
       "</style>\n",
       "<table border=\"1\" class=\"dataframe\">\n",
       "  <thead>\n",
       "    <tr style=\"text-align: right;\">\n",
       "      <th></th>\n",
       "      <th>ZehnJahreKHK</th>\n",
       "      <th>Geschlecht</th>\n",
       "      <th>Alter</th>\n",
       "      <th>Raucher</th>\n",
       "      <th>ZigProTag</th>\n",
       "      <th>BDMedikamente</th>\n",
       "      <th>Schlaganfall</th>\n",
       "      <th>ArtHypertonie</th>\n",
       "      <th>Diabetes</th>\n",
       "      <th>GesCholesterin</th>\n",
       "      <th>Systolisch</th>\n",
       "      <th>Diastolisch</th>\n",
       "      <th>BMI</th>\n",
       "      <th>Herzfrequenz</th>\n",
       "      <th>Blutzucker</th>\n",
       "    </tr>\n",
       "  </thead>\n",
       "  <tbody>\n",
       "    <tr>\n",
       "      <th>1</th>\n",
       "      <td>0</td>\n",
       "      <td>M</td>\n",
       "      <td>38</td>\n",
       "      <td>1</td>\n",
       "      <td>20.0</td>\n",
       "      <td>0.0</td>\n",
       "      <td>0</td>\n",
       "      <td>0</td>\n",
       "      <td>0</td>\n",
       "      <td>113.0</td>\n",
       "      <td>120</td>\n",
       "      <td>84</td>\n",
       "      <td>30.0</td>\n",
       "      <td>78.0</td>\n",
       "      <td>85.0</td>\n",
       "    </tr>\n",
       "    <tr>\n",
       "      <th>2</th>\n",
       "      <td>0</td>\n",
       "      <td>M</td>\n",
       "      <td>47</td>\n",
       "      <td>1</td>\n",
       "      <td>20.0</td>\n",
       "      <td>0.0</td>\n",
       "      <td>0</td>\n",
       "      <td>0</td>\n",
       "      <td>0</td>\n",
       "      <td>119.0</td>\n",
       "      <td>117</td>\n",
       "      <td>79</td>\n",
       "      <td>26.0</td>\n",
       "      <td>75.0</td>\n",
       "      <td>78.0</td>\n",
       "    </tr>\n",
       "    <tr>\n",
       "      <th>3</th>\n",
       "      <td>1</td>\n",
       "      <td>M</td>\n",
       "      <td>66</td>\n",
       "      <td>0</td>\n",
       "      <td>0.0</td>\n",
       "      <td>0.0</td>\n",
       "      <td>0</td>\n",
       "      <td>1</td>\n",
       "      <td>0</td>\n",
       "      <td>124.0</td>\n",
       "      <td>138</td>\n",
       "      <td>91</td>\n",
       "      <td>32.0</td>\n",
       "      <td>75.0</td>\n",
       "      <td>96.0</td>\n",
       "    </tr>\n",
       "    <tr>\n",
       "      <th>6</th>\n",
       "      <td>1</td>\n",
       "      <td>M</td>\n",
       "      <td>51</td>\n",
       "      <td>1</td>\n",
       "      <td>7.0</td>\n",
       "      <td>0.0</td>\n",
       "      <td>0</td>\n",
       "      <td>1</td>\n",
       "      <td>0</td>\n",
       "      <td>133.0</td>\n",
       "      <td>138</td>\n",
       "      <td>78</td>\n",
       "      <td>17.0</td>\n",
       "      <td>80.0</td>\n",
       "      <td>65.0</td>\n",
       "    </tr>\n",
       "    <tr>\n",
       "      <th>7</th>\n",
       "      <td>0</td>\n",
       "      <td>W</td>\n",
       "      <td>36</td>\n",
       "      <td>1</td>\n",
       "      <td>3.0</td>\n",
       "      <td>0.0</td>\n",
       "      <td>0</td>\n",
       "      <td>0</td>\n",
       "      <td>0</td>\n",
       "      <td>135.0</td>\n",
       "      <td>108</td>\n",
       "      <td>74</td>\n",
       "      <td>23.0</td>\n",
       "      <td>73.0</td>\n",
       "      <td>75.0</td>\n",
       "    </tr>\n",
       "  </tbody>\n",
       "</table>\n",
       "</div>"
      ],
      "text/plain": [
       "   ZehnJahreKHK Geschlecht  Alter  Raucher  ZigProTag  BDMedikamente  \\\n",
       "1             0          M     38        1       20.0            0.0   \n",
       "2             0          M     47        1       20.0            0.0   \n",
       "3             1          M     66        0        0.0            0.0   \n",
       "6             1          M     51        1        7.0            0.0   \n",
       "7             0          W     36        1        3.0            0.0   \n",
       "\n",
       "   Schlaganfall  ArtHypertonie  Diabetes  GesCholesterin  Systolisch  \\\n",
       "1             0              0         0           113.0         120   \n",
       "2             0              0         0           119.0         117   \n",
       "3             0              1         0           124.0         138   \n",
       "6             0              1         0           133.0         138   \n",
       "7             0              0         0           135.0         108   \n",
       "\n",
       "   Diastolisch   BMI  Herzfrequenz  Blutzucker  \n",
       "1           84  30.0          78.0        85.0  \n",
       "2           79  26.0          75.0        78.0  \n",
       "3           91  32.0          75.0        96.0  \n",
       "6           78  17.0          80.0        65.0  \n",
       "7           74  23.0          73.0        75.0  "
      ]
     },
     "execution_count": 2,
     "metadata": {},
     "output_type": "execute_result"
    }
   ],
   "source": [
    "data = pd.read_excel(\"C:\\\\Users\\\\Tim\\\\Desktop\\\\Buchprojekt KI Medizin\\\\Programmierung\\\\FraminghamHeartStudy.xlsx\", sheet_name = \"Tabelle1\")\n",
    "\n",
    "data = data.dropna()\n",
    "\n",
    "data.head()"
   ]
  },
  {
   "cell_type": "code",
   "execution_count": 3,
   "id": "b5b68d0b",
   "metadata": {},
   "outputs": [
    {
     "data": {
      "text/html": [
       "<div>\n",
       "<style scoped>\n",
       "    .dataframe tbody tr th:only-of-type {\n",
       "        vertical-align: middle;\n",
       "    }\n",
       "\n",
       "    .dataframe tbody tr th {\n",
       "        vertical-align: top;\n",
       "    }\n",
       "\n",
       "    .dataframe thead th {\n",
       "        text-align: right;\n",
       "    }\n",
       "</style>\n",
       "<table border=\"1\" class=\"dataframe\">\n",
       "  <thead>\n",
       "    <tr style=\"text-align: right;\">\n",
       "      <th></th>\n",
       "      <th>ZehnJahreKHK</th>\n",
       "      <th>Alter</th>\n",
       "      <th>Raucher</th>\n",
       "      <th>ZigProTag</th>\n",
       "      <th>BDMedikamente</th>\n",
       "      <th>Schlaganfall</th>\n",
       "      <th>ArtHypertonie</th>\n",
       "      <th>Diabetes</th>\n",
       "      <th>GesCholesterin</th>\n",
       "      <th>Systolisch</th>\n",
       "      <th>Diastolisch</th>\n",
       "      <th>BMI</th>\n",
       "      <th>Herzfrequenz</th>\n",
       "      <th>Blutzucker</th>\n",
       "      <th>Geschlecht_M</th>\n",
       "      <th>Geschlecht_W</th>\n",
       "    </tr>\n",
       "  </thead>\n",
       "  <tbody>\n",
       "    <tr>\n",
       "      <th>1</th>\n",
       "      <td>0</td>\n",
       "      <td>38</td>\n",
       "      <td>1</td>\n",
       "      <td>20.0</td>\n",
       "      <td>0.0</td>\n",
       "      <td>0</td>\n",
       "      <td>0</td>\n",
       "      <td>0</td>\n",
       "      <td>113.0</td>\n",
       "      <td>120</td>\n",
       "      <td>84</td>\n",
       "      <td>30.0</td>\n",
       "      <td>78.0</td>\n",
       "      <td>85.0</td>\n",
       "      <td>1</td>\n",
       "      <td>0</td>\n",
       "    </tr>\n",
       "    <tr>\n",
       "      <th>2</th>\n",
       "      <td>0</td>\n",
       "      <td>47</td>\n",
       "      <td>1</td>\n",
       "      <td>20.0</td>\n",
       "      <td>0.0</td>\n",
       "      <td>0</td>\n",
       "      <td>0</td>\n",
       "      <td>0</td>\n",
       "      <td>119.0</td>\n",
       "      <td>117</td>\n",
       "      <td>79</td>\n",
       "      <td>26.0</td>\n",
       "      <td>75.0</td>\n",
       "      <td>78.0</td>\n",
       "      <td>1</td>\n",
       "      <td>0</td>\n",
       "    </tr>\n",
       "    <tr>\n",
       "      <th>3</th>\n",
       "      <td>1</td>\n",
       "      <td>66</td>\n",
       "      <td>0</td>\n",
       "      <td>0.0</td>\n",
       "      <td>0.0</td>\n",
       "      <td>0</td>\n",
       "      <td>1</td>\n",
       "      <td>0</td>\n",
       "      <td>124.0</td>\n",
       "      <td>138</td>\n",
       "      <td>91</td>\n",
       "      <td>32.0</td>\n",
       "      <td>75.0</td>\n",
       "      <td>96.0</td>\n",
       "      <td>1</td>\n",
       "      <td>0</td>\n",
       "    </tr>\n",
       "    <tr>\n",
       "      <th>6</th>\n",
       "      <td>1</td>\n",
       "      <td>51</td>\n",
       "      <td>1</td>\n",
       "      <td>7.0</td>\n",
       "      <td>0.0</td>\n",
       "      <td>0</td>\n",
       "      <td>1</td>\n",
       "      <td>0</td>\n",
       "      <td>133.0</td>\n",
       "      <td>138</td>\n",
       "      <td>78</td>\n",
       "      <td>17.0</td>\n",
       "      <td>80.0</td>\n",
       "      <td>65.0</td>\n",
       "      <td>1</td>\n",
       "      <td>0</td>\n",
       "    </tr>\n",
       "    <tr>\n",
       "      <th>7</th>\n",
       "      <td>0</td>\n",
       "      <td>36</td>\n",
       "      <td>1</td>\n",
       "      <td>3.0</td>\n",
       "      <td>0.0</td>\n",
       "      <td>0</td>\n",
       "      <td>0</td>\n",
       "      <td>0</td>\n",
       "      <td>135.0</td>\n",
       "      <td>108</td>\n",
       "      <td>74</td>\n",
       "      <td>23.0</td>\n",
       "      <td>73.0</td>\n",
       "      <td>75.0</td>\n",
       "      <td>0</td>\n",
       "      <td>1</td>\n",
       "    </tr>\n",
       "  </tbody>\n",
       "</table>\n",
       "</div>"
      ],
      "text/plain": [
       "   ZehnJahreKHK  Alter  Raucher  ZigProTag  BDMedikamente  Schlaganfall  \\\n",
       "1             0     38        1       20.0            0.0             0   \n",
       "2             0     47        1       20.0            0.0             0   \n",
       "3             1     66        0        0.0            0.0             0   \n",
       "6             1     51        1        7.0            0.0             0   \n",
       "7             0     36        1        3.0            0.0             0   \n",
       "\n",
       "   ArtHypertonie  Diabetes  GesCholesterin  Systolisch  Diastolisch   BMI  \\\n",
       "1              0         0           113.0         120           84  30.0   \n",
       "2              0         0           119.0         117           79  26.0   \n",
       "3              1         0           124.0         138           91  32.0   \n",
       "6              1         0           133.0         138           78  17.0   \n",
       "7              0         0           135.0         108           74  23.0   \n",
       "\n",
       "   Herzfrequenz  Blutzucker  Geschlecht_M  Geschlecht_W  \n",
       "1          78.0        85.0             1             0  \n",
       "2          75.0        78.0             1             0  \n",
       "3          75.0        96.0             1             0  \n",
       "6          80.0        65.0             1             0  \n",
       "7          73.0        75.0             0             1  "
      ]
     },
     "execution_count": 3,
     "metadata": {},
     "output_type": "execute_result"
    }
   ],
   "source": [
    "data_new = pd.get_dummies(data, columns = [\"Geschlecht\"])\n",
    "\n",
    "data_new.head()"
   ]
  },
  {
   "cell_type": "code",
   "execution_count": 4,
   "id": "5057b0f1",
   "metadata": {},
   "outputs": [
    {
     "name": "stdout",
     "output_type": "stream",
     "text": [
      "0    3646\n",
      "1     101\n",
      "Name: Diabetes, dtype: int64\n"
     ]
    },
    {
     "data": {
      "image/png": "[encoded data removed]",
      "text/plain": [
       "<Figure size 432x288 with 1 Axes>"
      ]
     },
     "metadata": {
      "needs_background": "light"
     },
     "output_type": "display_data"
    }
   ],
   "source": [
    "count_diabetes = data_new[\"Diabetes\"].value_counts()\n",
    "\n",
    "count_diabetes.plot(kind = \"bar\", rot = 0)\n",
    "\n",
    "print(data_new[\"Diabetes\"].value_counts())"
   ]
  },
  {
   "cell_type": "markdown",
   "id": "70a80475",
   "metadata": {},
   "source": [
    "## Aufteilung der Daten und Resampling"
   ]
  },
  {
   "cell_type": "code",
   "execution_count": 5,
   "id": "c67eb69d",
   "metadata": {},
   "outputs": [],
   "source": [
    "x = data_new.iloc[:, 13].values.reshape(-1, 1)\n",
    "\n",
    "y = data_new.iloc[:, 7]"
   ]
  },
  {
   "cell_type": "code",
   "execution_count": 6,
   "id": "8e1d7b67",
   "metadata": {},
   "outputs": [
    {
     "name": "stdout",
     "output_type": "stream",
     "text": [
      "[[ 85.]\n",
      " [ 78.]\n",
      " [ 96.]\n",
      " ...\n",
      " [ 90.]\n",
      " [110.]\n",
      " [ 72.]]\n"
     ]
    }
   ],
   "source": [
    "print(x)"
   ]
  },
  {
   "cell_type": "code",
   "execution_count": 7,
   "id": "3a3a6966",
   "metadata": {},
   "outputs": [
    {
     "name": "stdout",
     "output_type": "stream",
     "text": [
      "1       0\n",
      "2       0\n",
      "3       0\n",
      "6       0\n",
      "7       0\n",
      "       ..\n",
      "4181    0\n",
      "4182    0\n",
      "4183    0\n",
      "4184    0\n",
      "4185    0\n",
      "Name: Diabetes, Length: 3747, dtype: int64\n"
     ]
    }
   ],
   "source": [
    "print(y)"
   ]
  },
  {
   "cell_type": "code",
   "execution_count": 8,
   "id": "23f5e154",
   "metadata": {},
   "outputs": [],
   "source": [
    "x_train, x_test, y_train, y_test = train_test_split(x, y, test_size = 0.15)"
   ]
  },
  {
   "cell_type": "code",
   "execution_count": 9,
   "id": "655fd033",
   "metadata": {},
   "outputs": [
    {
     "name": "stdout",
     "output_type": "stream",
     "text": [
      "0    3094\n",
      "1    3094\n",
      "Name: Diabetes, dtype: int64\n"
     ]
    }
   ],
   "source": [
    "sm = SMOTE()\n",
    "\n",
    "x_train_res, y_train_res = sm.fit_resample(x_train, y_train)\n",
    "\n",
    "print(y_train_res.value_counts())"
   ]
  },
  {
   "cell_type": "markdown",
   "id": "7eb69443",
   "metadata": {},
   "source": [
    "## SVC-Modell"
   ]
  },
  {
   "cell_type": "code",
   "execution_count": 10,
   "id": "ab137d11",
   "metadata": {},
   "outputs": [
    {
     "data": {
      "text/plain": [
       "0.9502664298401421"
      ]
     },
     "execution_count": 10,
     "metadata": {},
     "output_type": "execute_result"
    }
   ],
   "source": [
    "svc = svm.SVC(kernel = \"linear\")\n",
    "\n",
    "svc.fit(x_train_res, y_train_res)\n",
    "\n",
    "svc.score(x_test, y_test)"
   ]
  },
  {
   "cell_type": "code",
   "execution_count": 11,
   "id": "d503b828",
   "metadata": {},
   "outputs": [
    {
     "name": "stdout",
     "output_type": "stream",
     "text": [
      "      Label  Modell-Ausgabe\n",
      "1356      0               0\n",
      "959       0               0\n",
      "3852      0               1\n",
      "2674      0               0\n",
      "3226      0               0\n",
      "...     ...             ...\n",
      "1836      0               0\n",
      "940       0               0\n",
      "1808      0               0\n",
      "3329      0               0\n",
      "2964      0               0\n",
      "\n",
      "[563 rows x 2 columns]\n"
     ]
    }
   ],
   "source": [
    "predictions = svc.predict(x_test)\n",
    "\n",
    "results_df = pd.DataFrame({\"Label\": y_test, \"Modell-Ausgabe\": predictions})\n",
    "\n",
    "print(results_df)"
   ]
  },
  {
   "cell_type": "code",
   "execution_count": 12,
   "id": "7ff1c390",
   "metadata": {},
   "outputs": [
    {
     "data": {
      "text/plain": [
       "0.9644760213143873"
      ]
     },
     "execution_count": 12,
     "metadata": {},
     "output_type": "execute_result"
    }
   ],
   "source": [
    "svc_2 = svm.SVC(kernel = \"poly\", degree = 3)\n",
    "\n",
    "svc_2.fit(x_train_res, y_train_res)\n",
    "\n",
    "svc_2.score(x_test, y_test)"
   ]
  },
  {
   "cell_type": "code",
   "execution_count": 13,
   "id": "c16dadcb",
   "metadata": {},
   "outputs": [
    {
     "data": {
      "text/plain": [
       "0.9644760213143873"
      ]
     },
     "execution_count": 13,
     "metadata": {},
     "output_type": "execute_result"
    }
   ],
   "source": [
    "svc_3 = svm.SVC(kernel = \"rbf\")\n",
    "\n",
    "svc_3.fit(x_train_res, y_train_res)\n",
    "\n",
    "svc_3.score(x_test, y_test)"
   ]
  },
  {
   "cell_type": "markdown",
   "id": "65b7a0c9",
   "metadata": {},
   "source": [
    "## SVR-Modell"
   ]
  },
  {
   "cell_type": "code",
   "execution_count": 38,
   "id": "8c10b7c3",
   "metadata": {},
   "outputs": [],
   "source": [
    "data = pd.read_excel(\"C:\\\\Users\\\\Tim\\\\Desktop\\\\Buchprojekt KI Medizin\\\\Programmierung\\\\FraminghamHeartStudy.xlsx\", sheet_name = \"Tabelle1\")\n",
    "data = data.dropna()\n",
    "data_new = pd.get_dummies(data, columns = [\"Geschlecht\"])\n",
    "\n",
    "x = data_new.iloc[:, [1, 2, 3, 4, 5, 6, 7, 8, 11, 12, 13, 14]]\n",
    "\n",
    "y = data_new.iloc[:, 7]\n",
    "\n",
    "x_train, x_test, y_train, y_test = train_test_split(x, y, test_size = 0.15)"
   ]
  },
  {
   "cell_type": "code",
   "execution_count": 39,
   "id": "175a2e22",
   "metadata": {},
   "outputs": [
    {
     "data": {
      "text/plain": [
       "0.5215482448797866"
      ]
     },
     "execution_count": 39,
     "metadata": {},
     "output_type": "execute_result"
    }
   ],
   "source": [
    "svr = svm.SVR(kernel = \"linear\")\n",
    "\n",
    "svr.fit(x_train, y_train)\n",
    "\n",
    "svr.score(x_test, y_test)"
   ]
  }
 ],
 "metadata": {
  "kernelspec": {
   "display_name": "Python 3 (ipykernel)",
   "language": "python",
   "name": "python3"
  },
  "language_info": {
   "codemirror_mode": {
    "name": "ipython",
    "version": 3
   },
   "file_extension": ".py",
   "mimetype": "text/x-python",
   "name": "python",
   "nbconvert_exporter": "python",
   "pygments_lexer": "ipython3",
   "version": "3.9.7"
  }
 },
 "nbformat": 4,
 "nbformat_minor": 5
}
