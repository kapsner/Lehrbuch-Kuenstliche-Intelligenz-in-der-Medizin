{
  "cells": [
    {
      "cell_type": "markdown",
      "id": "f10b6a54",
      "metadata": {
        "id": "f10b6a54"
      },
      "source": [
        "# Daten und Modelloptimierung - Teil 2"
      ]
    },
    {
      "cell_type": "markdown",
      "id": "5ec0d1da",
      "metadata": {
        "id": "5ec0d1da"
      },
      "source": [
        "## Quelle der Daten\n",
        "\n",
        "https://www.kaggle.com/datasets/uciml/breast-cancer-wisconsin-data (zuletzt aufgerufen: 01/2024)\n",
        "\n",
        "https://archive.ics.uci.edu/ml/datasets/Breast+Cancer+Wisconsin+%28Diagnostic%29 (zuletzt aufgerufen: 01/2024)"
      ]
    },
    {
      "cell_type": "markdown",
      "id": "22c2c65d",
      "metadata": {
        "id": "22c2c65d"
      },
      "source": [
        "## Installation der Bibliotheken"
      ]
    },
    {
      "cell_type": "code",
      "execution_count": null,
      "id": "aa79e439",
      "metadata": {
        "id": "aa79e439"
      },
      "outputs": [],
      "source": [
        "# Bibliotheken importieren\n",
        "import pandas as pd\n",
        "\n",
        "from sklearn.model_selection import train_test_split\n",
        "\n",
        "from sklearn.preprocessing import StandardScaler\n",
        "\n",
        "from sklearn.decomposition import PCA\n",
        "\n",
        "import numpy as np\n",
        "\n",
        "import matplotlib.pyplot as plt\n",
        "\n",
        "import tensorflow as tf\n",
        "\n",
        "from sklearn.model_selection import RandomizedSearchCV\n",
        "\n",
        "from sklearn.model_selection import StratifiedKFold\n",
        "\n",
        "from tensorflow.keras.wrappers.scikit_learn import KerasClassifier"
      ]
    },
    {
      "cell_type": "markdown",
      "id": "4a3d36f5",
      "metadata": {
        "id": "4a3d36f5"
      },
      "source": [
        "## Einlesen der Daten"
      ]
    },
    {
      "cell_type": "code",
      "execution_count": null,
      "id": "34224e40",
      "metadata": {
        "id": "34224e40"
      },
      "outputs": [],
      "source": [
        "# Daten laden und fehlende Werte entfernen\n",
        "data_url = \"https://github.com/timwgnd/Lehrbuch-Kuenstliche-Intelligenz-in-der-Medizin/raw/refs/heads/main/Brustkrebs.xlsx\"\n",
        "data = pd.read_excel(io=data_url, sheet_name = \"Tabelle1\")\n",
        "\n",
        "# Entfernen von Zeilen mit fehlenden Werten\n",
        "data = data.dropna()\n",
        "\n",
        "# Anzeigen der ersten Zeilen des DataFrames, um einen Überblick über die Daten zu erhalten\n",
        "print(data.head().to_markdown(index=False, tablefmt='psql'))"
      ]
    },
    {
      "cell_type": "code",
      "execution_count": null,
      "id": "31b8e8db",
      "metadata": {
        "id": "31b8e8db"
      },
      "outputs": [],
      "source": [
        "# Diagnose-Werte in numerische Werte umwandeln\n",
        "diagnosis_new = {\"benign\": 0, \"malignant\": 1}\n",
        "\n",
        "data[\"diagnosis\"] = data[\"diagnosis\"].replace(diagnosis_new)\n",
        "\n",
        "print(data.head().to_markdown(index=False, tablefmt='psql'))"
      ]
    },
    {
      "cell_type": "markdown",
      "id": "e04b5ba7",
      "metadata": {
        "id": "e04b5ba7"
      },
      "source": [
        "## Aufteilung der Daten"
      ]
    },
    {
      "cell_type": "code",
      "execution_count": null,
      "id": "429964c9",
      "metadata": {
        "id": "429964c9"
      },
      "outputs": [],
      "source": [
        "# Daten in Features (x) und Zielvariable (y) aufteilen\n",
        "x = data.iloc[:, 1:]\n",
        "\n",
        "y = data.iloc[:, 0]"
      ]
    },
    {
      "cell_type": "code",
      "execution_count": null,
      "id": "6cb87e4e",
      "metadata": {
        "id": "6cb87e4e"
      },
      "outputs": [],
      "source": [
        "# Anzeigen der ersten Zeilen des Feature-Datensatzes (x)\n",
        "print(x.head().to_markdown(index=False, tablefmt='psql'))"
      ]
    },
    {
      "cell_type": "code",
      "execution_count": null,
      "id": "d088e07d",
      "metadata": {
        "id": "d088e07d"
      },
      "outputs": [],
      "source": [
        "# Anzeigen der ersten Zeilen der Zielvariablen (y)\n",
        "print(y.head().to_markdown(index=False, tablefmt='psql'))"
      ]
    },
    {
      "cell_type": "markdown",
      "id": "59ab009b",
      "metadata": {
        "id": "59ab009b"
      },
      "source": [
        "## Principal Component Analysis"
      ]
    },
    {
      "cell_type": "code",
      "execution_count": null,
      "id": "ad723a41",
      "metadata": {
        "id": "ad723a41"
      },
      "outputs": [],
      "source": [
        "scaler = StandardScaler()\n",
        "\n",
        "scaler.fit(x)\n",
        "\n",
        "scaled_data = scaler.transform(x)"
      ]
    },
    {
      "cell_type": "code",
      "execution_count": null,
      "id": "ab137d11",
      "metadata": {
        "id": "ab137d11"
      },
      "outputs": [],
      "source": [
        "pca = PCA(n_components = 15)\n",
        "\n",
        "pca.fit(scaled_data)"
      ]
    },
    {
      "cell_type": "code",
      "execution_count": null,
      "id": "dee83a18",
      "metadata": {
        "id": "dee83a18"
      },
      "outputs": [],
      "source": [
        "PC_values = np.arange(pca.n_components_) + 1\n",
        "\n",
        "plt.plot(PC_values, pca.explained_variance_ratio_, \"o-\", linewidth = 2)\n",
        "plt.xticks(np.arange(1, len(PC_values)+1, 1))\n",
        "\n",
        "plt.title(\"Scree Plot\")\n",
        "plt.xlabel(\"Principal Component\")\n",
        "plt.ylabel(\"Variance Explained\")"
      ]
    },
    {
      "cell_type": "code",
      "execution_count": null,
      "id": "0abc8b2b",
      "metadata": {
        "id": "0abc8b2b"
      },
      "outputs": [],
      "source": [
        "pca = PCA(n_components = 3)\n",
        "\n",
        "pca.fit(scaled_data)"
      ]
    },
    {
      "cell_type": "code",
      "execution_count": null,
      "id": "de34d6f9",
      "metadata": {
        "id": "de34d6f9"
      },
      "outputs": [],
      "source": [
        "PC_values = np.arange(pca.n_components_) + 1\n",
        "\n",
        "plt.plot(PC_values, pca.explained_variance_ratio_, \"o-\", linewidth = 2)\n",
        "plt.xticks(np.arange(1, len(PC_values)+1, 1))\n",
        "\n",
        "plt.title(\"Scree Plot\")\n",
        "plt.xlabel(\"Principal Component\")\n",
        "plt.ylabel(\"Variance Explained\")"
      ]
    },
    {
      "cell_type": "code",
      "execution_count": null,
      "id": "b8245275",
      "metadata": {
        "id": "b8245275"
      },
      "outputs": [],
      "source": [
        "x_pca = pca.transform(scaled_data)\n",
        "\n",
        "print(x_pca)"
      ]
    },
    {
      "cell_type": "code",
      "execution_count": null,
      "id": "4eb15061",
      "metadata": {
        "id": "4eb15061"
      },
      "outputs": [],
      "source": [
        "plt.figure(figsize = (8,6))\n",
        "\n",
        "plt.scatter(x_pca[:,0],x_pca[:,1], c = data[\"diagnosis\"])\n",
        "\n",
        "plt.xlabel(\"PC1\")\n",
        "plt.ylabel(\"PC2\")"
      ]
    },
    {
      "cell_type": "code",
      "execution_count": null,
      "id": "6f301ef3",
      "metadata": {
        "id": "6f301ef3"
      },
      "outputs": [],
      "source": [
        "x_train, x_test, y_train, y_test = train_test_split(x_pca, y, test_size = 0.15)"
      ]
    },
    {
      "cell_type": "markdown",
      "id": "3626a722",
      "metadata": {
        "id": "3626a722"
      },
      "source": [
        "## Erstellen, Trainieren und Evaluieren des KI-Modells"
      ]
    },
    {
      "cell_type": "code",
      "execution_count": null,
      "id": "4c3c7669",
      "metadata": {
        "id": "4c3c7669"
      },
      "outputs": [],
      "source": [
        "model_1 = tf.keras.models.Sequential()\n",
        "\n",
        "model_1.add(tf.keras.layers.Dense(64, activation = tf.nn.relu))\n",
        "model_1.add(tf.keras.layers.Dense(256, activation = tf.nn.relu))\n",
        "model_1.add(tf.keras.layers.Dense(128, activation = tf.nn.relu))\n",
        "\n",
        "model_1.add(tf.keras.layers.Dense(2, activation = tf.nn.softmax))"
      ]
    },
    {
      "cell_type": "code",
      "execution_count": null,
      "id": "3c44242f",
      "metadata": {
        "id": "3c44242f"
      },
      "outputs": [],
      "source": [
        "model_2 = tf.keras.models.Sequential()\n",
        "\n",
        "model_2.add(tf.keras.layers.Dense(64, activation = tf.nn.relu,\n",
        "                                kernel_initializer = \"he_uniform\",\n",
        "                                kernel_regularizer = tf.keras.regularizers.L1(0.01),\n",
        "                                bias_regularizer = tf.keras.regularizers.L2(0.01)))\n",
        "model_2.add(tf.keras.layers.Dense(256, activation = tf.nn.relu))\n",
        "model_2.add(tf.keras.layers.Dense(128, activation = tf.nn.relu))\n",
        "\n",
        "model_2.add(tf.keras.layers.Dense(2, activation = tf.nn.softmax))"
      ]
    },
    {
      "cell_type": "code",
      "execution_count": null,
      "id": "f766e6b0",
      "metadata": {
        "id": "f766e6b0"
      },
      "outputs": [],
      "source": [
        "model_1.compile(optimizer = \"SGD\",\n",
        "              loss = \"sparse_categorical_crossentropy\",\n",
        "              metrics = \"accuracy\")"
      ]
    },
    {
      "cell_type": "code",
      "execution_count": null,
      "id": "b6290c7d",
      "metadata": {
        "id": "b6290c7d"
      },
      "outputs": [],
      "source": [
        "model_1.fit(x_train, y_train, epochs = 5)"
      ]
    },
    {
      "cell_type": "code",
      "execution_count": null,
      "id": "5c572ae0",
      "metadata": {
        "id": "5c572ae0"
      },
      "outputs": [],
      "source": [
        "model_1.evaluate(x_test, y_test)"
      ]
    },
    {
      "cell_type": "markdown",
      "id": "8bb9c801",
      "metadata": {
        "id": "8bb9c801"
      },
      "source": [
        "## Hyperparameter-Optimierung mit Random Search"
      ]
    },
    {
      "cell_type": "code",
      "execution_count": null,
      "id": "9d38ad64",
      "metadata": {
        "id": "9d38ad64"
      },
      "outputs": [],
      "source": [
        "def create_model(optimizer = \"SGD\", loss = \"sparse_categorical_crossentropy\", neurons = 128):\n",
        "    model = tf.keras.models.Sequential()\n",
        "    model.add(tf.keras.layers.Dense(neurons, activation = tf.nn.relu))\n",
        "    model.add(tf.keras.layers.Dense(256, activation = tf.nn.relu))\n",
        "    model.add(tf.keras.layers.Dense(neurons, activation = tf.nn.relu))\n",
        "\n",
        "    model.add(tf.keras.layers.Dense(2, activation = tf.nn.softmax))\n",
        "\n",
        "    model.compile(optimizer = optimizer, loss = loss, metrics = [\"accuracy\"])\n",
        "\n",
        "    return model"
      ]
    },
    {
      "cell_type": "code",
      "execution_count": null,
      "id": "6f95d9ef",
      "metadata": {
        "id": "6f95d9ef"
      },
      "outputs": [],
      "source": [
        "model_1 = KerasClassifier(build_fn = create_model, verbose = 0)"
      ]
    },
    {
      "cell_type": "code",
      "execution_count": null,
      "id": "fc30fd76",
      "metadata": {
        "id": "fc30fd76"
      },
      "outputs": [],
      "source": [
        "param_dist = {\n",
        "    \"neurons\": [64, 128],\n",
        "    \"optimizer\": [\"adam\", \"SGD\"],\n",
        "    \"loss\":[\"sparse_categorical_crossentropy\", \"MSE\"]}"
      ]
    },
    {
      "cell_type": "code",
      "execution_count": null,
      "id": "81c55d62",
      "metadata": {
        "id": "81c55d62"
      },
      "outputs": [],
      "source": [
        "random_search = RandomizedSearchCV(estimator = model_1, param_distributions = param_dist,\n",
        "                                   cv = StratifiedKFold(n_splits = 5), n_jobs = -1)\n",
        "random_search_result = random_search.fit(x, y)"
      ]
    },
    {
      "cell_type": "code",
      "execution_count": null,
      "id": "37628d7a",
      "metadata": {
        "id": "37628d7a"
      },
      "outputs": [],
      "source": [
        "print(\"Best: %f using %s\" % (random_search_result.best_score_,\n",
        "                             random_search_result.best_params_))"
      ]
    },
    {
      "cell_type": "code",
      "execution_count": null,
      "id": "12075725",
      "metadata": {
        "id": "12075725"
      },
      "outputs": [],
      "source": [
        "model_3 = tf.keras.models.Sequential()\n",
        "\n",
        "model_3.add(tf.keras.layers.Dense(64, activation = tf.nn.relu))\n",
        "model_3.add(tf.keras.layers.Dense(256, activation = tf.nn.relu))\n",
        "model_3.add(tf.keras.layers.Dense(64, activation = tf.nn.relu))\n",
        "\n",
        "model_3.add(tf.keras.layers.Dense(2, activation = tf.nn.softmax))\n",
        "\n",
        "model_3.compile(optimizer = \"adam\",\n",
        "              loss = \"sparse_categorical_crossentropy\",\n",
        "              metrics = \"accuracy\")\n",
        "\n",
        "model_3.fit(x_train, y_train, epochs = 5)"
      ]
    },
    {
      "cell_type": "code",
      "execution_count": null,
      "id": "39069b9a",
      "metadata": {
        "id": "39069b9a"
      },
      "outputs": [],
      "source": [
        "model_3.evaluate(x_test, y_test)"
      ]
    }
  ],
  "metadata": {
    "kernelspec": {
      "display_name": "Python 3 (ipykernel)",
      "language": "python",
      "name": "python3"
    },
    "language_info": {
      "codemirror_mode": {
        "name": "ipython",
        "version": 3
      },
      "file_extension": ".py",
      "mimetype": "text/x-python",
      "name": "python",
      "nbconvert_exporter": "python",
      "pygments_lexer": "ipython3",
      "version": "3.9.7"
    },
    "colab": {
      "provenance": []
    }
  },
  "nbformat": 4,
  "nbformat_minor": 5
}