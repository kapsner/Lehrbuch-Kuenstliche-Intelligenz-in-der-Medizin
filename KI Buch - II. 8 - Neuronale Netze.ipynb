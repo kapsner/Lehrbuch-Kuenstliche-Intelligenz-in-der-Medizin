{
 "cells": [
  {
   "cell_type": "markdown",
   "id": "d28770bd",
   "metadata": {},
   "source": [
    "# Neuronale Netze"
   ]
  },
  {
   "cell_type": "markdown",
   "id": "2f057f17",
   "metadata": {},
   "source": [
    "## Quelle der Daten\n",
    "\n",
    "https://www.kaggle.com/datasets/captainozlem/framingham-chd-preprocessed-data (zuletzt aufgerufen: 01/2024)\n",
    "\n",
    "https://www.framinghamheartstudy.org/ (zuletzt aufgerufen: 01/2024)"
   ]
  },
  {
   "cell_type": "markdown",
   "id": "233fb050",
   "metadata": {},
   "source": [
    "## Installation der Bibliotheken"
   ]
  },
  {
   "cell_type": "code",
   "execution_count": 1,
   "id": "dd256c71",
   "metadata": {},
   "outputs": [],
   "source": [
    "import pandas as pd\n",
    "\n",
    "import matplotlib.pyplot as plt\n",
    "\n",
    "from imblearn.over_sampling import SMOTE\n",
    "\n",
    "from sklearn.model_selection import train_test_split\n",
    "\n",
    "import tensorflow as tf"
   ]
  },
  {
   "cell_type": "markdown",
   "id": "91ef73bf",
   "metadata": {},
   "source": [
    "## Einlesen der Daten"
   ]
  },
  {
   "cell_type": "code",
   "execution_count": 2,
   "id": "266e9151",
   "metadata": {},
   "outputs": [
    {
     "data": {
      "text/html": [
       "<div>\n",
       "<style scoped>\n",
       "    .dataframe tbody tr th:only-of-type {\n",
       "        vertical-align: middle;\n",
       "    }\n",
       "\n",
       "    .dataframe tbody tr th {\n",
       "        vertical-align: top;\n",
       "    }\n",
       "\n",
       "    .dataframe thead th {\n",
       "        text-align: right;\n",
       "    }\n",
       "</style>\n",
       "<table border=\"1\" class=\"dataframe\">\n",
       "  <thead>\n",
       "    <tr style=\"text-align: right;\">\n",
       "      <th></th>\n",
       "      <th>ZehnJahreKHK</th>\n",
       "      <th>Geschlecht</th>\n",
       "      <th>Alter</th>\n",
       "      <th>Raucher</th>\n",
       "      <th>ZigProTag</th>\n",
       "      <th>BDMedikamente</th>\n",
       "      <th>Schlaganfall</th>\n",
       "      <th>ArtHypertonie</th>\n",
       "      <th>Diabetes</th>\n",
       "      <th>GesCholesterin</th>\n",
       "      <th>Systolisch</th>\n",
       "      <th>Diastolisch</th>\n",
       "      <th>BMI</th>\n",
       "      <th>Herzfrequenz</th>\n",
       "      <th>Blutzucker</th>\n",
       "    </tr>\n",
       "  </thead>\n",
       "  <tbody>\n",
       "    <tr>\n",
       "      <th>1</th>\n",
       "      <td>0</td>\n",
       "      <td>M</td>\n",
       "      <td>38</td>\n",
       "      <td>1</td>\n",
       "      <td>20.0</td>\n",
       "      <td>0.0</td>\n",
       "      <td>0</td>\n",
       "      <td>0</td>\n",
       "      <td>0</td>\n",
       "      <td>113.0</td>\n",
       "      <td>120</td>\n",
       "      <td>84</td>\n",
       "      <td>30.0</td>\n",
       "      <td>78.0</td>\n",
       "      <td>85.0</td>\n",
       "    </tr>\n",
       "    <tr>\n",
       "      <th>2</th>\n",
       "      <td>0</td>\n",
       "      <td>M</td>\n",
       "      <td>47</td>\n",
       "      <td>1</td>\n",
       "      <td>20.0</td>\n",
       "      <td>0.0</td>\n",
       "      <td>0</td>\n",
       "      <td>0</td>\n",
       "      <td>0</td>\n",
       "      <td>119.0</td>\n",
       "      <td>117</td>\n",
       "      <td>79</td>\n",
       "      <td>26.0</td>\n",
       "      <td>75.0</td>\n",
       "      <td>78.0</td>\n",
       "    </tr>\n",
       "    <tr>\n",
       "      <th>3</th>\n",
       "      <td>1</td>\n",
       "      <td>M</td>\n",
       "      <td>66</td>\n",
       "      <td>0</td>\n",
       "      <td>0.0</td>\n",
       "      <td>0.0</td>\n",
       "      <td>0</td>\n",
       "      <td>1</td>\n",
       "      <td>0</td>\n",
       "      <td>124.0</td>\n",
       "      <td>138</td>\n",
       "      <td>91</td>\n",
       "      <td>32.0</td>\n",
       "      <td>75.0</td>\n",
       "      <td>96.0</td>\n",
       "    </tr>\n",
       "    <tr>\n",
       "      <th>6</th>\n",
       "      <td>1</td>\n",
       "      <td>M</td>\n",
       "      <td>51</td>\n",
       "      <td>1</td>\n",
       "      <td>7.0</td>\n",
       "      <td>0.0</td>\n",
       "      <td>0</td>\n",
       "      <td>1</td>\n",
       "      <td>0</td>\n",
       "      <td>133.0</td>\n",
       "      <td>138</td>\n",
       "      <td>78</td>\n",
       "      <td>17.0</td>\n",
       "      <td>80.0</td>\n",
       "      <td>65.0</td>\n",
       "    </tr>\n",
       "    <tr>\n",
       "      <th>7</th>\n",
       "      <td>0</td>\n",
       "      <td>W</td>\n",
       "      <td>36</td>\n",
       "      <td>1</td>\n",
       "      <td>3.0</td>\n",
       "      <td>0.0</td>\n",
       "      <td>0</td>\n",
       "      <td>0</td>\n",
       "      <td>0</td>\n",
       "      <td>135.0</td>\n",
       "      <td>108</td>\n",
       "      <td>74</td>\n",
       "      <td>23.0</td>\n",
       "      <td>73.0</td>\n",
       "      <td>75.0</td>\n",
       "    </tr>\n",
       "  </tbody>\n",
       "</table>\n",
       "</div>"
      ],
      "text/plain": [
       "   ZehnJahreKHK Geschlecht  Alter  Raucher  ZigProTag  BDMedikamente  \\\n",
       "1             0          M     38        1       20.0            0.0   \n",
       "2             0          M     47        1       20.0            0.0   \n",
       "3             1          M     66        0        0.0            0.0   \n",
       "6             1          M     51        1        7.0            0.0   \n",
       "7             0          W     36        1        3.0            0.0   \n",
       "\n",
       "   Schlaganfall  ArtHypertonie  Diabetes  GesCholesterin  Systolisch  \\\n",
       "1             0              0         0           113.0         120   \n",
       "2             0              0         0           119.0         117   \n",
       "3             0              1         0           124.0         138   \n",
       "6             0              1         0           133.0         138   \n",
       "7             0              0         0           135.0         108   \n",
       "\n",
       "   Diastolisch   BMI  Herzfrequenz  Blutzucker  \n",
       "1           84  30.0          78.0        85.0  \n",
       "2           79  26.0          75.0        78.0  \n",
       "3           91  32.0          75.0        96.0  \n",
       "6           78  17.0          80.0        65.0  \n",
       "7           74  23.0          73.0        75.0  "
      ]
     },
     "execution_count": 2,
     "metadata": {},
     "output_type": "execute_result"
    }
   ],
   "source": [
    "data = pd.read_excel(\"C:\\\\Users\\\\Tim\\\\Desktop\\\\Buchprojekt KI Medizin\\\\Programmierung\\\\FraminghamHeartStudy.xlsx\", sheet_name = \"Tabelle1\")\n",
    "\n",
    "data = data.dropna()\n",
    "\n",
    "data.head()"
   ]
  },
  {
   "cell_type": "code",
   "execution_count": 3,
   "id": "7b5aaee1",
   "metadata": {},
   "outputs": [
    {
     "data": {
      "text/html": [
       "<div>\n",
       "<style scoped>\n",
       "    .dataframe tbody tr th:only-of-type {\n",
       "        vertical-align: middle;\n",
       "    }\n",
       "\n",
       "    .dataframe tbody tr th {\n",
       "        vertical-align: top;\n",
       "    }\n",
       "\n",
       "    .dataframe thead th {\n",
       "        text-align: right;\n",
       "    }\n",
       "</style>\n",
       "<table border=\"1\" class=\"dataframe\">\n",
       "  <thead>\n",
       "    <tr style=\"text-align: right;\">\n",
       "      <th></th>\n",
       "      <th>ZehnJahreKHK</th>\n",
       "      <th>Alter</th>\n",
       "      <th>Raucher</th>\n",
       "      <th>ZigProTag</th>\n",
       "      <th>BDMedikamente</th>\n",
       "      <th>Schlaganfall</th>\n",
       "      <th>ArtHypertonie</th>\n",
       "      <th>Diabetes</th>\n",
       "      <th>GesCholesterin</th>\n",
       "      <th>Systolisch</th>\n",
       "      <th>Diastolisch</th>\n",
       "      <th>BMI</th>\n",
       "      <th>Herzfrequenz</th>\n",
       "      <th>Blutzucker</th>\n",
       "      <th>Geschlecht_M</th>\n",
       "      <th>Geschlecht_W</th>\n",
       "    </tr>\n",
       "  </thead>\n",
       "  <tbody>\n",
       "    <tr>\n",
       "      <th>1</th>\n",
       "      <td>0</td>\n",
       "      <td>38</td>\n",
       "      <td>1</td>\n",
       "      <td>20.0</td>\n",
       "      <td>0.0</td>\n",
       "      <td>0</td>\n",
       "      <td>0</td>\n",
       "      <td>0</td>\n",
       "      <td>113.0</td>\n",
       "      <td>120</td>\n",
       "      <td>84</td>\n",
       "      <td>30.0</td>\n",
       "      <td>78.0</td>\n",
       "      <td>85.0</td>\n",
       "      <td>1</td>\n",
       "      <td>0</td>\n",
       "    </tr>\n",
       "    <tr>\n",
       "      <th>2</th>\n",
       "      <td>0</td>\n",
       "      <td>47</td>\n",
       "      <td>1</td>\n",
       "      <td>20.0</td>\n",
       "      <td>0.0</td>\n",
       "      <td>0</td>\n",
       "      <td>0</td>\n",
       "      <td>0</td>\n",
       "      <td>119.0</td>\n",
       "      <td>117</td>\n",
       "      <td>79</td>\n",
       "      <td>26.0</td>\n",
       "      <td>75.0</td>\n",
       "      <td>78.0</td>\n",
       "      <td>1</td>\n",
       "      <td>0</td>\n",
       "    </tr>\n",
       "    <tr>\n",
       "      <th>3</th>\n",
       "      <td>1</td>\n",
       "      <td>66</td>\n",
       "      <td>0</td>\n",
       "      <td>0.0</td>\n",
       "      <td>0.0</td>\n",
       "      <td>0</td>\n",
       "      <td>1</td>\n",
       "      <td>0</td>\n",
       "      <td>124.0</td>\n",
       "      <td>138</td>\n",
       "      <td>91</td>\n",
       "      <td>32.0</td>\n",
       "      <td>75.0</td>\n",
       "      <td>96.0</td>\n",
       "      <td>1</td>\n",
       "      <td>0</td>\n",
       "    </tr>\n",
       "    <tr>\n",
       "      <th>6</th>\n",
       "      <td>1</td>\n",
       "      <td>51</td>\n",
       "      <td>1</td>\n",
       "      <td>7.0</td>\n",
       "      <td>0.0</td>\n",
       "      <td>0</td>\n",
       "      <td>1</td>\n",
       "      <td>0</td>\n",
       "      <td>133.0</td>\n",
       "      <td>138</td>\n",
       "      <td>78</td>\n",
       "      <td>17.0</td>\n",
       "      <td>80.0</td>\n",
       "      <td>65.0</td>\n",
       "      <td>1</td>\n",
       "      <td>0</td>\n",
       "    </tr>\n",
       "    <tr>\n",
       "      <th>7</th>\n",
       "      <td>0</td>\n",
       "      <td>36</td>\n",
       "      <td>1</td>\n",
       "      <td>3.0</td>\n",
       "      <td>0.0</td>\n",
       "      <td>0</td>\n",
       "      <td>0</td>\n",
       "      <td>0</td>\n",
       "      <td>135.0</td>\n",
       "      <td>108</td>\n",
       "      <td>74</td>\n",
       "      <td>23.0</td>\n",
       "      <td>73.0</td>\n",
       "      <td>75.0</td>\n",
       "      <td>0</td>\n",
       "      <td>1</td>\n",
       "    </tr>\n",
       "  </tbody>\n",
       "</table>\n",
       "</div>"
      ],
      "text/plain": [
       "   ZehnJahreKHK  Alter  Raucher  ZigProTag  BDMedikamente  Schlaganfall  \\\n",
       "1             0     38        1       20.0            0.0             0   \n",
       "2             0     47        1       20.0            0.0             0   \n",
       "3             1     66        0        0.0            0.0             0   \n",
       "6             1     51        1        7.0            0.0             0   \n",
       "7             0     36        1        3.0            0.0             0   \n",
       "\n",
       "   ArtHypertonie  Diabetes  GesCholesterin  Systolisch  Diastolisch   BMI  \\\n",
       "1              0         0           113.0         120           84  30.0   \n",
       "2              0         0           119.0         117           79  26.0   \n",
       "3              1         0           124.0         138           91  32.0   \n",
       "6              1         0           133.0         138           78  17.0   \n",
       "7              0         0           135.0         108           74  23.0   \n",
       "\n",
       "   Herzfrequenz  Blutzucker  Geschlecht_M  Geschlecht_W  \n",
       "1          78.0        85.0             1             0  \n",
       "2          75.0        78.0             1             0  \n",
       "3          75.0        96.0             1             0  \n",
       "6          80.0        65.0             1             0  \n",
       "7          73.0        75.0             0             1  "
      ]
     },
     "execution_count": 3,
     "metadata": {},
     "output_type": "execute_result"
    }
   ],
   "source": [
    "data_new = pd.get_dummies(data, columns = [\"Geschlecht\"])\n",
    "\n",
    "data_new.head()"
   ]
  },
  {
   "cell_type": "code",
   "execution_count": 4,
   "id": "9b025aa7",
   "metadata": {},
   "outputs": [
    {
     "data": {
      "text/plain": [
       "<Axes: >"
      ]
     },
     "execution_count": 4,
     "metadata": {},
     "output_type": "execute_result"
    },
    {
     "data": {
      "image/png": "[encoded data removed]",
      "text/plain": [
       "<Figure size 432x288 with 1 Axes>"
      ]
     },
     "metadata": {
      "needs_background": "light"
     },
     "output_type": "display_data"
    }
   ],
   "source": [
    "count_diabetes = data_new[\"Diabetes\"].value_counts()\n",
    "\n",
    "count_diabetes.plot(kind = \"bar\", rot = 0)"
   ]
  },
  {
   "cell_type": "markdown",
   "id": "624b7bbe",
   "metadata": {},
   "source": [
    "## Aufteilung der Daten und Resampling"
   ]
  },
  {
   "cell_type": "code",
   "execution_count": 5,
   "id": "28a79fac",
   "metadata": {},
   "outputs": [],
   "source": [
    "x = data_new.iloc[:, [1, 2, 3, 4, 5, 6, 8, 9, 10, 11, 12, 13, 14]]\n",
    "\n",
    "y = data_new.iloc[:, 7]"
   ]
  },
  {
   "cell_type": "code",
   "execution_count": 6,
   "id": "a3f41c76",
   "metadata": {},
   "outputs": [
    {
     "data": {
      "text/html": [
       "<div>\n",
       "<style scoped>\n",
       "    .dataframe tbody tr th:only-of-type {\n",
       "        vertical-align: middle;\n",
       "    }\n",
       "\n",
       "    .dataframe tbody tr th {\n",
       "        vertical-align: top;\n",
       "    }\n",
       "\n",
       "    .dataframe thead th {\n",
       "        text-align: right;\n",
       "    }\n",
       "</style>\n",
       "<table border=\"1\" class=\"dataframe\">\n",
       "  <thead>\n",
       "    <tr style=\"text-align: right;\">\n",
       "      <th></th>\n",
       "      <th>Alter</th>\n",
       "      <th>Raucher</th>\n",
       "      <th>ZigProTag</th>\n",
       "      <th>BDMedikamente</th>\n",
       "      <th>Schlaganfall</th>\n",
       "      <th>ArtHypertonie</th>\n",
       "      <th>GesCholesterin</th>\n",
       "      <th>Systolisch</th>\n",
       "      <th>Diastolisch</th>\n",
       "      <th>BMI</th>\n",
       "      <th>Herzfrequenz</th>\n",
       "      <th>Blutzucker</th>\n",
       "      <th>Geschlecht_M</th>\n",
       "    </tr>\n",
       "  </thead>\n",
       "  <tbody>\n",
       "    <tr>\n",
       "      <th>1</th>\n",
       "      <td>38</td>\n",
       "      <td>1</td>\n",
       "      <td>20.0</td>\n",
       "      <td>0.0</td>\n",
       "      <td>0</td>\n",
       "      <td>0</td>\n",
       "      <td>113.0</td>\n",
       "      <td>120</td>\n",
       "      <td>84</td>\n",
       "      <td>30.0</td>\n",
       "      <td>78.0</td>\n",
       "      <td>85.0</td>\n",
       "      <td>1</td>\n",
       "    </tr>\n",
       "    <tr>\n",
       "      <th>2</th>\n",
       "      <td>47</td>\n",
       "      <td>1</td>\n",
       "      <td>20.0</td>\n",
       "      <td>0.0</td>\n",
       "      <td>0</td>\n",
       "      <td>0</td>\n",
       "      <td>119.0</td>\n",
       "      <td>117</td>\n",
       "      <td>79</td>\n",
       "      <td>26.0</td>\n",
       "      <td>75.0</td>\n",
       "      <td>78.0</td>\n",
       "      <td>1</td>\n",
       "    </tr>\n",
       "    <tr>\n",
       "      <th>3</th>\n",
       "      <td>66</td>\n",
       "      <td>0</td>\n",
       "      <td>0.0</td>\n",
       "      <td>0.0</td>\n",
       "      <td>0</td>\n",
       "      <td>1</td>\n",
       "      <td>124.0</td>\n",
       "      <td>138</td>\n",
       "      <td>91</td>\n",
       "      <td>32.0</td>\n",
       "      <td>75.0</td>\n",
       "      <td>96.0</td>\n",
       "      <td>1</td>\n",
       "    </tr>\n",
       "    <tr>\n",
       "      <th>6</th>\n",
       "      <td>51</td>\n",
       "      <td>1</td>\n",
       "      <td>7.0</td>\n",
       "      <td>0.0</td>\n",
       "      <td>0</td>\n",
       "      <td>1</td>\n",
       "      <td>133.0</td>\n",
       "      <td>138</td>\n",
       "      <td>78</td>\n",
       "      <td>17.0</td>\n",
       "      <td>80.0</td>\n",
       "      <td>65.0</td>\n",
       "      <td>1</td>\n",
       "    </tr>\n",
       "    <tr>\n",
       "      <th>7</th>\n",
       "      <td>36</td>\n",
       "      <td>1</td>\n",
       "      <td>3.0</td>\n",
       "      <td>0.0</td>\n",
       "      <td>0</td>\n",
       "      <td>0</td>\n",
       "      <td>135.0</td>\n",
       "      <td>108</td>\n",
       "      <td>74</td>\n",
       "      <td>23.0</td>\n",
       "      <td>73.0</td>\n",
       "      <td>75.0</td>\n",
       "      <td>0</td>\n",
       "    </tr>\n",
       "  </tbody>\n",
       "</table>\n",
       "</div>"
      ],
      "text/plain": [
       "   Alter  Raucher  ZigProTag  BDMedikamente  Schlaganfall  ArtHypertonie  \\\n",
       "1     38        1       20.0            0.0             0              0   \n",
       "2     47        1       20.0            0.0             0              0   \n",
       "3     66        0        0.0            0.0             0              1   \n",
       "6     51        1        7.0            0.0             0              1   \n",
       "7     36        1        3.0            0.0             0              0   \n",
       "\n",
       "   GesCholesterin  Systolisch  Diastolisch   BMI  Herzfrequenz  Blutzucker  \\\n",
       "1           113.0         120           84  30.0          78.0        85.0   \n",
       "2           119.0         117           79  26.0          75.0        78.0   \n",
       "3           124.0         138           91  32.0          75.0        96.0   \n",
       "6           133.0         138           78  17.0          80.0        65.0   \n",
       "7           135.0         108           74  23.0          73.0        75.0   \n",
       "\n",
       "   Geschlecht_M  \n",
       "1             1  \n",
       "2             1  \n",
       "3             1  \n",
       "6             1  \n",
       "7             0  "
      ]
     },
     "execution_count": 6,
     "metadata": {},
     "output_type": "execute_result"
    }
   ],
   "source": [
    "x.head()"
   ]
  },
  {
   "cell_type": "code",
   "execution_count": 7,
   "id": "0969f6de",
   "metadata": {},
   "outputs": [
    {
     "data": {
      "text/plain": [
       "1    0\n",
       "2    0\n",
       "3    0\n",
       "6    0\n",
       "7    0\n",
       "Name: Diabetes, dtype: int64"
      ]
     },
     "execution_count": 7,
     "metadata": {},
     "output_type": "execute_result"
    }
   ],
   "source": [
    "y.head()"
   ]
  },
  {
   "cell_type": "code",
   "execution_count": 8,
   "id": "ee103593",
   "metadata": {},
   "outputs": [],
   "source": [
    "x_train, x_test, y_train, y_test = train_test_split(x, y, test_size = 0.15)"
   ]
  },
  {
   "cell_type": "code",
   "execution_count": 9,
   "id": "a9926f4b",
   "metadata": {},
   "outputs": [
    {
     "name": "stdout",
     "output_type": "stream",
     "text": [
      "0    3101\n",
      "1    3101\n",
      "Name: Diabetes, dtype: int64\n"
     ]
    }
   ],
   "source": [
    "sm = SMOTE()\n",
    "\n",
    "x_train_res, y_train_res = sm.fit_resample(x_train, y_train)\n",
    "\n",
    "print(y_train_res.value_counts())"
   ]
  },
  {
   "cell_type": "markdown",
   "id": "0580df86",
   "metadata": {},
   "source": [
    "## FCNN-Architektur"
   ]
  },
  {
   "cell_type": "code",
   "execution_count": 10,
   "id": "ca68dde9",
   "metadata": {},
   "outputs": [],
   "source": [
    "model = tf.keras.models.Sequential()\n",
    "\n",
    "model.add(tf.keras.layers.Dense(128, activation = tf.nn.relu))\n",
    "model.add(tf.keras.layers.Dense(256, activation = tf.nn.relu))\n",
    "model.add(tf.keras.layers.Dense(128, activation = tf.nn.relu))\n",
    "\n",
    "model.add(tf.keras.layers.Dense(1, activation = tf.nn.sigmoid))"
   ]
  },
  {
   "cell_type": "markdown",
   "id": "71e47f69",
   "metadata": {},
   "source": [
    "## Modelltraining und -evaluation"
   ]
  },
  {
   "cell_type": "code",
   "execution_count": 11,
   "id": "e51dbe7f",
   "metadata": {},
   "outputs": [],
   "source": [
    "model.compile(optimizer = \"adam\",\n",
    "              loss = \"binary_crossentropy\",\n",
    "              metrics = \"accuracy\")"
   ]
  },
  {
   "cell_type": "code",
   "execution_count": 12,
   "id": "57c21643",
   "metadata": {},
   "outputs": [
    {
     "data": {
      "text/plain": [
       "'\\ntf.keras.optimizers.Adam(\\n    learning_rate = 0.001, \\n    beta_1 = 0.9, \\n    beta_2 = 0.999, \\n    epsilon = 1e-07, \\n    amsgrad = False, \\n    name = \"adam\")\\n\\ntf.keras.losses.BinaryCrossentropy(\\n    from_logits = False,\\n    label_smoothing = 0.0,\\n    axis = -1,\\n    name = \"binary_crossentropy\")\\n\\ntf.keras.metrics.Accuracy(\\n    name = \"accuracy\")\\n'"
      ]
     },
     "execution_count": 12,
     "metadata": {},
     "output_type": "execute_result"
    }
   ],
   "source": [
    "\"\"\"\n",
    "tf.keras.optimizers.Adam(\n",
    "    learning_rate = 0.001, \n",
    "    beta_1 = 0.9, \n",
    "    beta_2 = 0.999, \n",
    "    epsilon = 1e-07, \n",
    "    amsgrad = False, \n",
    "    name = \"adam\")\n",
    "\n",
    "tf.keras.losses.BinaryCrossentropy(\n",
    "    from_logits = False,\n",
    "    label_smoothing = 0.0,\n",
    "    axis = -1,\n",
    "    name = \"binary_crossentropy\")\n",
    "\n",
    "tf.keras.metrics.Accuracy(\n",
    "    name = \"accuracy\")\n",
    "\"\"\""
   ]
  },
  {
   "cell_type": "code",
   "execution_count": 13,
   "id": "a7a86ad0",
   "metadata": {},
   "outputs": [
    {
     "name": "stdout",
     "output_type": "stream",
     "text": [
      "Epoch 1/10\n",
      "194/194 [==============================] - 1s 2ms/step - loss: 0.8068 - accuracy: 0.8084\n",
      "Epoch 2/10\n",
      "194/194 [==============================] - 0s 2ms/step - loss: 0.3855 - accuracy: 0.8471\n",
      "Epoch 3/10\n",
      "194/194 [==============================] - 0s 2ms/step - loss: 0.3518 - accuracy: 0.8578\n",
      "Epoch 4/10\n",
      "194/194 [==============================] - 0s 3ms/step - loss: 0.2835 - accuracy: 0.8821\n",
      "Epoch 5/10\n",
      "194/194 [==============================] - 0s 2ms/step - loss: 0.2665 - accuracy: 0.8875\n",
      "Epoch 6/10\n",
      "194/194 [==============================] - 0s 2ms/step - loss: 0.2360 - accuracy: 0.8984\n",
      "Epoch 7/10\n",
      "194/194 [==============================] - 0s 2ms/step - loss: 0.2433 - accuracy: 0.8921\n",
      "Epoch 8/10\n",
      "194/194 [==============================] - 0s 2ms/step - loss: 0.2042 - accuracy: 0.9112\n",
      "Epoch 9/10\n",
      "194/194 [==============================] - 0s 2ms/step - loss: 0.2059 - accuracy: 0.9126\n",
      "Epoch 10/10\n",
      "194/194 [==============================] - 0s 2ms/step - loss: 0.1807 - accuracy: 0.9247\n"
     ]
    },
    {
     "data": {
      "text/plain": [
       "<keras.callbacks.History at 0x229e635e220>"
      ]
     },
     "execution_count": 13,
     "metadata": {},
     "output_type": "execute_result"
    }
   ],
   "source": [
    "model.fit(x_train_res, y_train_res, epochs = 10)"
   ]
  },
  {
   "cell_type": "code",
   "execution_count": 14,
   "id": "f0b59430",
   "metadata": {},
   "outputs": [
    {
     "name": "stdout",
     "output_type": "stream",
     "text": [
      "18/18 [==============================] - 0s 3ms/step - loss: 0.1848 - accuracy: 0.9361\n"
     ]
    },
    {
     "data": {
      "text/plain": [
       "[0.18477952480316162, 0.9360568523406982]"
      ]
     },
     "execution_count": 14,
     "metadata": {},
     "output_type": "execute_result"
    }
   ],
   "source": [
    "model.evaluate(x_test, y_test)"
   ]
  }
 ],
 "metadata": {
  "kernelspec": {
   "display_name": "Python 3 (ipykernel)",
   "language": "python",
   "name": "python3"
  },
  "language_info": {
   "codemirror_mode": {
    "name": "ipython",
    "version": 3
   },
   "file_extension": ".py",
   "mimetype": "text/x-python",
   "name": "python",
   "nbconvert_exporter": "python",
   "pygments_lexer": "ipython3",
   "version": "3.9.7"
  }
 },
 "nbformat": 4,
 "nbformat_minor": 5
}
