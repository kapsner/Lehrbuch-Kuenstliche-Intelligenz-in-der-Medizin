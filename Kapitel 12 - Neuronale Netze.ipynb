{
 "cells": [
  {
   "cell_type": "markdown",
   "id": "d28770bd",
   "metadata": {},
   "source": [
    "# Neuronale Netze"
   ]
  },
  {
   "cell_type": "markdown",
   "id": "2f057f17",
   "metadata": {},
   "source": [
    "## Quelle der Daten\n",
    "\n",
    "https://www.kaggle.com/datasets/captainozlem/framingham-chd-preprocessed-data (zuletzt aufgerufen: 01/2024)\n",
    "\n",
    "https://www.framinghamheartstudy.org/ (zuletzt aufgerufen: 01/2024)"
   ]
  },
  {
   "cell_type": "markdown",
   "id": "233fb050",
   "metadata": {},
   "source": [
    "## Installation der Bibliotheken"
   ]
  },
  {
   "cell_type": "code",
   "execution_count": null,
   "id": "dd256c71",
   "metadata": {},
   "outputs": [],
   "source": [
    "import pandas as pd\n",
    "\n",
    "import matplotlib.pyplot as plt\n",
    "\n",
    "from imblearn.over_sampling import SMOTE\n",
    "\n",
    "from sklearn.model_selection import train_test_split\n",
    "\n",
    "import tensorflow as tf"
   ]
  },
  {
   "cell_type": "markdown",
   "id": "91ef73bf",
   "metadata": {},
   "source": [
    "## Einlesen der Daten"
   ]
  },
  {
   "cell_type": "code",
   "execution_count": null,
   "id": "266e9151",
   "metadata": {},
   "outputs": [],
   "source": [
    "data_url = \"https://github.com/timwgnd/Lehrbuch-Kuenstliche-Intelligenz-in-der-Medizin/raw/refs/heads/main/FraminghamHeartStudy.xlsx\"\n",
    "data = pd.read_excel(io=data_url, sheet_name = \"Tabelle1\")\n",
    "\n",
    "data = data.dropna()\n",
    "\n",
    "data.head()"
   ]
  },
  {
   "cell_type": "code",
   "execution_count": null,
   "id": "7b5aaee1",
   "metadata": {},
   "outputs": [],
   "source": [
    "data_new = pd.get_dummies(data, columns = [\"Geschlecht\"])\n",
    "\n",
    "data_new.head()"
   ]
  },
  {
   "cell_type": "code",
   "execution_count": null,
   "id": "9b025aa7",
   "metadata": {},
   "outputs": [],
   "source": [
    "count_diabetes = data_new[\"Diabetes\"].value_counts()\n",
    "\n",
    "count_diabetes.plot(kind = \"bar\", rot = 0)"
   ]
  },
  {
   "cell_type": "markdown",
   "id": "624b7bbe",
   "metadata": {},
   "source": [
    "## Aufteilung der Daten und Resampling"
   ]
  },
  {
   "cell_type": "code",
   "execution_count": null,
   "id": "28a79fac",
   "metadata": {},
   "outputs": [],
   "source": [
    "x = data_new.iloc[:, [1, 2, 3, 4, 5, 6, 8, 9, 10, 11, 12, 13, 14]]\n",
    "\n",
    "y = data_new.iloc[:, 7]"
   ]
  },
  {
   "cell_type": "code",
   "execution_count": null,
   "id": "a3f41c76",
   "metadata": {},
   "outputs": [],
   "source": [
    "x.head()"
   ]
  },
  {
   "cell_type": "code",
   "execution_count": null,
   "id": "0969f6de",
   "metadata": {},
   "outputs": [],
   "source": [
    "y.head()"
   ]
  },
  {
   "cell_type": "code",
   "execution_count": null,
   "id": "ee103593",
   "metadata": {},
   "outputs": [],
   "source": [
    "x_train, x_test, y_train, y_test = train_test_split(x, y, test_size = 0.15)"
   ]
  },
  {
   "cell_type": "code",
   "execution_count": null,
   "id": "a9926f4b",
   "metadata": {},
   "outputs": [],
   "source": [
    "sm = SMOTE()\n",
    "\n",
    "x_train_res, y_train_res = sm.fit_resample(x_train, y_train)\n",
    "\n",
    "print(y_train_res.value_counts())"
   ]
  },
  {
   "cell_type": "markdown",
   "id": "0580df86",
   "metadata": {},
   "source": [
    "## FCNN-Architektur"
   ]
  },
  {
   "cell_type": "code",
   "execution_count": null,
   "id": "ca68dde9",
   "metadata": {},
   "outputs": [],
   "source": [
    "model = tf.keras.models.Sequential()\n",
    "\n",
    "model.add(tf.keras.layers.Dense(128, activation = tf.nn.relu))\n",
    "model.add(tf.keras.layers.Dense(256, activation = tf.nn.relu))\n",
    "model.add(tf.keras.layers.Dense(128, activation = tf.nn.relu))\n",
    "\n",
    "model.add(tf.keras.layers.Dense(1, activation = tf.nn.sigmoid))"
   ]
  },
  {
   "cell_type": "markdown",
   "id": "71e47f69",
   "metadata": {},
   "source": [
    "## Modelltraining und -evaluation"
   ]
  },
  {
   "cell_type": "code",
   "execution_count": null,
   "id": "e51dbe7f",
   "metadata": {},
   "outputs": [],
   "source": [
    "model.compile(optimizer = \"adam\",\n",
    "              loss = \"binary_crossentropy\",\n",
    "              metrics = \"accuracy\")"
   ]
  },
  {
   "cell_type": "code",
   "execution_count": null,
   "id": "57c21643",
   "metadata": {},
   "outputs": [],
   "source": [
    "\"\"\"\n",
    "tf.keras.optimizers.Adam(\n",
    "    learning_rate = 0.001, \n",
    "    beta_1 = 0.9, \n",
    "    beta_2 = 0.999, \n",
    "    epsilon = 1e-07, \n",
    "    amsgrad = False, \n",
    "    name = \"adam\")\n",
    "\n",
    "tf.keras.losses.BinaryCrossentropy(\n",
    "    from_logits = False,\n",
    "    label_smoothing = 0.0,\n",
    "    axis = -1,\n",
    "    name = \"binary_crossentropy\")\n",
    "\n",
    "tf.keras.metrics.Accuracy(\n",
    "    name = \"accuracy\")\n",
    "\"\"\""
   ]
  },
  {
   "cell_type": "code",
   "execution_count": null,
   "id": "a7a86ad0",
   "metadata": {},
   "outputs": [],
   "source": [
    "model.fit(x_train_res, y_train_res, epochs = 10)"
   ]
  },
  {
   "cell_type": "code",
   "execution_count": null,
   "id": "f0b59430",
   "metadata": {},
   "outputs": [],
   "source": [
    "model.evaluate(x_test, y_test)"
   ]
  }
 ],
 "metadata": {
  "kernelspec": {
   "display_name": "Python 3 (ipykernel)",
   "language": "python",
   "name": "python3"
  },
  "language_info": {
   "codemirror_mode": {
    "name": "ipython",
    "version": 3
   },
   "file_extension": ".py",
   "mimetype": "text/x-python",
   "name": "python",
   "nbconvert_exporter": "python",
   "pygments_lexer": "ipython3",
   "version": "3.9.7"
  }
 },
 "nbformat": 4,
 "nbformat_minor": 5
}
