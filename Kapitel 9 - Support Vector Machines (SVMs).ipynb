{
 "cells": [
  {
   "cell_type": "markdown",
   "id": "f10b6a54",
   "metadata": {},
   "source": [
    "# Support Vector Machines"
   ]
  },
  {
   "cell_type": "markdown",
   "id": "791ee5e9",
   "metadata": {},
   "source": [
    "## Quelle der Daten\n",
    "\n",
    "https://www.kaggle.com/datasets/captainozlem/framingham-chd-preprocessed-data (zuletzt aufgerufen: 01/2024)\n",
    "\n",
    "https://www.framinghamheartstudy.org/ (zuletzt aufgerufen: 01/2024)"
   ]
  },
  {
   "cell_type": "markdown",
   "id": "04130203",
   "metadata": {},
   "source": [
    "## Installation der Bibliotheken"
   ]
  },
  {
   "cell_type": "code",
   "execution_count": null,
   "id": "aa79e439",
   "metadata": {},
   "outputs": [],
   "source": [
    "# Importieren der benötigten Bibliotheken\n",
    "import pandas as pd # Für die Arbeit mit Tabellen/DataFrames\n",
    "\n",
    "import matplotlib.pyplot as plt # Für die Erstellung von Diagrammen und Visualisierungen\n",
    "\n",
    "from imblearn.over_sampling import SMOTE # Für das Resampling unausgeglichener Datensätze\n",
    "\n",
    "from sklearn.model_selection import train_test_split # Für die Aufteilung von Daten in Trainings- und Testsets\n",
    "\n",
    "# Importiere das svm-Modul aus der sklearn-Bibliothek zur Erstellung von Support Vector Machine-Modellen.\n",
    "from sklearn import svm"
   ]
  },
  {
   "cell_type": "markdown",
   "id": "5f6830a0",
   "metadata": {},
   "source": [
    "## Einlesen der Daten"
   ]
  },
  {
   "cell_type": "code",
   "execution_count": null,
   "id": "d77e6c5a",
   "metadata": {},
   "outputs": [],
   "source": [
    "# Definieren der URL der Datenquelle und Laden der Daten in einen pandas DataFrame\n",
    "data_url = \"https://github.com/timwgnd/Lehrbuch-Kuenstliche-Intelligenz-in-der-Medizin/raw/refs/heads/main/FraminghamHeartStudy.xlsx\"\n",
    "data = pd.read_excel(io=data_url, sheet_name = \"Tabelle1\")\n",
    "\n",
    "# Entfernen von Zeilen mit fehlenden Werten\n",
    "data = data.dropna()\n",
    "\n",
    "# Anzeigen der ersten Zeilen des DataFrames, um einen Überblick über die Daten zu erhalten\n",
    "print(data.head().to_markdown(index=False, tablefmt='psql'))"
   ]
  },
  {
   "cell_type": "code",
   "execution_count": null,
   "id": "b5b68d0b",
   "metadata": {},
   "outputs": [],
   "source": [
    "# Erstellen von Dummy-Variablen für die kategoriale Spalte \"Geschlecht\"\n",
    "# Dies wandelt die kategoriale Variable in numerische Variablen um, die für das Modell verwendet werden können\n",
    "data_new = pd.get_dummies(data, columns = [\"Geschlecht\"])\n",
    "\n",
    "# Anzeigen der ersten Zeilen des neuen DataFrames mit den Dummy-Variablen\n",
    "print(data_new.head().to_markdown(index=False, tablefmt='psql'))"
   ]
  },
  {
   "cell_type": "code",
   "execution_count": null,
   "id": "5057b0f1",
   "metadata": {},
   "outputs": [],
   "source": [
    "# Zählen der Häufigkeit der einzelnen Werte in der Spalte \"Diabetes\"\n",
    "count_diabetes = data_new[\"Diabetes\"].value_counts()\n",
    "\n",
    "# Anzeigen der Häufigkeitsauzszählung in Tabellenform\n",
    "print(count_diabetes.to_markdown(tablefmt='psql'))\n",
    "\n",
    "# Erstellen eines Balkendiagramms, das die Verteilung der Werte in der Spalte \"Diabetes\" zeigt\n",
    "count_diabetes.plot(kind = \"bar\", rot = 0)"
   ]
  },
  {
   "cell_type": "markdown",
   "id": "70a80475",
   "metadata": {},
   "source": [
    "## Aufteilung der Daten und Resampling"
   ]
  },
  {
   "cell_type": "code",
   "execution_count": null,
   "id": "c67eb69d",
   "metadata": {},
   "outputs": [],
   "source": [
    "# Auswählen der Feature-Variable(n) (x) und der Zielvariable (y)\n",
    "# Hier wird die Spalte mit Index 13 (\"Blutzucker\") als Feature ausgewählt und in ein 2D-Array umgeformt\n",
    "x = data_new.iloc[:, 13].values.reshape(-1, 1)\n",
    "\n",
    "# Hier wird die Spalte mit Index 7 (\"Diabetes\") als Zielvariable ausgewählt\n",
    "y = data_new.iloc[:, 7]"
   ]
  },
  {
   "cell_type": "code",
   "execution_count": null,
   "id": "8e1d7b67",
   "metadata": {},
   "outputs": [],
   "source": [
    "# Anzeigen der Feature-Variable x\n",
    "print(x)"
   ]
  },
  {
   "cell_type": "code",
   "execution_count": null,
   "id": "3a3a6966",
   "metadata": {},
   "outputs": [],
   "source": [
    "# Anzeigen der Zielvariable y\n",
    "print(y)"
   ]
  },
  {
   "cell_type": "code",
   "execution_count": null,
   "id": "23f5e154",
   "metadata": {},
   "outputs": [],
   "source": [
    "# Aufteilen der Daten in Trainings- und Testsets\n",
    "# test_size = 0.15 bedeutet, dass 15% der Daten für das Testset verwendet werden\n",
    "x_train, x_test, y_train, y_test = train_test_split(x, y, test_size = 0.15)"
   ]
  },
  {
   "cell_type": "code",
   "execution_count": null,
   "id": "655fd033",
   "metadata": {},
   "outputs": [],
   "source": [
    "# Initialisieren des SMOTE-Objekts für Over-Sampling\n",
    "sm = SMOTE()\n",
    "\n",
    "# Anwenden von SMOTE auf die Trainingsdaten, um die Anzahl der Instanzen der Minderheitenklasse zu erhöhen\n",
    "x_train_res, y_train_res = sm.fit_resample(x_train, y_train)\n",
    "\n",
    "# Anzeigen der Verteilung der Zielvariablen im resampelten Trainingsset, um den Effekt von SMOTE zu sehen\n",
    "print(y_train_res.value_counts().to_markdown(tablefmt='psql'))"
   ]
  },
  {
   "cell_type": "markdown",
   "id": "7eb69443",
   "metadata": {},
   "source": [
    "## SVC-Modell"
   ]
  },
  {
   "cell_type": "code",
   "execution_count": null,
   "id": "ab137d11",
   "metadata": {},
   "outputs": [],
   "source": [
    "# Erstellt ein SVC-Objekt (Support Vector Classifier) mit einem linearen Kernel.\n",
    "svc = svm.SVC(kernel = \"linear\")\n",
    "\n",
    "# Trainiert das SVC-Modell mit den resampleten Trainingsdaten.\n",
    "svc.fit(x_train_res, y_train_res)\n",
    "\n",
    "# Berechnet die Genauigkeit des Modells auf den Testdaten.\n",
    "svc.score(x_test, y_test)"
   ]
  },
  {
   "cell_type": "code",
   "execution_count": null,
   "id": "d503b828",
   "metadata": {},
   "outputs": [],
   "source": [
    "# Verwende das trainierte SVC-Modell, um Vorhersagen auf den Testdaten (x_test) zu treffen.\n",
    "predictions = svc.predict(x_test)\n",
    "\n",
    "# Erstelle einen Pandas DataFrame namens 'results_df', um die tatsächlichen Labels (y_test) und die\n",
    "# Modellvorhersagen (predictions) zu speichern.\n",
    "# Das Dictionary definiert die Spaltennamen: \"Label\" für die tatsächlichen Werte und\n",
    "# \"Modell-Ausgabe\" für die Vorhersagen.\n",
    "results_df = pd.DataFrame({\"Label\": y_test, \"Modell-Ausgabe\": predictions})\n",
    "\n",
    "# Gib den DataFrame 'results_df' im Markdown-Format aus, wobei 'index=False' die Indexspalte unterdrückt\n",
    "# und 'tablefmt='psql'' das Format für eine PostgreSQL-ähnliche Tabelle festlegt.\n",
    "print(results_df.head().to_markdown(index=False, tablefmt='psql'))"
   ]
  },
  {
   "cell_type": "code",
   "execution_count": null,
   "id": "7ff1c390",
   "metadata": {},
   "outputs": [],
   "source": [
    "# Erstellt ein SVC-Objekt (Support Vector Classifier) mit einem polynomialen Kernel und dem Grad 3.\n",
    "svc_2 = svm.SVC(kernel = \"poly\", degree = 3)\n",
    "\n",
    "# Trainiert das SVC-Modell mit den resampleten Trainingsdaten.\n",
    "svc_2.fit(x_train_res, y_train_res)\n",
    "\n",
    "# Berechnet die Genauigkeit des Modells auf den Testdaten.\n",
    "svc_2.score(x_test, y_test)"
   ]
  },
  {
   "cell_type": "code",
   "execution_count": null,
   "id": "c16dadcb",
   "metadata": {},
   "outputs": [],
   "source": [
    "# Erstellt ein SVC-Objekt (Support Vector Classifier) mit einem RBF (Radial Basis Function) Kernel.\n",
    "svc_3 = svm.SVC(kernel = \"rbf\")\n",
    "\n",
    "# Trainiert das SVC-Modell mit den resampleten Trainingsdaten (x_train_res, y_train_res).\n",
    "svc_3.fit(x_train_res, y_train_res)\n",
    "\n",
    "# Berechnet die Genauigkeit (accuracy) des trainierten SVC-Modells auf den Testdaten (x_test, y_test).\n",
    "svc_3.score(x_test, y_test)"
   ]
  },
  {
   "cell_type": "markdown",
   "id": "65b7a0c9",
   "metadata": {},
   "source": [
    "## SVR-Modell"
   ]
  },
  {
   "cell_type": "code",
   "execution_count": null,
   "id": "8c10b7c3",
   "metadata": {},
   "outputs": [],
   "source": [
    "# Wähle die Spalten 1, 2, 3, 4, 5, 6, 7, 8, 11, 12, 13 und 14 aus dem DataFrame 'data_new' aus und\n",
    "# speichere sie in der Variablen 'x'.\n",
    "# 'x' repräsentiert die Features (unabhängigen Variablen) für das Modell.\n",
    "x = data_new.iloc[:, [1, 2, 3, 4, 5, 6, 7, 8, 11, 12, 13, 14]]\n",
    "\n",
    "# Wähle die Spalte 7 aus dem DataFrame 'data_new' aus und speichere sie in der Variablen 'y'.\n",
    "# 'y' repräsentiert die Zielvariable (abhängige Variable), welche wir vorhersagen möchten.\n",
    "y = data_new.iloc[:, 7]\n",
    "\n",
    "# Teile den Datensatz in Trainings- und Testmengen auf. 'x' und 'y' sind die Datensätze, die aufgeteilt werden sollen.\n",
    "# 'test_size = 0.15' bedeutet, dass 15% der Daten für den Testdatensatz verwendet werden,\n",
    "# während der Rest für das Training verwendet wird.\n",
    "# Die Funktion gibt Trainings- und Testdatensätze für sowohl die Features\n",
    "# ('x_train', 'x_test') als auch die Zielvariable ('y_train', 'y_test') zurück.\n",
    "x_train, x_test, y_train, y_test = train_test_split(x, y, test_size = 0.15)"
   ]
  },
  {
   "cell_type": "code",
   "execution_count": null,
   "id": "175a2e22",
   "metadata": {},
   "outputs": [],
   "source": [
    "# Erstellt ein SVR-Objekt (Support Vector Regression) mit einem linearen Kernel.\n",
    "svr = svm.SVR(kernel = \"linear\")\n",
    "\n",
    "# Trainiert das SVR-Modell mit den Trainingsdaten.\n",
    "svr.fit(x_train, y_train)\n",
    "\n",
    "# Berechnet die Genauigkeit des Modells auf den Testdaten.\n",
    "svr.score(x_test, y_test)"
   ]
  }
 ],
 "metadata": {
  "kernelspec": {
   "display_name": "Python 3 (ipykernel)",
   "language": "python",
   "name": "python3"
  },
  "language_info": {
   "codemirror_mode": {
    "name": "ipython",
    "version": 3
   },
   "file_extension": ".py",
   "mimetype": "text/x-python",
   "name": "python",
   "nbconvert_exporter": "python",
   "pygments_lexer": "ipython3",
   "version": "3.9.7"
  }
 },
 "nbformat": 4,
 "nbformat_minor": 5
}
