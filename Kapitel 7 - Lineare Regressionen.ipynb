{
 "cells": [
  {
   "cell_type": "markdown",
   "id": "19c93daa",
   "metadata": {},
   "source": [
    "# Lineare Regressionen"
   ]
  },
  {
   "cell_type": "markdown",
   "id": "ee3512f0",
   "metadata": {},
   "source": [
    "## Quelle der Daten\n",
    "\n",
    "https://www.kaggle.com/datasets/captainozlem/framingham-chd-preprocessed-data (zuletzt aufgerufen: 01/2024)\n",
    "\n",
    "https://www.framinghamheartstudy.org/ (zuletzt aufgerufen: 01/2024)"
   ]
  },
  {
   "cell_type": "markdown",
   "id": "260a58c8",
   "metadata": {},
   "source": [
    "## Installation der Bibliotheken"
   ]
  },
  {
   "cell_type": "code",
   "execution_count": null,
   "id": "e7896afd",
   "metadata": {},
   "outputs": [],
   "source": [
    "import pandas as pd\n",
    "\n",
    "import numpy as np\n",
    "\n",
    "from numpy.ma.core import mean\n",
    "\n",
    "import matplotlib.pyplot as plt\n",
    "\n",
    "from sklearn.model_selection import train_test_split\n",
    "\n",
    "from sklearn.linear_model import LinearRegression\n",
    "\n",
    "from sklearn.metrics import r2_score"
   ]
  },
  {
   "cell_type": "markdown",
   "id": "e4c0af2f",
   "metadata": {},
   "source": [
    "## Einlesen und Aufteilung der Daten "
   ]
  },
  {
   "cell_type": "code",
   "execution_count": null,
   "id": "c6892c1b",
   "metadata": {},
   "outputs": [],
   "source": [
    "data_url = \"https://github.com/timwgnd/Lehrbuch-Kuenstliche-Intelligenz-in-der-Medizin/raw/refs/heads/main/FraminghamHeartStudy.xlsx\"\n",
    "data = pd.read_excel(io=data_url, sheet_name = \"Tabelle1\")\n",
    "\n",
    "data = data.dropna()\n",
    "\n",
    "data.head()"
   ]
  },
  {
   "cell_type": "code",
   "execution_count": null,
   "id": "36d79bb5",
   "metadata": {},
   "outputs": [],
   "source": [
    "data_new = pd.get_dummies(data, columns = [\"Geschlecht\"])\n",
    "\n",
    "data_new.head()"
   ]
  },
  {
   "cell_type": "code",
   "execution_count": null,
   "id": "ddaab79f",
   "metadata": {},
   "outputs": [],
   "source": [
    "x = data_new.iloc[:, 11]\n",
    "\n",
    "y = data_new.iloc[:, 9]"
   ]
  },
  {
   "cell_type": "code",
   "execution_count": null,
   "id": "0c190649",
   "metadata": {},
   "outputs": [],
   "source": [
    "x.head()"
   ]
  },
  {
   "cell_type": "code",
   "execution_count": null,
   "id": "6ae595a2",
   "metadata": {},
   "outputs": [],
   "source": [
    "y.head()"
   ]
  },
  {
   "cell_type": "markdown",
   "id": "64c03a2c",
   "metadata": {},
   "source": [
    "## Berechnung der Regressionsgerade"
   ]
  },
  {
   "cell_type": "code",
   "execution_count": null,
   "id": "b7a73b90",
   "metadata": {},
   "outputs": [],
   "source": [
    "plt.xlabel(\"BMI\")\n",
    "plt.ylabel(\"Systolischer Blutdruck\")\n",
    "plt.scatter(x, y, c = \"royalblue\")"
   ]
  },
  {
   "cell_type": "code",
   "execution_count": null,
   "id": "b9957a2f",
   "metadata": {
    "scrolled": true
   },
   "outputs": [],
   "source": [
    "plt.xlabel(\"BMI\")\n",
    "plt.ylabel(\"Systolischer Blutdruck\")\n",
    "plt.scatter(x, y, c = \"lightgrey\")\n",
    "\n",
    "xy_mean = mean(x * y)\n",
    "\n",
    "m = (xy_mean - mean(x) * mean(y)) / ((mean(x**2)) - ((mean(x)**2)))\n",
    "t = mean(y) - m * mean(x)\n",
    "\n",
    "plt.plot(x, m * x + t)\n",
    "\n",
    "print(\"f(x) =\", m, \"* x +\", t)"
   ]
  },
  {
   "cell_type": "code",
   "execution_count": null,
   "id": "af4bddbc",
   "metadata": {},
   "outputs": [],
   "source": [
    "bmi = int(input(\"Wie lautet der BMI (in kg/m²)? \"))\n",
    "\n",
    "syst = 1.7808402593844028 * bmi + 86.48413789669307\n",
    "\n",
    "print(\"Der vorhergesagte systolische Blutdruck lautet:\", syst, \"mmHg\")"
   ]
  },
  {
   "cell_type": "markdown",
   "id": "7647295a",
   "metadata": {},
   "source": [
    "## Multiple lineare Regression"
   ]
  },
  {
   "cell_type": "code",
   "execution_count": null,
   "id": "f169111b",
   "metadata": {},
   "outputs": [],
   "source": [
    "x = data_new.iloc[:, [11]]\n",
    "\n",
    "y = data_new.iloc[:, 9]\n",
    "\n",
    "x_train, x_test, y_train, y_test = train_test_split(x, y, test_size = 0.15)"
   ]
  },
  {
   "cell_type": "code",
   "execution_count": null,
   "id": "ebafe403",
   "metadata": {},
   "outputs": [],
   "source": [
    "model_1 = LinearRegression()\n",
    "\n",
    "model_1.fit(x_train, y_train)\n",
    "\n",
    "y_pred_1 = model_1.predict(x_test)"
   ]
  },
  {
   "cell_type": "code",
   "execution_count": null,
   "id": "ef23c0e8",
   "metadata": {},
   "outputs": [],
   "source": [
    "r2 = r2_score(y_test, y_pred_1)\n",
    "\n",
    "print(\"R²:\", r2)"
   ]
  },
  {
   "cell_type": "code",
   "execution_count": null,
   "id": "c8422fcc",
   "metadata": {},
   "outputs": [],
   "source": [
    "x = data_new.iloc[:, [1, 2, 3, 4, 5, 6, 7, 8, 11, 12, 13, 14]]\n",
    "\n",
    "y = data_new.iloc[:, 9]\n",
    "\n",
    "x_train, x_test, y_train, y_test = train_test_split(x, y, test_size = 0.15)"
   ]
  },
  {
   "cell_type": "code",
   "execution_count": null,
   "id": "06462093",
   "metadata": {},
   "outputs": [],
   "source": [
    "model_2 = LinearRegression()\n",
    "\n",
    "model_2.fit(x_train, y_train)\n",
    "\n",
    "y_pred_2 = model_2.predict(x_test)"
   ]
  },
  {
   "cell_type": "code",
   "execution_count": null,
   "id": "ef718afd",
   "metadata": {},
   "outputs": [],
   "source": [
    "r2 = r2_score(y_test, y_pred_2)\n",
    "\n",
    "print(\"R²:\", r2)"
   ]
  }
 ],
 "metadata": {
  "kernelspec": {
   "display_name": "Python 3 (ipykernel)",
   "language": "python",
   "name": "python3"
  },
  "language_info": {
   "codemirror_mode": {
    "name": "ipython",
    "version": 3
   },
   "file_extension": ".py",
   "mimetype": "text/x-python",
   "name": "python",
   "nbconvert_exporter": "python",
   "pygments_lexer": "ipython3",
   "version": "3.9.7"
  }
 },
 "nbformat": 4,
 "nbformat_minor": 5
}
