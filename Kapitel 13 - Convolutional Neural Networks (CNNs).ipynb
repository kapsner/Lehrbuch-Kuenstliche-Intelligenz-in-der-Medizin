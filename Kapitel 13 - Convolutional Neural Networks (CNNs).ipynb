{
  "cells": [
    {
      "cell_type": "markdown",
      "id": "c3b7a2cf",
      "metadata": {
        "id": "c3b7a2cf"
      },
      "source": [
        "# Convolutional Neural Networks (CNNs)"
      ]
    },
    {
      "cell_type": "markdown",
      "id": "4ab2791d",
      "metadata": {
        "id": "4ab2791d"
      },
      "source": [
        "## Quelle der Daten\n",
        "\n",
        "https://www.kaggle.com/datasets/tawsifurrahman/covid19-radiography-database?resource=download (zuletzt aufgerufen 01/2024)\n",
        "    \n",
        "M.E.H. Chowdhury, T. Rahman, A. Khandakar, R. Mazhar, M.A. Kadir, Z.B. Mahbub, K.R. Islam, M.S. Khan, A. Iqbal, N. Al-Emadi, M.B.I. Reaz, M. T. Islam, “Can AI help in screening Viral and COVID-19 pneumonia?” IEEE Access, Vol. 8, 2020, pp. 132665 - 132676.\n",
        "\n",
        "Rahman, T., Khandakar, A., Qiblawey, Y., Tahir, A., Kiranyaz, S., Kashem, S.B.A., Islam, M.T., Maadeed, S.A., Zughaier, S.M., Khan, M.S. and Chowdhury, M.E., 2020. Exploring the Effect of Image Enhancement Techniques on COVID-19 Detection using Chest X-ray Images."
      ]
    },
    {
      "cell_type": "markdown",
      "id": "c639378f",
      "metadata": {
        "id": "c639378f"
      },
      "source": [
        "## Installation der Bibliotheken"
      ]
    },
    {
      "cell_type": "code",
      "execution_count": null,
      "id": "4aebd8c2",
      "metadata": {
        "id": "4aebd8c2"
      },
      "outputs": [],
      "source": [
        "# Bibliotheken importieren, die für das Laden, Vorverarbeiten und Modellieren der Daten benötigt werden.\n",
        "import os\n",
        "\n",
        "import cv2\n",
        "\n",
        "import matplotlib.pyplot as plt\n",
        "\n",
        "import numpy as np\n",
        "\n",
        "from sklearn.model_selection import train_test_split\n",
        "\n",
        "import tensorflow as tf\n",
        "\n",
        "from tensorflow.keras.models import Sequential\n",
        "\n",
        "from tensorflow.keras.layers import Conv2D, MaxPooling2D, Flatten, Dense\n",
        "\n",
        "import requests\n",
        "\n",
        "import tempfile\n",
        "\n",
        "import shutil"
      ]
    },
    {
      "cell_type": "markdown",
      "id": "656dfbec",
      "metadata": {
        "id": "656dfbec"
      },
      "source": [
        "## Download der Daten"
      ]
    },
    {
      "cell_type": "code",
      "execution_count": null,
      "id": "09b0e808",
      "metadata": {
        "id": "09b0e808"
      },
      "outputs": [],
      "source": [
        "# URL des Datensatzes festlegen und temporäres Verzeichnis für den Download erstellen.\n",
        "# load dataset from online resource, given here: https://www.kaggle.com/datasets/tawsifurrahman/covid19-radiography-database\n",
        "ds_url = \"https://drive.usercontent.google.com/download?id=1bum9Sehb3AzUMHLhBMuowPKyr_PCrB3a&export=download&confirm=1\"\n",
        "temp_dir = tempfile.mkdtemp()\n",
        "print(f\"Temporary file-directory for saving dataset: '{temp_dir}'\\n\")"
      ]
    },
    {
      "cell_type": "code",
      "execution_count": null,
      "id": "a85fbbd9",
      "metadata": {
        "id": "a85fbbd9"
      },
      "outputs": [],
      "source": [
        "# for downloading from google-drive, use method described\n",
        "# elsewhere (https://stackoverflow.com/a/39225272)\n",
        "# with some modifications\n",
        "\n",
        "def download_file_from_google_drive(URL, destination_dir):\n",
        "    # Funktion zum Herunterladen einer Datei von Google Drive\n",
        "    session = requests.Session()\n",
        "\n",
        "    response = session.get(URL, stream=True)\n",
        "    token = get_confirm_token(response)\n",
        "\n",
        "    if token:\n",
        "        params = {\"confirm\": token}\n",
        "        response = session.get(URL, params=params, stream=True)\n",
        "\n",
        "    save_response_content(response, destination_dir)\n",
        "\n",
        "\n",
        "def get_confirm_token(response):\n",
        "    # Funktion zum Abrufen des Bestätigungstokens für den Download\n",
        "    for key, value in response.cookies.items():\n",
        "        if key.startswith(\"download_warning\"):\n",
        "            return value\n",
        "\n",
        "    return None\n",
        "\n",
        "\n",
        "def save_response_content(response, destination_dir):\n",
        "    # Funktion zum Speichern des Dateiinhaltes\n",
        "    CHUNK_SIZE = 32768\n",
        "\n",
        "    with open(destination_dir + \"/data.zip\", \"wb\") as f:\n",
        "        for chunk in response.iter_content(CHUNK_SIZE):\n",
        "            if chunk:  # filter out keep-alive new chunks\n",
        "                f.write(chunk)\n",
        "\n",
        "# Die Datei von Google Drive herunterladen\n",
        "download_file_from_google_drive(ds_url, temp_dir)\n",
        "\n",
        "print(\"Folder structure inside 'tempdir':\\n\")\n",
        "print(os.listdir(temp_dir))"
      ]
    },
    {
      "cell_type": "code",
      "execution_count": null,
      "id": "70c09287",
      "metadata": {
        "id": "70c09287"
      },
      "outputs": [],
      "source": [
        "# Entpacken der heruntergeladenen Zip-Datei\n",
        "shutil.unpack_archive(filename=temp_dir + \"/data.zip\", extract_dir=temp_dir)\n",
        "print(\"Folder structure inside 'tempdir':\\n\")\n",
        "print(os.listdir(temp_dir))"
      ]
    },
    {
      "cell_type": "markdown",
      "id": "313d3373",
      "metadata": {
        "id": "313d3373"
      },
      "source": [
        "## Einlesen und Präprozessierung der Daten"
      ]
    },
    {
      "cell_type": "code",
      "execution_count": null,
      "id": "92e851e4",
      "metadata": {
        "id": "92e851e4"
      },
      "outputs": [],
      "source": [
        "# Pfade zu den Bilderverzeichnissen festlegen und Anzahl der Bilder ausgeben\n",
        "main_path = temp_dir + \"/COVID-19_Radiography_Dataset\"\n",
        "print(os.listdir(main_path))\n",
        "\n",
        "covid_dir = os.path.join(main_path, \"COVID/images\")\n",
        "normal_dir = os.path.join(main_path, \"Normal/images\")\n",
        "\n",
        "print(\"Anzahl Bilder mit COVID:\", len(os.listdir(covid_dir)))\n",
        "print(\"Anzahl normaler Bilder:\", len(os.listdir(normal_dir)))"
      ]
    },
    {
      "cell_type": "code",
      "execution_count": null,
      "id": "4153109b",
      "metadata": {
        "id": "4153109b"
      },
      "outputs": [],
      "source": [
        "# Beispielbild laden und anzeigen\n",
        "example_image = cv2.imread(os.path.join(covid_dir, \"COVID-1.png\"))\n",
        "\n",
        "plt.imshow(example_image)"
      ]
    },
    {
      "cell_type": "code",
      "execution_count": null,
      "id": "51eb1ed8",
      "metadata": {
        "id": "51eb1ed8"
      },
      "outputs": [],
      "source": [
        "# Form des Beispielbildes ausgeben\n",
        "print(example_image.shape)"
      ]
    },
    {
      "cell_type": "code",
      "execution_count": null,
      "id": "b4f4b45c",
      "metadata": {
        "id": "b4f4b45c"
      },
      "outputs": [],
      "source": [
        "# Funktion zum Laden und Vorverarbeiten von Bildern aus einem Verzeichnis\n",
        "def loadImages(dir, size, label):\n",
        "  images = []\n",
        "  labels = []\n",
        "\n",
        "  for i in range(len(size)):\n",
        "    img_path = dir + \"/\" + size[i]\n",
        "    img = cv2.imread(img_path)\n",
        "    img = img / 255.0\n",
        "    img = cv2.resize(img, (100, 100))\n",
        "    images.append(img)\n",
        "    labels.append(label)\n",
        "\n",
        "  images = np.asarray(images)\n",
        "\n",
        "  return images, labels"
      ]
    },
    {
      "cell_type": "code",
      "execution_count": null,
      "id": "3d9b7f30",
      "metadata": {
        "id": "3d9b7f30"
      },
      "outputs": [],
      "source": [
        "# Laden und Beschriften von COVID-Bildern (10% des Datensatzes)\n",
        "# (kann bei Bedarf / je nach Verfügbarkeit der Ressourcen angepasst werden)\n",
        "covid_images, covid_labels = loadImages(covid_dir, os.listdir(covid_dir)[:int(0.1*len(os.listdir(covid_dir)))], 1)\n",
        "print(\"Covid cases:\\n\")\n",
        "print(len(covid_images), len(covid_labels))"
      ]
    },
    {
      "cell_type": "code",
      "execution_count": null,
      "id": "7Kkj__URuvlP",
      "metadata": {
        "id": "7Kkj__URuvlP"
      },
      "outputs": [],
      "source": [
        "# Ausgabe der ersten 10 Covid-Labels\n",
        "print(covid_labels[0:10])"
      ]
    },
    {
      "cell_type": "code",
      "execution_count": null,
      "id": "1cbe76fd",
      "metadata": {
        "id": "1cbe76fd"
      },
      "outputs": [],
      "source": [
        "# Laden und Beschriften von normalen Bildern (10% des Datensatzes)\n",
        "# (kann bei Bedarf / je nach Verfügbarkeit der Ressourcen angepasst werden)\n",
        "normal_images, normal_labels = loadImages(normal_dir, os.listdir(normal_dir)[:int(0.1*len(os.listdir(normal_dir)))], 0)\n",
        "print(\"Normal cases:\\n\")\n",
        "print(len(normal_images), len(normal_labels))"
      ]
    },
    {
      "cell_type": "code",
      "execution_count": null,
      "id": "KGEjnnSxunKH",
      "metadata": {
        "id": "KGEjnnSxunKH"
      },
      "outputs": [],
      "source": [
        "# Ausgabe der ersten 10 Labels von normalen Fällen\n",
        "print(normal_labels[0:10])"
      ]
    },
    {
      "cell_type": "markdown",
      "id": "199347f2",
      "metadata": {
        "id": "199347f2"
      },
      "source": [
        "## Aufteilung der Daten"
      ]
    },
    {
      "cell_type": "code",
      "execution_count": null,
      "id": "2460adde",
      "metadata": {
        "id": "2460adde"
      },
      "outputs": [],
      "source": [
        "# Kombinieren der COVID- und normalen Bilddaten und Labels\n",
        "x = np.r_[covid_images, normal_images]\n",
        "\n",
        "y = np.r_[covid_labels, normal_labels]"
      ]
    },
    {
      "cell_type": "code",
      "execution_count": null,
      "id": "04e37895",
      "metadata": {
        "id": "04e37895"
      },
      "outputs": [],
      "source": [
        "# Aufteilen der Daten in Trainings- und Testsets\n",
        "x_train, x_test, y_train, y_test = train_test_split(x, y, test_size = 0.15)"
      ]
    },
    {
      "cell_type": "markdown",
      "id": "27b2bbd2",
      "metadata": {
        "id": "27b2bbd2"
      },
      "source": [
        "## CNN-Architektur"
      ]
    },
    {
      "cell_type": "code",
      "execution_count": null,
      "id": "2856a5ad",
      "metadata": {
        "id": "2856a5ad"
      },
      "outputs": [],
      "source": [
        "# Form des ersten Testbildes ausgeben\n",
        "print(x_test[0].shape)"
      ]
    },
    {
      "cell_type": "code",
      "execution_count": null,
      "id": "fc5b14bb",
      "metadata": {
        "id": "fc5b14bb"
      },
      "outputs": [],
      "source": [
        "# Erstellen und Zusammenfassen der CNN-Modellarchitektur\n",
        "model = Sequential()\n",
        "\n",
        "model.add(Conv2D(32, 3, input_shape = (100, 100, 3), activation = \"relu\"))\n",
        "model.add(MaxPooling2D())\n",
        "\n",
        "model.add(Conv2D(16, 3, activation = \"relu\"))\n",
        "model.add(MaxPooling2D())\n",
        "\n",
        "model.add(Conv2D(16, 3, activation = \"relu\"))\n",
        "model.add(MaxPooling2D())\n",
        "\n",
        "model.add(Flatten())\n",
        "model.add(Dense(512, activation = \"relu\"))\n",
        "model.add(Dense(256, activation = \"relu\"))\n",
        "model.add(Dense(1, activation = \"sigmoid\"))\n",
        "\n",
        "model.summary()"
      ]
    },
    {
      "cell_type": "markdown",
      "id": "7bae66b7",
      "metadata": {
        "id": "7bae66b7"
      },
      "source": [
        "## Modelltraining und -evaluation"
      ]
    },
    {
      "cell_type": "code",
      "execution_count": null,
      "id": "92c0933c",
      "metadata": {
        "id": "92c0933c"
      },
      "outputs": [],
      "source": [
        "# Kompilieren des Modells mit Optimizer, Verlustfunktion und Metriken\n",
        "model.compile(optimizer = \"adam\",\n",
        "              loss = \"binary_crossentropy\",\n",
        "              metrics = [\"accuracy\"])"
      ]
    },
    {
      "cell_type": "code",
      "execution_count": null,
      "id": "241132b5",
      "metadata": {
        "id": "241132b5"
      },
      "outputs": [],
      "source": [
        "# Trainieren des Modells (für 5 Epochen; kann bei Bedarf /\n",
        "# je nach Verfügbarkeit von Ressourcen angepasst werden)\n",
        "model.fit(x_train, y_train,\n",
        "          batch_size = 32, epochs = 5,\n",
        "          validation_data = (x_test, y_test))"
      ]
    },
    {
      "cell_type": "code",
      "execution_count": null,
      "id": "f69e3a21",
      "metadata": {
        "id": "f69e3a21"
      },
      "outputs": [],
      "source": [
        "# Plotten der Trainings- und Testgenauigkeit\n",
        "plt.plot(model.history.history[\"accuracy\"], label = \"train_accuracy\")\n",
        "plt.plot(model.history.history[\"val_accuracy\"], label = \"test_accuracy\")\n",
        "plt.legend()\n",
        "plt.show()"
      ]
    },
    {
      "cell_type": "code",
      "execution_count": null,
      "id": "a202f0f3",
      "metadata": {},
      "outputs": [],
      "source": [
        "# Evaluieren des Modells auf den Testdaten\n",
        "eval_results = model.evaluate(x_test, y_test)\n",
        "print(\"[test loss, test accuracy]:\", eval_results)"
      ]
    },
    {
      "cell_type": "code",
      "execution_count": null,
      "id": "3055d923",
      "metadata": {
        "id": "3055d923"
      },
      "outputs": [],
      "source": [
        "# Vorhersagen mit dem Modell treffen und in binäre Klassen umwandeln\n",
        "y_pred = model.predict(x_test)\n",
        "\n",
        "y_pred_bin = (y_pred > 0.5).astype(int)"
      ]
    },
    {
      "cell_type": "code",
      "execution_count": null,
      "id": "fd4dace2",
      "metadata": {
        "id": "fd4dace2"
      },
      "outputs": [],
      "source": [
        "# Ausgabe von Beispielbildern inklusive vorhergesagtem Label\n",
        "\n",
        "def prediction_to_class(prediction: int):\n",
        "  return \"Covid\" if prediction == 0 else \"normal\"\n",
        "\n",
        "\n",
        "for i in range(len(x_test)):\n",
        "  plt.figure()\n",
        "  plt.imshow(x_test[i])\n",
        "  plt.title(f\"Ground-Truth: {prediction_to_class(y_test[i])}, Prediction: {prediction_to_class(y_pred_bin[i])}\")\n",
        "  plt.show()"
      ]
    }
  ],
  "metadata": {
    "colab": {
      "provenance": []
    },
    "kernelspec": {
      "display_name": "Python 3 (ipykernel)",
      "language": "python",
      "name": "python3"
    },
    "language_info": {
      "codemirror_mode": {
        "name": "ipython",
        "version": 3
      },
      "file_extension": ".py",
      "mimetype": "text/x-python",
      "name": "python",
      "nbconvert_exporter": "python",
      "pygments_lexer": "ipython3",
      "version": "3.9.7"
    }
  },
  "nbformat": 4,
  "nbformat_minor": 5
}
