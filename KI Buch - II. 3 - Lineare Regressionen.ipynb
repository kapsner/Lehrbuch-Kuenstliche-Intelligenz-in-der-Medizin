{
 "cells": [
  {
   "cell_type": "markdown",
   "id": "19c93daa",
   "metadata": {},
   "source": [
    "# Lineare Regressionen"
   ]
  },
  {
   "cell_type": "markdown",
   "id": "ee3512f0",
   "metadata": {},
   "source": [
    "## Quelle der Daten\n",
    "\n",
    "https://www.kaggle.com/datasets/captainozlem/framingham-chd-preprocessed-data (zuletzt aufgerufen: 01/2024)\n",
    "\n",
    "https://www.framinghamheartstudy.org/ (zuletzt aufgerufen: 01/2024)"
   ]
  },
  {
   "cell_type": "markdown",
   "id": "260a58c8",
   "metadata": {},
   "source": [
    "## Installation der Bibliotheken"
   ]
  },
  {
   "cell_type": "code",
   "execution_count": 1,
   "id": "e7896afd",
   "metadata": {},
   "outputs": [],
   "source": [
    "import pandas as pd\n",
    "\n",
    "import numpy as np\n",
    "\n",
    "from numpy.ma.core import mean\n",
    "\n",
    "import matplotlib.pyplot as plt\n",
    "\n",
    "from sklearn.model_selection import train_test_split\n",
    "\n",
    "from sklearn.linear_model import LinearRegression\n",
    "\n",
    "from sklearn.metrics import r2_score"
   ]
  },
  {
   "cell_type": "markdown",
   "id": "e4c0af2f",
   "metadata": {},
   "source": [
    "## Einlesen und Aufteilung der Daten "
   ]
  },
  {
   "cell_type": "code",
   "execution_count": 2,
   "id": "c6892c1b",
   "metadata": {},
   "outputs": [
    {
     "data": {
      "text/html": [
       "<div>\n",
       "<style scoped>\n",
       "    .dataframe tbody tr th:only-of-type {\n",
       "        vertical-align: middle;\n",
       "    }\n",
       "\n",
       "    .dataframe tbody tr th {\n",
       "        vertical-align: top;\n",
       "    }\n",
       "\n",
       "    .dataframe thead th {\n",
       "        text-align: right;\n",
       "    }\n",
       "</style>\n",
       "<table border=\"1\" class=\"dataframe\">\n",
       "  <thead>\n",
       "    <tr style=\"text-align: right;\">\n",
       "      <th></th>\n",
       "      <th>ZehnJahreKHK</th>\n",
       "      <th>Geschlecht</th>\n",
       "      <th>Alter</th>\n",
       "      <th>Raucher</th>\n",
       "      <th>ZigProTag</th>\n",
       "      <th>BDMedikamente</th>\n",
       "      <th>Schlaganfall</th>\n",
       "      <th>ArtHypertonie</th>\n",
       "      <th>Diabetes</th>\n",
       "      <th>GesCholesterin</th>\n",
       "      <th>Systolisch</th>\n",
       "      <th>Diastolisch</th>\n",
       "      <th>BMI</th>\n",
       "      <th>Herzfrequenz</th>\n",
       "      <th>Blutzucker</th>\n",
       "    </tr>\n",
       "  </thead>\n",
       "  <tbody>\n",
       "    <tr>\n",
       "      <th>1</th>\n",
       "      <td>0</td>\n",
       "      <td>M</td>\n",
       "      <td>39</td>\n",
       "      <td>0</td>\n",
       "      <td>0.0</td>\n",
       "      <td>0.0</td>\n",
       "      <td>0</td>\n",
       "      <td>0</td>\n",
       "      <td>0</td>\n",
       "      <td>195.0</td>\n",
       "      <td>106</td>\n",
       "      <td>70</td>\n",
       "      <td>27.0</td>\n",
       "      <td>80.0</td>\n",
       "      <td>77.0</td>\n",
       "    </tr>\n",
       "    <tr>\n",
       "      <th>2</th>\n",
       "      <td>0</td>\n",
       "      <td>W</td>\n",
       "      <td>46</td>\n",
       "      <td>0</td>\n",
       "      <td>0.0</td>\n",
       "      <td>0.0</td>\n",
       "      <td>0</td>\n",
       "      <td>0</td>\n",
       "      <td>0</td>\n",
       "      <td>250.0</td>\n",
       "      <td>121</td>\n",
       "      <td>81</td>\n",
       "      <td>29.0</td>\n",
       "      <td>95.0</td>\n",
       "      <td>76.0</td>\n",
       "    </tr>\n",
       "    <tr>\n",
       "      <th>3</th>\n",
       "      <td>0</td>\n",
       "      <td>M</td>\n",
       "      <td>48</td>\n",
       "      <td>1</td>\n",
       "      <td>20.0</td>\n",
       "      <td>0.0</td>\n",
       "      <td>0</td>\n",
       "      <td>0</td>\n",
       "      <td>0</td>\n",
       "      <td>245.0</td>\n",
       "      <td>128</td>\n",
       "      <td>80</td>\n",
       "      <td>25.0</td>\n",
       "      <td>75.0</td>\n",
       "      <td>70.0</td>\n",
       "    </tr>\n",
       "    <tr>\n",
       "      <th>4</th>\n",
       "      <td>1</td>\n",
       "      <td>W</td>\n",
       "      <td>61</td>\n",
       "      <td>1</td>\n",
       "      <td>30.0</td>\n",
       "      <td>0.0</td>\n",
       "      <td>0</td>\n",
       "      <td>1</td>\n",
       "      <td>0</td>\n",
       "      <td>225.0</td>\n",
       "      <td>150</td>\n",
       "      <td>95</td>\n",
       "      <td>29.0</td>\n",
       "      <td>65.0</td>\n",
       "      <td>103.0</td>\n",
       "    </tr>\n",
       "    <tr>\n",
       "      <th>5</th>\n",
       "      <td>0</td>\n",
       "      <td>W</td>\n",
       "      <td>46</td>\n",
       "      <td>1</td>\n",
       "      <td>23.0</td>\n",
       "      <td>0.0</td>\n",
       "      <td>0</td>\n",
       "      <td>0</td>\n",
       "      <td>0</td>\n",
       "      <td>285.0</td>\n",
       "      <td>130</td>\n",
       "      <td>84</td>\n",
       "      <td>23.0</td>\n",
       "      <td>85.0</td>\n",
       "      <td>85.0</td>\n",
       "    </tr>\n",
       "  </tbody>\n",
       "</table>\n",
       "</div>"
      ],
      "text/plain": [
       "   ZehnJahreKHK Geschlecht  Alter  Raucher  ZigProTag  BDMedikamente  \\\n",
       "1             0          M     39        0        0.0            0.0   \n",
       "2             0          W     46        0        0.0            0.0   \n",
       "3             0          M     48        1       20.0            0.0   \n",
       "4             1          W     61        1       30.0            0.0   \n",
       "5             0          W     46        1       23.0            0.0   \n",
       "\n",
       "   Schlaganfall  ArtHypertonie  Diabetes  GesCholesterin  Systolisch  \\\n",
       "1             0              0         0           195.0         106   \n",
       "2             0              0         0           250.0         121   \n",
       "3             0              0         0           245.0         128   \n",
       "4             0              1         0           225.0         150   \n",
       "5             0              0         0           285.0         130   \n",
       "\n",
       "   Diastolisch   BMI  Herzfrequenz  Blutzucker  \n",
       "1           70  27.0          80.0        77.0  \n",
       "2           81  29.0          95.0        76.0  \n",
       "3           80  25.0          75.0        70.0  \n",
       "4           95  29.0          65.0       103.0  \n",
       "5           84  23.0          85.0        85.0  "
      ]
     },
     "execution_count": 2,
     "metadata": {},
     "output_type": "execute_result"
    }
   ],
   "source": [
    "data = pd.read_excel(\"C:\\\\Users\\\\Tim\\\\Desktop\\\\Buchprojekt KI Medizin\\\\Programmierung\\\\Framingham_KHK.xlsx\", sheet_name = \"Tabelle1\")\n",
    "\n",
    "data = data.dropna()\n",
    "\n",
    "data.head()"
   ]
  },
  {
   "cell_type": "code",
   "execution_count": 4,
   "id": "36d79bb5",
   "metadata": {},
   "outputs": [
    {
     "data": {
      "text/html": [
       "<div>\n",
       "<style scoped>\n",
       "    .dataframe tbody tr th:only-of-type {\n",
       "        vertical-align: middle;\n",
       "    }\n",
       "\n",
       "    .dataframe tbody tr th {\n",
       "        vertical-align: top;\n",
       "    }\n",
       "\n",
       "    .dataframe thead th {\n",
       "        text-align: right;\n",
       "    }\n",
       "</style>\n",
       "<table border=\"1\" class=\"dataframe\">\n",
       "  <thead>\n",
       "    <tr style=\"text-align: right;\">\n",
       "      <th></th>\n",
       "      <th>ZehnJahreKHK</th>\n",
       "      <th>Alter</th>\n",
       "      <th>Raucher</th>\n",
       "      <th>ZigProTag</th>\n",
       "      <th>BDMedikamente</th>\n",
       "      <th>Schlaganfall</th>\n",
       "      <th>ArtHypertonie</th>\n",
       "      <th>Diabetes</th>\n",
       "      <th>GesCholesterin</th>\n",
       "      <th>Systolisch</th>\n",
       "      <th>Diastolisch</th>\n",
       "      <th>BMI</th>\n",
       "      <th>Herzfrequenz</th>\n",
       "      <th>Blutzucker</th>\n",
       "      <th>Geschlecht_M</th>\n",
       "      <th>Geschlecht_W</th>\n",
       "    </tr>\n",
       "  </thead>\n",
       "  <tbody>\n",
       "    <tr>\n",
       "      <th>1</th>\n",
       "      <td>0</td>\n",
       "      <td>39</td>\n",
       "      <td>0</td>\n",
       "      <td>0.0</td>\n",
       "      <td>0.0</td>\n",
       "      <td>0</td>\n",
       "      <td>0</td>\n",
       "      <td>0</td>\n",
       "      <td>195.0</td>\n",
       "      <td>106</td>\n",
       "      <td>70</td>\n",
       "      <td>27.0</td>\n",
       "      <td>80.0</td>\n",
       "      <td>77.0</td>\n",
       "      <td>1</td>\n",
       "      <td>0</td>\n",
       "    </tr>\n",
       "    <tr>\n",
       "      <th>2</th>\n",
       "      <td>0</td>\n",
       "      <td>46</td>\n",
       "      <td>0</td>\n",
       "      <td>0.0</td>\n",
       "      <td>0.0</td>\n",
       "      <td>0</td>\n",
       "      <td>0</td>\n",
       "      <td>0</td>\n",
       "      <td>250.0</td>\n",
       "      <td>121</td>\n",
       "      <td>81</td>\n",
       "      <td>29.0</td>\n",
       "      <td>95.0</td>\n",
       "      <td>76.0</td>\n",
       "      <td>0</td>\n",
       "      <td>1</td>\n",
       "    </tr>\n",
       "    <tr>\n",
       "      <th>3</th>\n",
       "      <td>0</td>\n",
       "      <td>48</td>\n",
       "      <td>1</td>\n",
       "      <td>20.0</td>\n",
       "      <td>0.0</td>\n",
       "      <td>0</td>\n",
       "      <td>0</td>\n",
       "      <td>0</td>\n",
       "      <td>245.0</td>\n",
       "      <td>128</td>\n",
       "      <td>80</td>\n",
       "      <td>25.0</td>\n",
       "      <td>75.0</td>\n",
       "      <td>70.0</td>\n",
       "      <td>1</td>\n",
       "      <td>0</td>\n",
       "    </tr>\n",
       "    <tr>\n",
       "      <th>4</th>\n",
       "      <td>1</td>\n",
       "      <td>61</td>\n",
       "      <td>1</td>\n",
       "      <td>30.0</td>\n",
       "      <td>0.0</td>\n",
       "      <td>0</td>\n",
       "      <td>1</td>\n",
       "      <td>0</td>\n",
       "      <td>225.0</td>\n",
       "      <td>150</td>\n",
       "      <td>95</td>\n",
       "      <td>29.0</td>\n",
       "      <td>65.0</td>\n",
       "      <td>103.0</td>\n",
       "      <td>0</td>\n",
       "      <td>1</td>\n",
       "    </tr>\n",
       "    <tr>\n",
       "      <th>5</th>\n",
       "      <td>0</td>\n",
       "      <td>46</td>\n",
       "      <td>1</td>\n",
       "      <td>23.0</td>\n",
       "      <td>0.0</td>\n",
       "      <td>0</td>\n",
       "      <td>0</td>\n",
       "      <td>0</td>\n",
       "      <td>285.0</td>\n",
       "      <td>130</td>\n",
       "      <td>84</td>\n",
       "      <td>23.0</td>\n",
       "      <td>85.0</td>\n",
       "      <td>85.0</td>\n",
       "      <td>0</td>\n",
       "      <td>1</td>\n",
       "    </tr>\n",
       "  </tbody>\n",
       "</table>\n",
       "</div>"
      ],
      "text/plain": [
       "   ZehnJahreKHK  Alter  Raucher  ZigProTag  BDMedikamente  Schlaganfall  \\\n",
       "1             0     39        0        0.0            0.0             0   \n",
       "2             0     46        0        0.0            0.0             0   \n",
       "3             0     48        1       20.0            0.0             0   \n",
       "4             1     61        1       30.0            0.0             0   \n",
       "5             0     46        1       23.0            0.0             0   \n",
       "\n",
       "   ArtHypertonie  Diabetes  GesCholesterin  Systolisch  Diastolisch   BMI  \\\n",
       "1              0         0           195.0         106           70  27.0   \n",
       "2              0         0           250.0         121           81  29.0   \n",
       "3              0         0           245.0         128           80  25.0   \n",
       "4              1         0           225.0         150           95  29.0   \n",
       "5              0         0           285.0         130           84  23.0   \n",
       "\n",
       "   Herzfrequenz  Blutzucker  Geschlecht_M  Geschlecht_W  \n",
       "1          80.0        77.0             1             0  \n",
       "2          95.0        76.0             0             1  \n",
       "3          75.0        70.0             1             0  \n",
       "4          65.0       103.0             0             1  \n",
       "5          85.0        85.0             0             1  "
      ]
     },
     "execution_count": 4,
     "metadata": {},
     "output_type": "execute_result"
    }
   ],
   "source": [
    "data_new = pd.get_dummies(data, columns = [\"Geschlecht\"])\n",
    "\n",
    "data_new.head()"
   ]
  },
  {
   "cell_type": "code",
   "execution_count": 5,
   "id": "ddaab79f",
   "metadata": {},
   "outputs": [],
   "source": [
    "x = data_new.iloc[:, 11]\n",
    "\n",
    "y = data_new.iloc[:, 9]"
   ]
  },
  {
   "cell_type": "code",
   "execution_count": 6,
   "id": "0c190649",
   "metadata": {},
   "outputs": [
    {
     "data": {
      "text/plain": [
       "1    27.0\n",
       "2    29.0\n",
       "3    25.0\n",
       "4    29.0\n",
       "5    23.0\n",
       "Name: BMI, dtype: float64"
      ]
     },
     "execution_count": 6,
     "metadata": {},
     "output_type": "execute_result"
    }
   ],
   "source": [
    "x.head()"
   ]
  },
  {
   "cell_type": "code",
   "execution_count": 7,
   "id": "6ae595a2",
   "metadata": {},
   "outputs": [
    {
     "data": {
      "text/plain": [
       "1    106\n",
       "2    121\n",
       "3    128\n",
       "4    150\n",
       "5    130\n",
       "Name: Systolisch, dtype: int64"
      ]
     },
     "execution_count": 7,
     "metadata": {},
     "output_type": "execute_result"
    }
   ],
   "source": [
    "y.head()"
   ]
  },
  {
   "cell_type": "markdown",
   "id": "64c03a2c",
   "metadata": {},
   "source": [
    "## Berechnung der Regressionsgerade"
   ]
  },
  {
   "cell_type": "code",
   "execution_count": 8,
   "id": "b7a73b90",
   "metadata": {},
   "outputs": [
    {
     "data": {
      "text/plain": [
       "<matplotlib.collections.PathCollection at 0x19f4fa3f310>"
      ]
     },
     "execution_count": 8,
     "metadata": {},
     "output_type": "execute_result"
    },
    {
     "data": {
      "image/png": "[encoded data removed]",
      "text/plain": [
       "<Figure size 432x288 with 1 Axes>"
      ]
     },
     "metadata": {
      "needs_background": "light"
     },
     "output_type": "display_data"
    }
   ],
   "source": [
    "plt.xlabel(\"BMI\")\n",
    "plt.ylabel(\"Systolischer Blutdruck\")\n",
    "plt.scatter(x, y, c = \"royalblue\")"
   ]
  },
  {
   "cell_type": "code",
   "execution_count": 9,
   "id": "b9957a2f",
   "metadata": {
    "scrolled": true
   },
   "outputs": [
    {
     "name": "stdout",
     "output_type": "stream",
     "text": [
      "f(x) = 1.7808402593843886 * x + 86.48413789669348\n"
     ]
    },
    {
     "data": {
      "image/png": "[encoded data removed]",
      "text/plain": [
       "<Figure size 432x288 with 1 Axes>"
      ]
     },
     "metadata": {
      "needs_background": "light"
     },
     "output_type": "display_data"
    }
   ],
   "source": [
    "plt.xlabel(\"BMI\")\n",
    "plt.ylabel(\"Systolischer Blutdruck\")\n",
    "plt.scatter(x, y, c = \"lightgrey\")\n",
    "\n",
    "xy_mean = mean(x * y)\n",
    "\n",
    "m = (xy_mean - mean(x) * mean(y)) / ((mean(x**2)) - ((mean(x)**2)))\n",
    "t = mean(y) - m * mean(x)\n",
    "\n",
    "plt.plot(x, m * x + t)\n",
    "\n",
    "print(\"f(x) =\", m, \"* x +\", t)"
   ]
  },
  {
   "cell_type": "code",
   "execution_count": 1,
   "id": "af4bddbc",
   "metadata": {},
   "outputs": [
    {
     "name": "stdout",
     "output_type": "stream",
     "text": [
      "Wie lautet der BMI (in kg/m²)? 25\n",
      "Der vorhergesagte systolische Blutdruck lautet: 131.00514438130313 mmHg\n"
     ]
    }
   ],
   "source": [
    "bmi = int(input(\"Wie lautet der BMI (in kg/m²)? \"))\n",
    "\n",
    "syst = 1.7808402593844028 * bmi + 86.48413789669307\n",
    "\n",
    "print(\"Der vorhergesagte systolische Blutdruck lautet:\", syst, \"mmHg\")"
   ]
  },
  {
   "cell_type": "markdown",
   "id": "7647295a",
   "metadata": {},
   "source": [
    "## Multiple lineare Regression"
   ]
  },
  {
   "cell_type": "code",
   "execution_count": 18,
   "id": "f169111b",
   "metadata": {},
   "outputs": [],
   "source": [
    "x = data_new.iloc[:, [11]]\n",
    "\n",
    "y = data_new.iloc[:, 9]\n",
    "\n",
    "x_train, x_test, y_train, y_test = train_test_split(x, y, test_size = 0.15)"
   ]
  },
  {
   "cell_type": "code",
   "execution_count": 19,
   "id": "ebafe403",
   "metadata": {},
   "outputs": [],
   "source": [
    "model_1 = LinearRegression()\n",
    "\n",
    "model_1.fit(x_train, y_train)\n",
    "\n",
    "y_pred_1 = model_1.predict(x_test)"
   ]
  },
  {
   "cell_type": "code",
   "execution_count": 20,
   "id": "ef23c0e8",
   "metadata": {},
   "outputs": [
    {
     "name": "stdout",
     "output_type": "stream",
     "text": [
      "R²: 0.09994345168301311\n"
     ]
    }
   ],
   "source": [
    "r2 = r2_score(y_test, y_pred_1)\n",
    "\n",
    "print(\"R²:\", r2)"
   ]
  },
  {
   "cell_type": "code",
   "execution_count": 15,
   "id": "c8422fcc",
   "metadata": {},
   "outputs": [],
   "source": [
    "x = data_new.iloc[:, [1, 2, 3, 4, 5, 6, 7, 8, 11, 12, 13, 14]]\n",
    "\n",
    "y = data_new.iloc[:, 9]\n",
    "\n",
    "x_train, x_test, y_train, y_test = train_test_split(x, y, test_size = 0.15)"
   ]
  },
  {
   "cell_type": "code",
   "execution_count": 16,
   "id": "06462093",
   "metadata": {},
   "outputs": [],
   "source": [
    "model_2 = LinearRegression()\n",
    "\n",
    "model_2.fit(x_train, y_train)\n",
    "\n",
    "y_pred_2 = model_2.predict(x_test)"
   ]
  },
  {
   "cell_type": "code",
   "execution_count": 17,
   "id": "ef718afd",
   "metadata": {},
   "outputs": [
    {
     "name": "stdout",
     "output_type": "stream",
     "text": [
      "R²: 0.5420689893166064\n"
     ]
    }
   ],
   "source": [
    "r2 = r2_score(y_test, y_pred_2)\n",
    "\n",
    "print(\"R²:\", r2)"
   ]
  }
 ],
 "metadata": {
  "kernelspec": {
   "display_name": "Python 3 (ipykernel)",
   "language": "python",
   "name": "python3"
  },
  "language_info": {
   "codemirror_mode": {
    "name": "ipython",
    "version": 3
   },
   "file_extension": ".py",
   "mimetype": "text/x-python",
   "name": "python",
   "nbconvert_exporter": "python",
   "pygments_lexer": "ipython3",
   "version": "3.9.7"
  }
 },
 "nbformat": 4,
 "nbformat_minor": 5
}
