{
 "cells": [
  {
   "cell_type": "markdown",
   "metadata": {},
   "source": [
    "# Variablen und Eingaben"
   ]
  },
  {
   "cell_type": "code",
   "execution_count": 1,
   "metadata": {},
   "outputs": [
    {
     "data": {
      "text/plain": [
       "7"
      ]
     },
     "execution_count": 1,
     "metadata": {},
     "output_type": "execute_result"
    }
   ],
   "source": [
    "3 + 4"
   ]
  },
  {
   "cell_type": "code",
   "execution_count": 3,
   "metadata": {},
   "outputs": [],
   "source": [
    "import tensorflow as tf"
   ]
  },
  {
   "cell_type": "code",
   "execution_count": 2,
   "metadata": {},
   "outputs": [
    {
     "data": {
      "text/plain": [
       "4"
      ]
     },
     "execution_count": 2,
     "metadata": {},
     "output_type": "execute_result"
    }
   ],
   "source": [
    "2 * 2"
   ]
  },
  {
   "cell_type": "code",
   "execution_count": 3,
   "metadata": {},
   "outputs": [
    {
     "data": {
      "text/plain": [
       "3.5"
      ]
     },
     "execution_count": 3,
     "metadata": {},
     "output_type": "execute_result"
    }
   ],
   "source": [
    "11.4 - 7.9"
   ]
  },
  {
   "cell_type": "code",
   "execution_count": 4,
   "metadata": {},
   "outputs": [
    {
     "data": {
      "text/plain": [
       "3.2767527675276753"
      ]
     },
     "execution_count": 4,
     "metadata": {},
     "output_type": "execute_result"
    }
   ],
   "source": [
    "888/271"
   ]
  },
  {
   "cell_type": "code",
   "execution_count": 5,
   "metadata": {},
   "outputs": [
    {
     "name": "stdout",
     "output_type": "stream",
     "text": [
      "Ich lerne Python!\n"
     ]
    }
   ],
   "source": [
    "print(\"Ich lerne Python!\")"
   ]
  },
  {
   "cell_type": "code",
   "execution_count": 6,
   "metadata": {},
   "outputs": [
    {
     "name": "stdout",
     "output_type": "stream",
     "text": [
      "Pi ist definiert als 3,14159...\n"
     ]
    }
   ],
   "source": [
    "print(\"Pi ist definiert als 3,14159...\")"
   ]
  },
  {
   "cell_type": "code",
   "execution_count": 7,
   "metadata": {},
   "outputs": [
    {
     "data": {
      "text/plain": [
       "17"
      ]
     },
     "execution_count": 7,
     "metadata": {},
     "output_type": "execute_result"
    }
   ],
   "source": [
    "x = 5\n",
    "x + 15 - 3"
   ]
  },
  {
   "cell_type": "code",
   "execution_count": 8,
   "metadata": {},
   "outputs": [
    {
     "name": "stdout",
     "output_type": "stream",
     "text": [
      "12.2\n"
     ]
    }
   ],
   "source": [
    "y = 7.2\n",
    "z = x + y\n",
    "\n",
    "print(z)"
   ]
  },
  {
   "cell_type": "code",
   "execution_count": 9,
   "metadata": {},
   "outputs": [
    {
     "name": "stdout",
     "output_type": "stream",
     "text": [
      "12.2\n"
     ]
    }
   ],
   "source": [
    "# Das ist ein Kommentar\n",
    "# Er wird nicht mit ausgeführt\n",
    "\n",
    "\"\"\"\n",
    "Das\n",
    "hier\n",
    "auch\n",
    "\"\"\"\n",
    "\n",
    "y = 7.2\n",
    "z = x + y\n",
    "\n",
    "print(z)"
   ]
  },
  {
   "cell_type": "code",
   "execution_count": 10,
   "metadata": {},
   "outputs": [
    {
     "name": "stdout",
     "output_type": "stream",
     "text": [
      "Wie heißt du? Tim\n",
      "Tim\n"
     ]
    }
   ],
   "source": [
    "name = input(\"Wie heißt du? \")\n",
    "\n",
    "print(name)"
   ]
  },
  {
   "cell_type": "code",
   "execution_count": 1,
   "metadata": {},
   "outputs": [
    {
     "name": "stdout",
     "output_type": "stream",
     "text": [
      "Wie heißt du? Tim\n",
      "Wie alt bist du? 25\n",
      "Du heißt Tim und bist 25 Jahre alt\n"
     ]
    }
   ],
   "source": [
    "name = input(\"Wie heißt du? \")\n",
    "age = input(\"Wie alt bist du? \")\n",
    "\n",
    "print(\"Du heißt\", name, \"und bist\", age, \"Jahre alt\")"
   ]
  },
  {
   "cell_type": "code",
   "execution_count": 12,
   "metadata": {},
   "outputs": [
    {
     "name": "stdout",
     "output_type": "stream",
     "text": [
      "Wie heißt du? Tim\n"
     ]
    },
    {
     "data": {
      "text/plain": [
       "3"
      ]
     },
     "execution_count": 12,
     "metadata": {},
     "output_type": "execute_result"
    }
   ],
   "source": [
    "name = input(\"Wie heißt du? \")\n",
    "\n",
    "len(name)"
   ]
  },
  {
   "cell_type": "code",
   "execution_count": 2,
   "metadata": {},
   "outputs": [
    {
     "name": "stdout",
     "output_type": "stream",
     "text": [
      "Wie alt bist du? 25\n"
     ]
    },
    {
     "ename": "TypeError",
     "evalue": "can only concatenate str (not \"int\") to str",
     "output_type": "error",
     "traceback": [
      "\u001b[1;31m---------------------------------------------------------------------------\u001b[0m",
      "\u001b[1;31mTypeError\u001b[0m                                 Traceback (most recent call last)",
      "\u001b[1;32m~\\AppData\\Local\\Temp/ipykernel_8160/1539935476.py\u001b[0m in \u001b[0;36m<module>\u001b[1;34m\u001b[0m\n\u001b[0;32m      1\u001b[0m \u001b[0mage\u001b[0m \u001b[1;33m=\u001b[0m \u001b[0minput\u001b[0m\u001b[1;33m(\u001b[0m\u001b[1;34m\"Wie alt bist du? \"\u001b[0m\u001b[1;33m)\u001b[0m\u001b[1;33m\u001b[0m\u001b[1;33m\u001b[0m\u001b[0m\n\u001b[1;32m----> 2\u001b[1;33m \u001b[0mage\u001b[0m \u001b[1;33m=\u001b[0m \u001b[0mage\u001b[0m \u001b[1;33m+\u001b[0m \u001b[1;36m1\u001b[0m\u001b[1;33m\u001b[0m\u001b[1;33m\u001b[0m\u001b[0m\n\u001b[0m\u001b[0;32m      3\u001b[0m \u001b[1;33m\u001b[0m\u001b[0m\n\u001b[0;32m      4\u001b[0m \u001b[0mprint\u001b[0m \u001b[1;33m(\u001b[0m\u001b[1;34m\"Nächsten Geburtstag wirst du\"\u001b[0m\u001b[1;33m,\u001b[0m \u001b[0mage\u001b[0m\u001b[1;33m)\u001b[0m\u001b[1;33m\u001b[0m\u001b[1;33m\u001b[0m\u001b[0m\n",
      "\u001b[1;31mTypeError\u001b[0m: can only concatenate str (not \"int\") to str"
     ]
    }
   ],
   "source": [
    "age = input(\"Wie alt bist du? \")\n",
    "age = age + 1\n",
    "\n",
    "print (\"Nächsten Geburtstag wirst du\", age)"
   ]
  },
  {
   "cell_type": "code",
   "execution_count": 3,
   "metadata": {},
   "outputs": [
    {
     "name": "stdout",
     "output_type": "stream",
     "text": [
      "Wie alt bist du? 26\n",
      "Nächsten Geburtstag wirst du 27\n"
     ]
    }
   ],
   "source": [
    "age = int(input(\"Wie alt bist du? \"))\n",
    "age = age + 1\n",
    "\n",
    "print (\"Nächsten Geburtstag wirst du\", age)"
   ]
  },
  {
   "cell_type": "code",
   "execution_count": 15,
   "metadata": {},
   "outputs": [
    {
     "name": "stdout",
     "output_type": "stream",
     "text": [
      "Nenne eine Temperatur in Grad Celsius 23.4\n",
      "23.4 Grad Celsius entspricht -249.74999999999997 Kelvin\n"
     ]
    }
   ],
   "source": [
    "centigrate = float(input(\"Nenne eine Temperatur in Grad Celsius \"))\n",
    "kelvin = centigrate - 273.15\n",
    "\n",
    "print (centigrate, \"Grad Celsius entspricht\", kelvin, \"Kelvin\")"
   ]
  },
  {
   "cell_type": "markdown",
   "metadata": {},
   "source": [
    "# Mathematik"
   ]
  },
  {
   "cell_type": "code",
   "execution_count": 16,
   "metadata": {},
   "outputs": [
    {
     "name": "stdout",
     "output_type": "stream",
     "text": [
      "100 343 0.0001\n"
     ]
    }
   ],
   "source": [
    "a = 10**2\n",
    "b = 7**3\n",
    "c = 10**-4\n",
    "\n",
    "print(a, b, c)"
   ]
  },
  {
   "cell_type": "code",
   "execution_count": 17,
   "metadata": {},
   "outputs": [
    {
     "data": {
      "text/plain": [
       "10.0"
      ]
     },
     "execution_count": 17,
     "metadata": {},
     "output_type": "execute_result"
    }
   ],
   "source": [
    "100**0.5"
   ]
  },
  {
   "cell_type": "code",
   "execution_count": 18,
   "metadata": {},
   "outputs": [
    {
     "data": {
      "text/plain": [
       "10.0"
      ]
     },
     "execution_count": 18,
     "metadata": {},
     "output_type": "execute_result"
    }
   ],
   "source": [
    "import math\n",
    "\n",
    "math.sqrt(100)"
   ]
  },
  {
   "cell_type": "code",
   "execution_count": 19,
   "metadata": {},
   "outputs": [
    {
     "name": "stdout",
     "output_type": "stream",
     "text": [
      "Pi: 3.141592653589793\n",
      "e: 2.718281828459045\n"
     ]
    }
   ],
   "source": [
    "print(\"Pi:\", math.pi)\n",
    "\n",
    "print(\"e:\", math.e)"
   ]
  },
  {
   "cell_type": "code",
   "execution_count": 20,
   "metadata": {},
   "outputs": [
    {
     "name": "stdout",
     "output_type": "stream",
     "text": [
      "3.14\n",
      "2.71828\n",
      "12.0\n"
     ]
    }
   ],
   "source": [
    "print(round(math.pi, 2))\n",
    "\n",
    "print(round(math.e, 5))\n",
    "\n",
    "print(round(12.345, 0))"
   ]
  },
  {
   "cell_type": "code",
   "execution_count": 21,
   "metadata": {},
   "outputs": [
    {
     "name": "stdout",
     "output_type": "stream",
     "text": [
      "Nenne eine erste Zahl: 17\n",
      "Nenne eine zweite Zahl: 4\n",
      "17 geteilt durch 4 ist 4 Rest 1\n"
     ]
    }
   ],
   "source": [
    "num1 = int(input(\"Nenne eine erste Zahl: \"))\n",
    "num2 = int(input(\"Nenne eine zweite Zahl: \"))\n",
    "\n",
    "result = num1//num2\n",
    "remainder = num1%num2\n",
    "\n",
    "print(num1, \"geteilt durch\", num2, \"ist\", result, \"Rest\", remainder)"
   ]
  },
  {
   "cell_type": "markdown",
   "metadata": {},
   "source": [
    "# If-Anweisungen"
   ]
  },
  {
   "cell_type": "code",
   "execution_count": 22,
   "metadata": {},
   "outputs": [
    {
     "name": "stdout",
     "output_type": "stream",
     "text": [
      "5 ist eine positive Zahl\n"
     ]
    }
   ],
   "source": [
    "x = 5\n",
    "\n",
    "if x < 0:\n",
    "    print (x, \"ist eine negative Zahl\")\n",
    "elif x == 0:\n",
    "    print (x, \"ist 0\")\n",
    "else:\n",
    "    print (x, \"ist eine positive Zahl\")"
   ]
  },
  {
   "cell_type": "code",
   "execution_count": 23,
   "metadata": {},
   "outputs": [
    {
     "name": "stdout",
     "output_type": "stream",
     "text": [
      "Wie heißt du? Tim\n",
      "Tim ist ein eher kurzer Name\n",
      "Wie heißt du? Laura\n",
      "Laura ist ein eher langer Name\n"
     ]
    }
   ],
   "source": [
    "name1 = input(\"Wie heißt du? \")\n",
    "\n",
    "length = len(name1)\n",
    "\n",
    "if length < 5:\n",
    "    print (name1, \"ist ein eher kurzer Name\")\n",
    "else:\n",
    "    print (name1, \"ist ein eher langer Name\")\n",
    "    \n",
    "name2 = input(\"Wie heißt du? \")\n",
    "\n",
    "length = len(name2)\n",
    "\n",
    "if length < 5:\n",
    "    print (name2, \"ist ein eher kurzer Name\")\n",
    "else:\n",
    "    print (name2, \"ist ein eher langer Name\")"
   ]
  },
  {
   "cell_type": "code",
   "execution_count": 24,
   "metadata": {},
   "outputs": [
    {
     "name": "stdout",
     "output_type": "stream",
     "text": [
      "Was ist deine präferierte medizinische Fachrichtung? Neurologie\n",
      "Neurologie ist nicht so meins - ich präferiere innere Medizin\n"
     ]
    }
   ],
   "source": [
    "subject = input(\"Was ist deine präferierte medizinische Fachrichtung? \")\n",
    "\n",
    "if subject == \"Innere Medizin\" or subject == \"innere Medizin\" or subject == \"Innere\":\n",
    "    print (\"Ich mag auch innere Medizin!\")\n",
    "else:\n",
    "    print (subject, \"ist nicht so meins - ich präferiere innere Medizin\")"
   ]
  },
  {
   "cell_type": "markdown",
   "metadata": {},
   "source": [
    "# For-Schleifen"
   ]
  },
  {
   "cell_type": "code",
   "execution_count": 25,
   "metadata": {},
   "outputs": [
    {
     "name": "stdout",
     "output_type": "stream",
     "text": [
      "1\n",
      "2\n",
      "3\n",
      "4\n"
     ]
    }
   ],
   "source": [
    "for i in range (1,5):\n",
    "    print(i)"
   ]
  },
  {
   "cell_type": "code",
   "execution_count": 26,
   "metadata": {},
   "outputs": [
    {
     "name": "stdout",
     "output_type": "stream",
     "text": [
      "1\n",
      "3\n",
      "5\n",
      "7\n",
      "9\n"
     ]
    }
   ],
   "source": [
    "for i in range (1,10,2):\n",
    "    print(i)"
   ]
  },
  {
   "cell_type": "code",
   "execution_count": 27,
   "metadata": {},
   "outputs": [
    {
     "name": "stdout",
     "output_type": "stream",
     "text": [
      "Python\n",
      "Python\n",
      "Python\n",
      "Python\n",
      "Python\n"
     ]
    }
   ],
   "source": [
    "for i in range (0,5):\n",
    "    print(\"Python\")"
   ]
  },
  {
   "cell_type": "code",
   "execution_count": 28,
   "metadata": {},
   "outputs": [
    {
     "name": "stdout",
     "output_type": "stream",
     "text": [
      "Nenne eine Zahl: 4\n",
      "1\n",
      "2\n",
      "3\n",
      "4\n"
     ]
    }
   ],
   "source": [
    "num = int(input(\"Nenne eine Zahl: \"))\n",
    "\n",
    "if num <=5:\n",
    "    for i in range (1,num+1):\n",
    "        print(i)\n",
    "else:\n",
    "    print(\"Nicht genug Platz\")"
   ]
  },
  {
   "cell_type": "markdown",
   "metadata": {},
   "source": [
    "# While-Schleifen"
   ]
  },
  {
   "cell_type": "code",
   "execution_count": 29,
   "metadata": {},
   "outputs": [
    {
     "name": "stdout",
     "output_type": "stream",
     "text": [
      "1\n",
      "2\n",
      "3\n",
      "4\n",
      "5\n",
      "6\n"
     ]
    }
   ],
   "source": [
    "num = 0\n",
    "\n",
    "while num <= 5:\n",
    "    num = num + 1\n",
    "    print(num)"
   ]
  },
  {
   "cell_type": "code",
   "execution_count": 4,
   "metadata": {},
   "outputs": [
    {
     "name": "stdout",
     "output_type": "stream",
     "text": [
      "Weiter geht's!\n",
      "Möchtest du noch einmal? Ja\n",
      "Weiter geht's!\n",
      "Möchtest du noch einmal? ja\n",
      "Weiter geht's!\n",
      "Möchtest du noch einmal? nein\n",
      "Das war's\n"
     ]
    }
   ],
   "source": [
    "again = \"Ja\"\n",
    "\n",
    "while again == \"Ja\" or again == \"ja\":\n",
    "    print(\"Weiter geht's!\")\n",
    "    again = input(\"Möchtest du noch einmal? \")\n",
    "\n",
    "print(\"Das war's\")"
   ]
  },
  {
   "cell_type": "code",
   "execution_count": 2,
   "metadata": {},
   "outputs": [
    {
     "name": "stdout",
     "output_type": "stream",
     "text": [
      "Weiter geht's!\n",
      "Möchtest du noch einmal? Ja\n",
      "Weiter geht's!\n",
      "Möchtest du noch einmal? ja\n",
      "Weiter geht's!\n",
      "Möchtest du noch einmal? nein\n",
      "Das war's\n"
     ]
    }
   ],
   "source": [
    "again = \"Ja\"\n",
    "\n",
    "while True:\n",
    "    if again == \"Ja\" or again == \"ja\":\n",
    "        print(\"Weiter geht's!\")\n",
    "        again = input(\"Möchtest du noch einmal? \")\n",
    "    else:\n",
    "        break\n",
    "\n",
    "print(\"Das war's\")"
   ]
  },
  {
   "cell_type": "markdown",
   "metadata": {},
   "source": [
    "# Tuple, Listen, Dictionaries"
   ]
  },
  {
   "cell_type": "markdown",
   "metadata": {},
   "source": [
    "## Tuple"
   ]
  },
  {
   "cell_type": "code",
   "execution_count": 4,
   "metadata": {},
   "outputs": [
    {
     "name": "stdout",
     "output_type": "stream",
     "text": [
      "('Gehirn', 'Lunge', 'Herz', 'Leber')\n"
     ]
    }
   ],
   "source": [
    "organ_tuple = (\"Gehirn\", \"Lunge\", \"Herz\", \"Leber\")\n",
    "\n",
    "print(organ_tuple)"
   ]
  },
  {
   "cell_type": "code",
   "execution_count": 5,
   "metadata": {},
   "outputs": [
    {
     "name": "stdout",
     "output_type": "stream",
     "text": [
      "Leber\n"
     ]
    }
   ],
   "source": [
    "print(organ_tuple[3])"
   ]
  },
  {
   "cell_type": "code",
   "execution_count": 6,
   "metadata": {},
   "outputs": [
    {
     "data": {
      "text/plain": [
       "4"
      ]
     },
     "execution_count": 6,
     "metadata": {},
     "output_type": "execute_result"
    }
   ],
   "source": [
    "len(organ_tuple)"
   ]
  },
  {
   "cell_type": "markdown",
   "metadata": {},
   "source": [
    "## Listen"
   ]
  },
  {
   "cell_type": "code",
   "execution_count": null,
   "metadata": {},
   "outputs": [],
   "source": [
    "organ_list = [\"Gehirn\", \"Lunge\", \"Herz\", \"Leber\"]\n",
    "\n",
    "print(organ_list)"
   ]
  },
  {
   "cell_type": "code",
   "execution_count": null,
   "metadata": {},
   "outputs": [],
   "source": [
    "print(organ_list[3])"
   ]
  },
  {
   "cell_type": "code",
   "execution_count": null,
   "metadata": {},
   "outputs": [],
   "source": [
    "len(organ_list)"
   ]
  },
  {
   "cell_type": "code",
   "execution_count": null,
   "metadata": {},
   "outputs": [],
   "source": [
    "organ_list.append(\"Niere\")\n",
    "\n",
    "print(organ_list)"
   ]
  },
  {
   "cell_type": "code",
   "execution_count": null,
   "metadata": {},
   "outputs": [],
   "source": [
    "organ_list.insert(0, \"Darm\")\n",
    "\n",
    "print(organ_list)"
   ]
  },
  {
   "cell_type": "code",
   "execution_count": null,
   "metadata": {},
   "outputs": [],
   "source": [
    "del organ_list[1]\n",
    "\n",
    "print(organ_list)"
   ]
  },
  {
   "cell_type": "code",
   "execution_count": null,
   "metadata": {},
   "outputs": [],
   "source": [
    "organ_list.sort()\n",
    "\n",
    "print(organ_list)"
   ]
  },
  {
   "cell_type": "code",
   "execution_count": null,
   "metadata": {},
   "outputs": [],
   "source": [
    "numbers = []\n",
    "\n",
    "for i in range(3):\n",
    "    num = int(input(\"Gib eine Zahl ein: \"))\n",
    "    numbers.append(num)\n",
    "\n",
    "while True:\n",
    "    again = input(\"Möchtest du eine weitere Zahl hinzufügen? \")\n",
    "    if again == \"Ja\" or again == \"ja\":\n",
    "        num = int(input(\"Gib eine weitere Zahl ein: \"))\n",
    "        numbers.append(num)\n",
    "    else:\n",
    "        break\n",
    "    \n",
    "numbers.sort()\n",
    "\n",
    "print(numbers)"
   ]
  },
  {
   "cell_type": "code",
   "execution_count": null,
   "metadata": {},
   "outputs": [],
   "source": [
    "two_dim_list = [[1, 2, 3], \n",
    "                [4, 5, 6]]\n",
    "\n",
    "print(two_dim_list)"
   ]
  },
  {
   "cell_type": "code",
   "execution_count": null,
   "metadata": {},
   "outputs": [],
   "source": [
    "three_dim_list = [[[1, 2, 3], \n",
    "                   [4, 5, 6]], \n",
    "             \n",
    "                  [[7, 8, 9], \n",
    "                   [10, 11, 12]]]\n",
    "\n",
    "print(three_dim_list)"
   ]
  },
  {
   "cell_type": "markdown",
   "metadata": {},
   "source": [
    "## Dictionaries"
   ]
  },
  {
   "cell_type": "code",
   "execution_count": null,
   "metadata": {},
   "outputs": [],
   "source": [
    "organ_dictionary = {1: \"Gehirn\", 2: \"Lunge\", 6: \"Herz\", 4: \"Leber\"}\n",
    "\n",
    "print(organ_dictionary)"
   ]
  },
  {
   "cell_type": "code",
   "execution_count": null,
   "metadata": {},
   "outputs": [],
   "source": [
    "print(organ_dictionary[6])"
   ]
  },
  {
   "cell_type": "code",
   "execution_count": null,
   "metadata": {},
   "outputs": [],
   "source": [
    "len(organ_dictionary)"
   ]
  },
  {
   "cell_type": "code",
   "execution_count": null,
   "metadata": {},
   "outputs": [],
   "source": [
    "organ_dictionary[3] = \"Milz\"\n",
    "\n",
    "print(organ_dictionary)"
   ]
  },
  {
   "cell_type": "code",
   "execution_count": null,
   "metadata": {},
   "outputs": [],
   "source": [
    "organ_dictionary[2] = \"Magen\"\n",
    "\n",
    "print(organ_dictionary)"
   ]
  },
  {
   "cell_type": "code",
   "execution_count": null,
   "metadata": {
    "scrolled": true
   },
   "outputs": [],
   "source": [
    "sorted_dictionary = dict(sorted(organ_dictionary.items()))\n",
    "\n",
    "print(sorted_dictionary)"
   ]
  },
  {
   "cell_type": "code",
   "execution_count": null,
   "metadata": {},
   "outputs": [],
   "source": [
    "two_dim_dict = {1: {\"A\": 1, \"B\": 2, \"C\": 3}, \n",
    "                2: {\"A\": 4, \"B\": 5, \"C\": 6}}\n",
    "\n",
    "print(two_dim_dict)"
   ]
  },
  {
   "cell_type": "code",
   "execution_count": null,
   "metadata": {},
   "outputs": [],
   "source": [
    "three_dim_dict = {1: {1: {\"A\": 1, \"B\": 2, \"C\": 3}, \n",
    "                      2: {\"A\": 4, \"B\": 5, \"C\": 6}}, \n",
    "                  \n",
    "                  2: {3: {\"A\": 1, \"B\": 2, \"C\": 3}, \n",
    "                      4: {\"A\": 4, \"B\": 5, \"C\": 6}}}\n",
    "\n",
    "print(three_dim_dict)"
   ]
  },
  {
   "cell_type": "markdown",
   "metadata": {},
   "source": [
    "# Arrays"
   ]
  },
  {
   "cell_type": "code",
   "execution_count": null,
   "metadata": {},
   "outputs": [],
   "source": [
    "import numpy as np"
   ]
  },
  {
   "cell_type": "code",
   "execution_count": null,
   "metadata": {},
   "outputs": [],
   "source": [
    "one_dim_array = np.array([1, 2, 3])\n",
    "\n",
    "print(one_dim_array)\n",
    "\n",
    "print(\"Dimension:\", one_dim_array.ndim)\n",
    "\n",
    "print(\"Shape:\", one_dim_array.shape)"
   ]
  },
  {
   "cell_type": "code",
   "execution_count": null,
   "metadata": {},
   "outputs": [],
   "source": [
    "two_dim_array = np.array([[1, 2, 3],\n",
    "                          [4, 5, 6],\n",
    "                          [7, 8 , 9]])\n",
    "\n",
    "print(two_dim_array)\n",
    "\n",
    "print(\"Dimension:\", two_dim_array.ndim)\n",
    "\n",
    "print(\"Shape:\", two_dim_array.shape)"
   ]
  },
  {
   "cell_type": "code",
   "execution_count": null,
   "metadata": {},
   "outputs": [],
   "source": [
    "three_dim_array = np.array([[[1, 2, 3],\n",
    "                            [4, 5, 6],\n",
    "                            [7, 8 , 9]], \n",
    "                          \n",
    "                           [[1, 2, 3],\n",
    "                            [4, 5, 6],\n",
    "                            [7, 8 , 9]]])\n",
    "\n",
    "print(three_dim_array)\n",
    "\n",
    "print(\"Dimension:\", three_dim_array.ndim)\n",
    "\n",
    "print(\"Shape:\", three_dim_array.shape)"
   ]
  },
  {
   "cell_type": "code",
   "execution_count": null,
   "metadata": {},
   "outputs": [],
   "source": [
    "two_dim_array = np.array([[1, 2, 3],\n",
    "                          [4, 5, 6]])\n",
    "\n",
    "print(\"Shape:\", two_dim_array.shape)\n",
    "\n",
    "print(\"Zweite Spalte:\", two_dim_array[:, 1])"
   ]
  },
  {
   "cell_type": "code",
   "execution_count": null,
   "metadata": {},
   "outputs": [],
   "source": [
    "two_dim_array = np.array([[1, 2, 3],\n",
    "                          [4, 5, 6],\n",
    "                          [7, 8 , 9]])\n",
    "\n",
    "print(two_dim_array * 2)\n",
    "print()\n",
    "print(two_dim_array + 5)"
   ]
  },
  {
   "cell_type": "markdown",
   "metadata": {},
   "source": [
    "# Lösungen zu den Aufgaben"
   ]
  },
  {
   "cell_type": "code",
   "execution_count": 8,
   "metadata": {},
   "outputs": [
    {
     "name": "stdout",
     "output_type": "stream",
     "text": [
      "Vorname: Laura\n",
      "Nachname: Velezmoro\n",
      "Hallo, Laura Velezmoro\n"
     ]
    }
   ],
   "source": [
    "# Aufgabe 1\n",
    "\n",
    "name = input(\"Vorname: \")\n",
    "surname = input(\"Nachname: \")\n",
    "\n",
    "print(\"Hallo,\", name, surname)"
   ]
  },
  {
   "cell_type": "code",
   "execution_count": 9,
   "metadata": {},
   "outputs": [
    {
     "name": "stdout",
     "output_type": "stream",
     "text": [
      "Wie viel Euro hat das Abendessen gekostet? 35.30\n",
      "Wie viele haben zu Abend gegessen? 2\n",
      "Jede Person muss 17.65 Euro zahlen\n"
     ]
    }
   ],
   "source": [
    "# Aufgabe 2\n",
    "\n",
    "bill = float(input(\"Wie viel Euro hat das Abendessen gekostet? \"))\n",
    "guests = int(input(\"Wie viele haben zu Abend gegessen? \"))\n",
    "\n",
    "priceperperson = bill/guests\n",
    "\n",
    "print (\"Jede Person muss\", priceperperson, \"Euro zahlen\")"
   ]
  },
  {
   "cell_type": "code",
   "execution_count": 11,
   "metadata": {},
   "outputs": [
    {
     "name": "stdout",
     "output_type": "stream",
     "text": [
      "Nenne einen x-Wert:5\n",
      "y = 78\n"
     ]
    }
   ],
   "source": [
    "# Aufgabe 3\n",
    "\n",
    "x = int(input(\"Nenne einen x-Wert:\"))\n",
    "y = 3 * (x**2) + 3\n",
    "\n",
    "print(\"y =\", y)"
   ]
  },
  {
   "cell_type": "code",
   "execution_count": 13,
   "metadata": {},
   "outputs": [
    {
     "name": "stdout",
     "output_type": "stream",
     "text": [
      "Definiere einen Radius: 2\n",
      "Definiere eine Höhe: 4\n",
      "50\n"
     ]
    }
   ],
   "source": [
    "# Aufgabe 4\n",
    "\n",
    "import math\n",
    "\n",
    "radius = int(input(\"Definiere einen Radius: \"))\n",
    "height = int(input(\"Definiere eine Höhe: \"))\n",
    "\n",
    "zylinder = (math.pi * (radius**2)) * height\n",
    "\n",
    "print(int(zylinder))"
   ]
  },
  {
   "cell_type": "code",
   "execution_count": 15,
   "metadata": {},
   "outputs": [
    {
     "name": "stdout",
     "output_type": "stream",
     "text": [
      "Bitte nenne eine Zahl zwischen 5 und 10: 11\n",
      "Zu groß\n"
     ]
    }
   ],
   "source": [
    "# Aufgabe 5\n",
    "\n",
    "number = int(input(\"Bitte nenne eine Zahl zwischen 5 und 10: \"))\n",
    "\n",
    "if number <= 5:\n",
    "    print(\"Zu klein\")\n",
    "elif number >= 10:\n",
    "    print(\"Zu groß\")\n",
    "else: \n",
    "    print(\"Vielen Dank\")"
   ]
  },
  {
   "cell_type": "code",
   "execution_count": 16,
   "metadata": {},
   "outputs": [
    {
     "name": "stdout",
     "output_type": "stream",
     "text": [
      "Wie alt bist du? 24\n",
      "Du darfst Bier, Wein und Schnaps trinken - Prost!\n"
     ]
    }
   ],
   "source": [
    "# Aufgabe 6\n",
    "\n",
    "age = int(input(\"Wie alt bist du? \"))\n",
    "\n",
    "if age < 16:\n",
    "    print(\"Du darfst keinen Alkohol trinken\")\n",
    "elif age >= 16 and age < 18:\n",
    "    print(\"Du darfst Bier und Wein trinken\")\n",
    "else:\n",
    "    print(\"Du darfst Bier, Wein und Schnaps trinken - Prost!\")"
   ]
  },
  {
   "cell_type": "code",
   "execution_count": 17,
   "metadata": {},
   "outputs": [
    {
     "name": "stdout",
     "output_type": "stream",
     "text": [
      "Wie heißt du: Tim\n",
      "Nenne eine Zahl: 3\n",
      "Tim\n",
      "Tim\n",
      "Tim\n"
     ]
    }
   ],
   "source": [
    "# Aufgabe 7\n",
    "\n",
    "name = input(\"Wie heißt du: \")\n",
    "\n",
    "num = int(input(\"Nenne eine Zahl: \"))\n",
    "\n",
    "for i in range (1, num+1):\n",
    "    print(name)"
   ]
  },
  {
   "cell_type": "code",
   "execution_count": 2,
   "metadata": {},
   "outputs": [
    {
     "name": "stdout",
     "output_type": "stream",
     "text": [
      "Wie viele Patient*innen sollen operiert werden? 4\n",
      "Wie lautet der nächste Name? Frau Fischer\n",
      "Frau Fischer wurde zum OP-Plan hinzugefügt\n",
      "\n",
      "Wie lautet der nächste Name? Herr Meier\n",
      "Herr Meier wurde zum OP-Plan hinzugefügt\n",
      "\n",
      "Wie lautet der nächste Name? Frau Yilmaz\n",
      "Frau Yilmaz wurde zum OP-Plan hinzugefügt\n",
      "\n",
      "Wie lautet der nächste Name? Herr Li\n",
      "Herr Li wurde zum OP-Plan hinzugefügt\n",
      "\n"
     ]
    }
   ],
   "source": [
    "# Aufgabe 8\n",
    "\n",
    "num = int(input(\"Wie viele Patient*innen sollen operiert werden? \"))\n",
    "\n",
    "if num <= 10:\n",
    "    for i in range (1,num+1):\n",
    "        name = input(\"Wie lautet der nächste Name? \")\n",
    "        print(name, \"wurde zum OP-Plan hinzugefügt\")\n",
    "        print()\n",
    "else:\n",
    "    print(\"Zu viele Patient*innen\")"
   ]
  },
  {
   "cell_type": "code",
   "execution_count": 21,
   "metadata": {},
   "outputs": [
    {
     "name": "stdout",
     "output_type": "stream",
     "text": [
      "Nenne eine Zahl: 5\n",
      "Nenne eine weitere Zahl: 3\n",
      "Möchtest du eine Zahl hinzuaddieren? ja\n",
      "Nenne eine weitere Zahl: 2\n",
      "Möchtest du eine Zahl hinzuaddieren? nein\n",
      "Die Summe beträgt 10\n"
     ]
    }
   ],
   "source": [
    "# Aufgabe 9\n",
    "\n",
    "num = int(input(\"Nenne eine Zahl: \"))\n",
    "\n",
    "again = \"Ja\"\n",
    "\n",
    "while again == \"Ja\" or again == \"ja\":\n",
    "    num2 = int(input(\"Nenne eine weitere Zahl: \"))\n",
    "    num = num + num2\n",
    "    again = input(\"Möchtest du eine Zahl hinzuaddieren? \")\n",
    "\n",
    "print(\"Die Summe beträgt\", num)"
   ]
  },
  {
   "cell_type": "code",
   "execution_count": 23,
   "metadata": {},
   "outputs": [
    {
     "name": "stdout",
     "output_type": "stream",
     "text": [
      "Nenne eine medizinische Fachrichtung: Radiologie\n",
      "['Radiologie', 'Kardiologie', 'Dermatologie']\n"
     ]
    }
   ],
   "source": [
    "# Aufgabe 10\n",
    "\n",
    "medical_field = [\"Radiologie\", \"Kardiologie\", \"Dermatologie\"]\n",
    "\n",
    "new = input(\"Nenne eine medizinische Fachrichtung: \")\n",
    "\n",
    "if new not in medical_field:\n",
    "    medical_field.append(new)\n",
    "\n",
    "print(medical_field)"
   ]
  },
  {
   "cell_type": "code",
   "execution_count": 24,
   "metadata": {},
   "outputs": [
    {
     "name": "stdout",
     "output_type": "stream",
     "text": [
      "Gib einen Namen ein: Meier\n",
      "Gib einen Namen ein: Fischer\n",
      "Gib einen Namen ein: Müller\n",
      "Möchtest du einen weiteren Namen hinzufügen? ja\n",
      "Gib eine weiteren Namen ein: Weber\n",
      "Möchtest du einen weiteren Namen hinzufügen? nein\n",
      "['Fischer', 'Meier', 'Müller', 'Weber']\n"
     ]
    }
   ],
   "source": [
    "# Aufgabe 11\n",
    "\n",
    "OP_Plan = []\n",
    "\n",
    "for i in range(3):\n",
    "    name = input(\"Gib einen Namen ein: \")\n",
    "    OP_Plan.append(name)\n",
    "\n",
    "while True:\n",
    "    again = input(\"Möchtest du einen weiteren Namen hinzufügen? \")\n",
    "    if again == \"Ja\" or again == \"ja\":\n",
    "        name = input(\"Gib eine weiteren Namen ein: \")\n",
    "        OP_Plan.append(name)\n",
    "    else:\n",
    "        break\n",
    "    \n",
    "OP_Plan.sort()\n",
    "\n",
    "print(OP_Plan)"
   ]
  },
  {
   "cell_type": "code",
   "execution_count": 25,
   "metadata": {},
   "outputs": [
    {
     "name": "stdout",
     "output_type": "stream",
     "text": [
      "Nenne eine medizinische Fachrichtung: Onkologie\n",
      "{1: 'Radiologie', 2: 'Kardiologie', 3: 'Dermatologie', 4: 'Onkologie'}\n"
     ]
    }
   ],
   "source": [
    "# Aufgabe 12\n",
    "\n",
    "medical_field = {1: \"Radiologie\", 2: \"Kardiologie\", 3: \"Dermatologie\"}\n",
    "\n",
    "new = input(\"Nenne eine medizinische Fachrichtung: \")\n",
    "\n",
    "if new not in medical_field.values():\n",
    "    medical_field[4] = new\n",
    "\n",
    "print(medical_field)"
   ]
  },
  {
   "cell_type": "code",
   "execution_count": 26,
   "metadata": {},
   "outputs": [
    {
     "name": "stdout",
     "output_type": "stream",
     "text": [
      "[[ 1  2  3]\n",
      " [ 4  5  6]\n",
      " [ 7  8  9]\n",
      " [10 11 12]]\n",
      "Shape: (4, 3)\n",
      "Erste zwei Zeilen [[1 2 3]\n",
      " [4 5 6]]\n"
     ]
    }
   ],
   "source": [
    "# Aufgabe 13\n",
    "\n",
    "import numpy as np\n",
    "\n",
    "two_dim_array = np.array([[1, 2, 3],\n",
    "                          [4, 5, 6],\n",
    "                          [7, 8, 9],\n",
    "                          [10, 11, 12]])\n",
    "\n",
    "print(two_dim_array)\n",
    "\n",
    "print(\"Shape:\", two_dim_array.shape)\n",
    "\n",
    "print(\"Erste zwei Zeilen\", two_dim_array[0:2])"
   ]
  },
  {
   "cell_type": "code",
   "execution_count": 27,
   "metadata": {},
   "outputs": [
    {
     "name": "stdout",
     "output_type": "stream",
     "text": [
      "[[-2  0  2]\n",
      " [ 4  6  8]]\n"
     ]
    }
   ],
   "source": [
    "# Aufgabe 14\n",
    "\n",
    "import numpy as np\n",
    "\n",
    "A = np.array([[1, 2, 3],\n",
    "              [4, 5, 6]])\n",
    "\n",
    "y = 2 * A - 4\n",
    "\n",
    "print(y)"
   ]
  },
  {
   "cell_type": "code",
   "execution_count": 28,
   "metadata": {},
   "outputs": [
    {
     "name": "stdout",
     "output_type": "stream",
     "text": [
      "[[0.73105858 0.88079708 0.95257413]\n",
      " [0.98201379 0.99330715 0.99752738]]\n"
     ]
    }
   ],
   "source": [
    "# Aufgabe 15\n",
    "\n",
    "import math\n",
    "\n",
    "A = np.array([[1, 2, 3],\n",
    "              [4, 5, 6]])\n",
    "\n",
    "y = 1/(1 + (math.e**(-A)))\n",
    "\n",
    "print(y)"
   ]
  }
 ],
 "metadata": {
  "kernelspec": {
   "display_name": "Python 3 (ipykernel)",
   "language": "python",
   "name": "python3"
  },
  "language_info": {
   "codemirror_mode": {
    "name": "ipython",
    "version": 3
   },
   "file_extension": ".py",
   "mimetype": "text/x-python",
   "name": "python",
   "nbconvert_exporter": "python",
   "pygments_lexer": "ipython3",
   "version": "3.9.7"
  }
 },
 "nbformat": 4,
 "nbformat_minor": 2
}
