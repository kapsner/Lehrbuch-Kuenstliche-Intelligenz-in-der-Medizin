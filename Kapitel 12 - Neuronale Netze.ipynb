{
  "cells": [
    {
      "cell_type": "markdown",
      "id": "d28770bd",
      "metadata": {
        "id": "d28770bd"
      },
      "source": [
        "# Neuronale Netze"
      ]
    },
    {
      "cell_type": "markdown",
      "id": "2f057f17",
      "metadata": {
        "id": "2f057f17"
      },
      "source": [
        "## Quelle der Daten\n",
        "\n",
        "https://www.kaggle.com/datasets/captainozlem/framingham-chd-preprocessed-data (zuletzt aufgerufen: 01/2024)\n",
        "\n",
        "https://www.framinghamheartstudy.org/ (zuletzt aufgerufen: 01/2024)"
      ]
    },
    {
      "cell_type": "markdown",
      "id": "233fb050",
      "metadata": {
        "id": "233fb050"
      },
      "source": [
        "## Installation der Bibliotheken"
      ]
    },
    {
      "cell_type": "code",
      "execution_count": null,
      "id": "dd256c71",
      "metadata": {
        "id": "dd256c71"
      },
      "outputs": [],
      "source": [
        "# Importieren der benötigten Bibliotheken\n",
        "import pandas as pd\n",
        "import matplotlib.pyplot as plt\n",
        "from imblearn.over_sampling import SMOTE\n",
        "from sklearn.model_selection import train_test_split\n",
        "import tensorflow as tf"
      ]
    },
    {
      "cell_type": "markdown",
      "id": "91ef73bf",
      "metadata": {
        "id": "91ef73bf"
      },
      "source": [
        "## Einlesen der Daten"
      ]
    },
    {
      "cell_type": "code",
      "execution_count": null,
      "id": "266e9151",
      "metadata": {
        "id": "266e9151"
      },
      "outputs": [],
      "source": [
        "# Definieren der URL der Datenquelle und Laden der Daten in einen pandas DataFrame\n",
        "data_url = \"https://github.com/timwgnd/Lehrbuch-Kuenstliche-Intelligenz-in-der-Medizin/raw/refs/heads/main/FraminghamHeartStudy.xlsx\"\n",
        "data = pd.read_excel(io=data_url, sheet_name = \"Tabelle1\")\n",
        "\n",
        "# Entfernen von Zeilen mit fehlenden Werten\n",
        "data = data.dropna()\n",
        "\n",
        "# Anzeigen der ersten Zeilen des DataFrames\n",
        "print(data.head().to_markdown(index=False, tablefmt='psql'))"
      ]
    },
    {
      "cell_type": "code",
      "execution_count": null,
      "id": "7b5aaee1",
      "metadata": {
        "id": "7b5aaee1"
      },
      "outputs": [],
      "source": [
        "# Erstellen von Dummy-Variablen für die kategoriale Spalte \"Geschlecht\"\n",
        "data_new = pd.get_dummies(data, columns = [\"Geschlecht\"])\n",
        "\n",
        "# Anzeigen der ersten Zeilen des neuen DataFrames\n",
        "print(data_new.head().to_markdown(index=False, tablefmt='psql'))"
      ]
    },
    {
      "cell_type": "code",
      "execution_count": null,
      "id": "9b025aa7",
      "metadata": {
        "id": "9b025aa7"
      },
      "outputs": [],
      "source": [
        "# Zählen der Häufigkeit der einzelnen Werte in der Spalte \"Diabetes\" und Anzeigen in Tabellenform\n",
        "count_diabetes = data_new[\"Diabetes\"].value_counts()\n",
        "print(count_diabetes.to_markdown(tablefmt='psql'))\n",
        "\n",
        "# Erstellen eines Balkendiagramms zur Visualisierung der Verteilung\n",
        "count_diabetes.plot(kind = \"bar\", rot = 0)"
      ]
    },
    {
      "cell_type": "markdown",
      "id": "624b7bbe",
      "metadata": {
        "id": "624b7bbe"
      },
      "source": [
        "## Aufteilung der Daten und Resampling"
      ]
    },
    {
      "cell_type": "code",
      "execution_count": null,
      "id": "28a79fac",
      "metadata": {
        "id": "28a79fac"
      },
      "outputs": [],
      "source": [
        "# Aufteilen der Daten in Features (x) und Zielvariable (y)\n",
        "x = data_new.iloc[:, [1, 2, 3, 4, 5, 6, 8, 9, 10, 11, 12, 13, 14]]\n",
        "y = data_new.iloc[:, 7]"
      ]
    },
    {
      "cell_type": "code",
      "execution_count": null,
      "id": "a3f41c76",
      "metadata": {
        "id": "a3f41c76"
      },
      "outputs": [],
      "source": [
        "# Anzeigen der ersten Zeilen von x\n",
        "print(x.head().to_markdown(index=False, tablefmt='psql'))"
      ]
    },
    {
      "cell_type": "code",
      "execution_count": null,
      "id": "0969f6de",
      "metadata": {
        "id": "0969f6de"
      },
      "outputs": [],
      "source": [
        "# Anzeigen der ersten Zeilen von y\n",
        "print(y.head().to_markdown(index=False, tablefmt='psql'))"
      ]
    },
    {
      "cell_type": "code",
      "execution_count": null,
      "id": "ee103593",
      "metadata": {
        "id": "ee103593"
      },
      "outputs": [],
      "source": [
        "# Aufteilen der Daten in Trainings- und Testsets\n",
        "x_train, x_test, y_train, y_test = train_test_split(x, y, test_size = 0.15)"
      ]
    },
    {
      "cell_type": "code",
      "execution_count": null,
      "id": "a9926f4b",
      "metadata": {
        "id": "a9926f4b"
      },
      "outputs": [],
      "source": [
        "# Anwenden von SMOTE zur Überabtastung der Trainingsdaten\n",
        "sm = SMOTE()\n",
        "x_train_res, y_train_res = sm.fit_resample(x_train, y_train)\n",
        "\n",
        "# Anzeigen der Verteilung der Zielvariable nach SMOTE\n",
        "print(y_train_res.value_counts())"
      ]
    },
    {
      "cell_type": "markdown",
      "id": "0580df86",
      "metadata": {
        "id": "0580df86"
      },
      "source": [
        "## FCNN-Architektur"
      ]
    },
    {
      "cell_type": "code",
      "execution_count": null,
      "id": "ca68dde9",
      "metadata": {
        "id": "ca68dde9"
      },
      "outputs": [],
      "source": [
        "# Definieren der FCNN-Modellarchitektur\n",
        "model = tf.keras.models.Sequential()\n",
        "\n",
        "# Hinzufügen von Dense-Layern mit ReLU-Aktivierung\n",
        "model.add(tf.keras.layers.Dense(128, activation = tf.nn.relu))\n",
        "model.add(tf.keras.layers.Dense(256, activation = tf.nn.relu))\n",
        "model.add(tf.keras.layers.Dense(128, activation = tf.nn.relu))\n",
        "\n",
        "# Hinzufügen des Ausgabelayers mit Sigmoid-Aktivierung für binäre Klassifizierung\n",
        "model.add(tf.keras.layers.Dense(1, activation = tf.nn.sigmoid))"
      ]
    },
    {
      "cell_type": "markdown",
      "id": "71e47f69",
      "metadata": {
        "id": "71e47f69"
      },
      "source": [
        "## Modelltraining und -evaluation"
      ]
    },
    {
      "cell_type": "code",
      "execution_count": null,
      "id": "e51dbe7f",
      "metadata": {
        "id": "e51dbe7f"
      },
      "outputs": [],
      "source": [
        "# Kompilieren des Modells mit Adam-Optimizer und binärer Kreuzentropie als Loss-Funktion\n",
        "model.compile(optimizer = \"adam\",\n",
        "              loss = \"binary_crossentropy\",\n",
        "              metrics = [\"accuracy\"])"
      ]
    },
    {
      "cell_type": "code",
      "execution_count": null,
      "id": "57c21643",
      "metadata": {
        "id": "57c21643"
      },
      "outputs": [],
      "source": [
        "\"\"\"\n",
        "tf.keras.optimizers.Adam(\n",
        "    learning_rate = 0.001,\n",
        "    beta_1 = 0.9,\n",
        "    beta_2 = 0.999,\n",
        "    epsilon = 1e-07,\n",
        "    amsgrad = False,\n",
        "    name = \"adam\")\n",
        "\n",
        "tf.keras.losses.BinaryCrossentropy(\n",
        "    from_logits = False,\n",
        "    label_smoothing = 0.0,\n",
        "    axis = -1,\n",
        "    name = \"binary_crossentropy\")\n",
        "\n",
        "tf.keras.metrics.Accuracy(\n",
        "    name = \"accuracy\")\n",
        "\"\"\""
      ]
    },
    {
      "cell_type": "code",
      "execution_count": null,
      "id": "a7a86ad0",
      "metadata": {
        "id": "a7a86ad0"
      },
      "outputs": [],
      "source": [
        "# Trainieren des Modells\n",
        "model.fit(x_train_res, y_train_res, epochs = 10)"
      ]
    },
    {
      "cell_type": "code",
      "execution_count": null,
      "id": "f0b59430",
      "metadata": {
        "id": "f0b59430"
      },
      "outputs": [],
      "source": [
        "# Evaluieren des Modells auf den Testdaten\n",
        "eval_results = model.evaluate(x_test, y_test)\n",
        "print(\"[test loss, test accuracy]:\", eval_results)"
      ]
    }
  ],
  "metadata": {
    "colab": {
      "provenance": []
    },
    "kernelspec": {
      "display_name": "Python 3 (ipykernel)",
      "language": "python",
      "name": "python3"
    },
    "language_info": {
      "codemirror_mode": {
        "name": "ipython",
        "version": 3
      },
      "file_extension": ".py",
      "mimetype": "text/x-python",
      "name": "python",
      "nbconvert_exporter": "python",
      "pygments_lexer": "ipython3",
      "version": "3.9.7"
    }
  },
  "nbformat": 4,
  "nbformat_minor": 5
}
