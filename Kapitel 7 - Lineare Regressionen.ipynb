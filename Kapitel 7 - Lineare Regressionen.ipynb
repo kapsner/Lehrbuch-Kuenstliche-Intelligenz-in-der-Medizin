{
 "cells": [
  {
   "cell_type": "markdown",
   "id": "19c93daa",
   "metadata": {},
   "source": [
    "# Lineare Regressionen"
   ]
  },
  {
   "cell_type": "markdown",
   "id": "ee3512f0",
   "metadata": {},
   "source": [
    "## Quelle der Daten\n",
    "\n",
    "https://www.kaggle.com/datasets/captainozlem/framingham-chd-preprocessed-data (zuletzt aufgerufen: 01/2024)\n",
    "\n",
    "https://www.framinghamheartstudy.org/ (zuletzt aufgerufen: 01/2024)"
   ]
  },
  {
   "cell_type": "markdown",
   "id": "260a58c8",
   "metadata": {},
   "source": [
    "## Installation der Bibliotheken"
   ]
  },
  {
   "cell_type": "code",
   "execution_count": null,
   "id": "e7896afd",
   "metadata": {},
   "outputs": [],
   "source": [
    "# Importieren der benötigten Bibliotheken für Datenmanipulation,\n",
    "# mathematische Operationen, Visualisierung und maschinelles Lernen\n",
    "import pandas as pd\n",
    "\n",
    "import numpy as np\n",
    "\n",
    "from numpy.ma.core import mean\n",
    "\n",
    "import matplotlib.pyplot as plt\n",
    "\n",
    "from sklearn.model_selection import train_test_split\n",
    "\n",
    "from sklearn.linear_model import LinearRegression\n",
    "\n",
    "from sklearn.metrics import r2_score"
   ]
  },
  {
   "cell_type": "markdown",
   "id": "e4c0af2f",
   "metadata": {},
   "source": [
    "## Einlesen und Aufteilung der Daten "
   ]
  },
  {
   "cell_type": "code",
   "execution_count": null,
   "id": "c6892c1b",
   "metadata": {},
   "outputs": [],
   "source": [
    "# Laden der Daten von einer URL in einen Pandas DataFrame und Entfernen von Zeilen mit fehlenden Werten\n",
    "data_url = \"https://github.com/timwgnd/Lehrbuch-Kuenstliche-Intelligenz-in-der-Medizin/raw/refs/heads/main/FraminghamHeartStudy.xlsx\"\n",
    "data = pd.read_excel(io=data_url, sheet_name = \"Tabelle1\")\n",
    "\n",
    "data = data.dropna()\n",
    "\n",
    "print(data.head().to_markdown(index=False, tablefmt='psql'))"
   ]
  },
  {
   "cell_type": "code",
   "execution_count": null,
   "id": "36d79bb5",
   "metadata": {},
   "outputs": [],
   "source": [
    "# Konvertieren der kategorialen Spalte 'Geschlecht' in numerische Dummy-Variablen\n",
    "data_new = pd.get_dummies(data, columns = [\"Geschlecht\"])\n",
    "\n",
    "print(data_new.head().to_markdown(index=False, tablefmt='psql'))"
   ]
  },
  {
   "cell_type": "code",
   "execution_count": null,
   "id": "ddaab79f",
   "metadata": {},
   "outputs": [],
   "source": [
    "# Auswählen der Spalten 'BMI' (Index 11) und 'Systolisch' (Index 9) als unabhängige (x) und abhängige (y) Variablen\n",
    "x = data_new.iloc[:, 11]\n",
    "\n",
    "y = data_new.iloc[:, 9]"
   ]
  },
  {
   "cell_type": "code",
   "execution_count": null,
   "id": "0c190649",
   "metadata": {},
   "outputs": [],
   "source": [
    "# Anzeigen der ersten Zeilen der unabhängigen Variablen 'x' (BMI)\n",
    "print(x.head().to_markdown(index=False, tablefmt='psql'))"
   ]
  },
  {
   "cell_type": "code",
   "execution_count": null,
   "id": "6ae595a2",
   "metadata": {},
   "outputs": [],
   "source": [
    "# Anzeigen der ersten Zeilen der abhängigen Variablen 'y' (Systolischer Blutdruck)\n",
    "print(y.head().to_markdown(index=False, tablefmt='psql'))"
   ]
  },
  {
   "cell_type": "markdown",
   "id": "64c03a2c",
   "metadata": {},
   "source": [
    "## Berechnung der Regressionsgerade"
   ]
  },
  {
   "cell_type": "code",
   "execution_count": null,
   "id": "b7a73b90",
   "metadata": {},
   "outputs": [],
   "source": [
    "# Erstellen eines Scatter-Plots, der den Zusammenhang zwischen BMI und systolischem Blutdruck zeigt\n",
    "plt.xlabel(\"BMI\")\n",
    "plt.ylabel(\"Systolischer Blutdruck\")\n",
    "plt.scatter(x, y, c = \"royalblue\")"
   ]
  },
  {
   "cell_type": "code",
   "execution_count": null,
   "id": "b9957a2f",
   "metadata": {
    "scrolled": true
   },
   "outputs": [],
   "source": [
    "# Berechnen und Plotten der Regressionsgeraden für den Zusammenhang zwischen BMI und systolischem Blutdruck\n",
    "plt.xlabel(\"BMI\")\n",
    "plt.ylabel(\"Systolischer Blutdruck\")\n",
    "plt.scatter(x, y, c = \"lightgrey\")\n",
    "\n",
    "xy_mean = mean(x * y)\n",
    "\n",
    "m = (xy_mean - mean(x) * mean(y)) / ((mean(x**2)) - ((mean(x)**2)))\n",
    "t = mean(y) - m * mean(x)\n",
    "\n",
    "plt.plot(x, m * x + t)\n",
    "\n",
    "print(\"f(x) =\", m, \"* x +\", t)"
   ]
  },
  {
   "cell_type": "code",
   "execution_count": null,
   "id": "af4bddbc",
   "metadata": {},
   "outputs": [],
   "source": [
    "# Vorhersage des systolischen Blutdrucks basierend auf einem eingegebenen BMI-Wert\n",
    "# unter Verwendung der zuvor berechneten Regressionsgleichung\n",
    "bmi = int(input(\"Wie lautet der BMI (in kg/m²)? \"))\n",
    "\n",
    "syst = 1.7808402593844028 * bmi + 86.48413789669307\n",
    "\n",
    "print(\"Der vorhergesagte systolische Blutdruck lautet:\", syst, \"mmHg\")"
   ]
  },
  {
   "cell_type": "markdown",
   "id": "7647295a",
   "metadata": {},
   "source": [
    "## Multiple lineare Regression"
   ]
  },
  {
   "cell_type": "code",
   "execution_count": null,
   "id": "f169111b",
   "metadata": {},
   "outputs": [],
   "source": [
    "# Vorbereiten der Daten für eine einfache lineare Regression:\n",
    "# Auswahl von BMI als unabhängige Variable (x) und\n",
    "# systolischem Blutdruck als abhängige Variable (y) und\n",
    "# Aufteilung der Daten in Trainings- und Testsets\n",
    "x = data_new.iloc[:, [11]]\n",
    "\n",
    "y = data_new.iloc[:, 9]\n",
    "\n",
    "x_train, x_test, y_train, y_test = train_test_split(x, y, test_size = 0.15)"
   ]
  },
  {
   "cell_type": "code",
   "execution_count": null,
   "id": "ebafe403",
   "metadata": {},
   "outputs": [],
   "source": [
    "# Trainieren eines einfachen linearen Regressionsmodells mit den Trainingsdaten\n",
    "# und Vorhersage des systolischen Blutdrucks auf den Testdaten\n",
    "model_1 = LinearRegression()\n",
    "\n",
    "model_1.fit(x_train, y_train)\n",
    "\n",
    "y_pred_1 = model_1.predict(x_test)"
   ]
  },
  {
   "cell_type": "code",
   "execution_count": null,
   "id": "ef23c0e8",
   "metadata": {},
   "outputs": [],
   "source": [
    "# Berechnung des R²-Werts, um die Güte des einfachen linearen Regressionsmodells zu bewerten\n",
    "r2 = r2_score(y_test, y_pred_1)\n",
    "\n",
    "print(\"R²:\", r2)"
   ]
  },
  {
   "cell_type": "code",
   "execution_count": null,
   "id": "c8422fcc",
   "metadata": {},
   "outputs": [],
   "source": [
    "# Vorbereiten der Daten für eine multiple lineare Regression: Auswahl mehrerer unabhängiger Variablen\n",
    "# (Alter, Raucher, ZigProTag, etc.) und des systolischen Blutdrucks als abhängige Variable,\n",
    "# dann Aufteilung der Daten in Trainings- und Testsets\n",
    "x = data_new.iloc[:, [1, 2, 3, 4, 5, 6, 7, 8, 11, 12, 13, 14]]\n",
    "\n",
    "y = data_new.iloc[:, 9]\n",
    "\n",
    "x_train, x_test, y_train, y_test = train_test_split(x, y, test_size = 0.15)"
   ]
  },
  {
   "cell_type": "code",
   "execution_count": null,
   "id": "06462093",
   "metadata": {},
   "outputs": [],
   "source": [
    "# Trainieren eines multiplen linearen Regressionsmodells mit den ausgewählten Variablen\n",
    "# auf den Trainingsdaten und Vorhersage auf den Testdaten\n",
    "model_2 = LinearRegression()\n",
    "\n",
    "model_2.fit(x_train, y_train)\n",
    "\n",
    "y_pred_2 = model_2.predict(x_test)"
   ]
  },
  {
   "cell_type": "code",
   "execution_count": null,
   "id": "ef718afd",
   "metadata": {},
   "outputs": [],
   "source": [
    "# Berechnung des R²-Werts, um die Güte des multiplen linearen Regressionsmodells zu bewerten\n",
    "r2 = r2_score(y_test, y_pred_2)\n",
    "\n",
    "print(\"R²:\", r2)"
   ]
  }
 ],
 "metadata": {
  "kernelspec": {
   "display_name": "Python 3 (ipykernel)",
   "language": "python",
   "name": "python3"
  },
  "language_info": {
   "codemirror_mode": {
    "name": "ipython",
    "version": 3
   },
   "file_extension": ".py",
   "mimetype": "text/x-python",
   "name": "python",
   "nbconvert_exporter": "python",
   "pygments_lexer": "ipython3",
   "version": "3.9.7"
  }
 },
 "nbformat": 4,
 "nbformat_minor": 5
}
