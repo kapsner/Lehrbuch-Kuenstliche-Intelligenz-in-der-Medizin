{
 "cells": [
  {
   "cell_type": "markdown",
   "id": "c3b7a2cf",
   "metadata": {},
   "source": [
    "# Convolutional Neural Networks (CNNs)"
   ]
  },
  {
   "cell_type": "markdown",
   "id": "4ab2791d",
   "metadata": {},
   "source": [
    "## Quelle der Daten\n",
    "\n",
    "https://www.kaggle.com/datasets/tawsifurrahman/covid19-radiography-database?resource=download (zuletzt aufgerufen 01/2024)\n",
    "    \n",
    "M.E.H. Chowdhury, T. Rahman, A. Khandakar, R. Mazhar, M.A. Kadir, Z.B. Mahbub, K.R. Islam, M.S. Khan, A. Iqbal, N. Al-Emadi, M.B.I. Reaz, M. T. Islam, “Can AI help in screening Viral and COVID-19 pneumonia?” IEEE Access, Vol. 8, 2020, pp. 132665 - 132676.\n",
    "\n",
    "Rahman, T., Khandakar, A., Qiblawey, Y., Tahir, A., Kiranyaz, S., Kashem, S.B.A., Islam, M.T., Maadeed, S.A., Zughaier, S.M., Khan, M.S. and Chowdhury, M.E., 2020. Exploring the Effect of Image Enhancement Techniques on COVID-19 Detection using Chest X-ray Images."
   ]
  },
  {
   "cell_type": "markdown",
   "id": "c639378f",
   "metadata": {},
   "source": [
    "## Installation der Bibliotheken"
   ]
  },
  {
   "cell_type": "code",
   "execution_count": null,
   "id": "4aebd8c2",
   "metadata": {},
   "outputs": [],
   "source": [
    "import os\n",
    "\n",
    "import cv2\n",
    "\n",
    "import matplotlib.pyplot as plt\n",
    "\n",
    "import numpy as np\n",
    "\n",
    "from sklearn.model_selection import train_test_split\n",
    "\n",
    "import tensorflow as tf\n",
    "\n",
    "from tensorflow.keras.models import Sequential\n",
    "\n",
    "from tensorflow.keras.layers import Conv2D, MaxPooling2D, Flatten, Dense"
   ]
  },
  {
   "cell_type": "markdown",
   "id": "313d3373",
   "metadata": {},
   "source": [
    "## Einlesen und Präprozessierung der Daten"
   ]
  },
  {
   "cell_type": "code",
   "execution_count": null,
   "id": "92e851e4",
   "metadata": {},
   "outputs": [],
   "source": [
    "main_path = \"C:\\\\Users\\\\Tim\\\\Desktop\\\\Buchprojekt KI Medizin\\\\Programmierung\\\\COVID-19_Radiography_Dataset\"\n",
    "\n",
    "covid_dir = os.path.join(main_path, \"covid_images\")\n",
    "normal_dir = os.path.join(main_path, \"normal_images\")\n",
    "\n",
    "print(\"Anzahl Bilder mit COVID:\", len(os.listdir(covid_dir)))\n",
    "print(\"Anzahl normaler Bilder:\", len(os.listdir(normal_dir)))"
   ]
  },
  {
   "cell_type": "code",
   "execution_count": null,
   "id": "4153109b",
   "metadata": {},
   "outputs": [],
   "source": [
    "example_image = cv2.imread(os.path.join(covid_dir, \"COVID-1.png\"))\n",
    "\n",
    "plt.imshow(example_image)"
   ]
  },
  {
   "cell_type": "code",
   "execution_count": null,
   "id": "51eb1ed8",
   "metadata": {},
   "outputs": [],
   "source": [
    "example_image.shape"
   ]
  },
  {
   "cell_type": "code",
   "execution_count": null,
   "id": "b4f4b45c",
   "metadata": {},
   "outputs": [],
   "source": [
    "def loadImages(dir, size, label):\n",
    "  images = []\n",
    "  labels = []\n",
    "    \n",
    "  for i in range(len(size)):\n",
    "    img_path = dir + \"/\" + size[i]\n",
    "    img = cv2.imread(img_path)\n",
    "    img = img / 255.0\n",
    "    img = cv2.resize(img, (100, 100))\n",
    "    images.append(img)\n",
    "    labels.append(label)\n",
    "  \n",
    "  images = np.asarray(images)\n",
    "    \n",
    "  return images, labels"
   ]
  },
  {
   "cell_type": "code",
   "execution_count": null,
   "id": "3d9b7f30",
   "metadata": {},
   "outputs": [],
   "source": [
    "covid_images, covid_labels = loadImages(covid_dir, os.listdir(covid_dir), 1)\n",
    "\n",
    "len(covid_images), len(covid_labels)"
   ]
  },
  {
   "cell_type": "code",
   "execution_count": null,
   "id": "1cbe76fd",
   "metadata": {},
   "outputs": [],
   "source": [
    "normal_images, normal_labels = loadImages(normal_dir, os.listdir(normal_dir), 0)\n",
    "\n",
    "len(normal_images), len(normal_labels)"
   ]
  },
  {
   "cell_type": "markdown",
   "id": "199347f2",
   "metadata": {},
   "source": [
    "## Aufteilung der Daten"
   ]
  },
  {
   "cell_type": "code",
   "execution_count": null,
   "id": "2460adde",
   "metadata": {},
   "outputs": [],
   "source": [
    "x = np.r_[covid_images, normal_images]\n",
    "\n",
    "y = np.r_[covid_labels, normal_labels]"
   ]
  },
  {
   "cell_type": "code",
   "execution_count": null,
   "id": "04e37895",
   "metadata": {},
   "outputs": [],
   "source": [
    "x_train, x_test, y_train, y_test = train_test_split(x, y, test_size = 0.15)"
   ]
  },
  {
   "cell_type": "markdown",
   "id": "27b2bbd2",
   "metadata": {},
   "source": [
    "## CNN-Architektur"
   ]
  },
  {
   "cell_type": "code",
   "execution_count": null,
   "id": "2856a5ad",
   "metadata": {},
   "outputs": [],
   "source": [
    "print(x_test[0].shape)"
   ]
  },
  {
   "cell_type": "code",
   "execution_count": null,
   "id": "fc5b14bb",
   "metadata": {},
   "outputs": [],
   "source": [
    "model = Sequential()\n",
    "\n",
    "model.add(Conv2D(32, 3, input_shape = (100, 100, 3), activation = \"relu\"))\n",
    "model.add(MaxPooling2D())\n",
    "\n",
    "model.add(Conv2D(16, 3, activation = \"relu\"))\n",
    "model.add(MaxPooling2D())\n",
    "\n",
    "model.add(Conv2D(16, 3, activation = \"relu\"))\n",
    "model.add(MaxPooling2D())\n",
    "\n",
    "model.add(Flatten())\n",
    "model.add(Dense(512, activation = \"relu\"))\n",
    "model.add(Dense(256, activation = \"relu\"))\n",
    "model.add(Dense(1, activation = \"sigmoid\"))\n",
    "\n",
    "model.summary()"
   ]
  },
  {
   "cell_type": "markdown",
   "id": "7bae66b7",
   "metadata": {},
   "source": [
    "## Modelltraining und -evaluation"
   ]
  },
  {
   "cell_type": "code",
   "execution_count": null,
   "id": "92c0933c",
   "metadata": {},
   "outputs": [],
   "source": [
    "model.compile(optimizer = \"adam\",\n",
    "              loss = \"binary_crossentropy\",\n",
    "              metrics = \"accuracy\")"
   ]
  },
  {
   "cell_type": "code",
   "execution_count": null,
   "id": "241132b5",
   "metadata": {},
   "outputs": [],
   "source": [
    "model.fit(x_train, y_train, \n",
    "          batch_size = 32, epochs = 5, \n",
    "          validation_data = (x_test, y_test))"
   ]
  },
  {
   "cell_type": "code",
   "execution_count": null,
   "id": "f69e3a21",
   "metadata": {},
   "outputs": [],
   "source": [
    "plt.plot(model.history.history[\"accuracy\"], label = \"train_accuracy\")\n",
    "plt.plot(model.history.history[\"val_accuracy\"], label = \"test_accuracy\")\n",
    "plt.legend()\n",
    "plt.show()"
   ]
  },
  {
   "cell_type": "code",
   "execution_count": null,
   "id": "3055d923",
   "metadata": {},
   "outputs": [],
   "source": [
    "y_pred = model.predict(x_test)\n",
    "\n",
    "y_pred_bin = (y_pred > 0.5).astype(int)"
   ]
  },
  {
   "cell_type": "code",
   "execution_count": null,
   "id": "fd4dace2",
   "metadata": {},
   "outputs": [],
   "source": [
    "print(\"Label:\", y_test[0])\n",
    "\n",
    "print(\"Modell-Ausgabe:\", y_pred_bin[0])\n",
    "\n",
    "plt.imshow(x_test[0])"
   ]
  }
 ],
 "metadata": {
  "kernelspec": {
   "display_name": "Python 3 (ipykernel)",
   "language": "python",
   "name": "python3"
  },
  "language_info": {
   "codemirror_mode": {
    "name": "ipython",
    "version": 3
   },
   "file_extension": ".py",
   "mimetype": "text/x-python",
   "name": "python",
   "nbconvert_exporter": "python",
   "pygments_lexer": "ipython3",
   "version": "3.9.7"
  }
 },
 "nbformat": 4,
 "nbformat_minor": 5
}
